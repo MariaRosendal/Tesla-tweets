{
  "nbformat": 4,
  "nbformat_minor": 0,
  "metadata": {
    "colab": {
      "name": "Predicting_stock_price_(filtered_on_Tesla_topic))",
      "provenance": [],
      "collapsed_sections": [],
      "toc_visible": true
    },
    "kernelspec": {
      "display_name": "Python 3",
      "name": "python3"
    }
  },
  "cells": [
    {
      "cell_type": "markdown",
      "metadata": {
        "id": "L4Ozes6t2dkw"
      },
      "source": [
        "**Importing data**"
      ]
    },
    {
      "cell_type": "code",
      "metadata": {
        "id": "2YJc10XbyaqR"
      },
      "source": [
        "# Enable making data frames\n",
        "import pandas as pd\n",
        "\n",
        "# Importing numpy\n",
        "import numpy as np\n",
        "\n",
        "#For visualization\n",
        "import seaborn as sns\n",
        "import matplotlib.pyplot as plt\n",
        "sns.set_style(\"dark\")"
      ],
      "execution_count": 1,
      "outputs": []
    },
    {
      "cell_type": "markdown",
      "metadata": {
        "id": "FAYtUUZQ_SOf"
      },
      "source": [
        "To filter the tweets we must firstly download the tweet file before we concatenated the tweets on a daily basis (to only include Tesla tweets)"
      ]
    },
    {
      "cell_type": "code",
      "metadata": {
        "id": "yF3nc3Eb5Soi"
      },
      "source": [
        "elon_musk = pd.read_csv('https://raw.githubusercontent.com/MariaRosendal/Tesla-tweets/main/elon_musk_v2.csv')"
      ],
      "execution_count": 2,
      "outputs": []
    },
    {
      "cell_type": "code",
      "metadata": {
        "id": "h8HXvJ-K1Jna"
      },
      "source": [
        "# Make dates to datetime format\n",
        "elon_musk['date'] = pd.to_datetime(elon_musk.date)"
      ],
      "execution_count": 3,
      "outputs": []
    },
    {
      "cell_type": "code",
      "metadata": {
        "id": "gzrHLt2ciNEU"
      },
      "source": [
        "#Set the date as index\n",
        "elon_musk.set_index('date', inplace=True)"
      ],
      "execution_count": 4,
      "outputs": []
    },
    {
      "cell_type": "code",
      "metadata": {
        "colab": {
          "base_uri": "https://localhost:8080/",
          "height": 311
        },
        "id": "Fm8JI78I-bxZ",
        "outputId": "a08baa2d-0e8e-4d1d-da09-d01b746cf2a1"
      },
      "source": [
        "#Let's have a look\n",
        "elon_musk.head()"
      ],
      "execution_count": 5,
      "outputs": [
        {
          "output_type": "execute_result",
          "data": {
            "text/html": [
              "<div>\n",
              "<style scoped>\n",
              "    .dataframe tbody tr th:only-of-type {\n",
              "        vertical-align: middle;\n",
              "    }\n",
              "\n",
              "    .dataframe tbody tr th {\n",
              "        vertical-align: top;\n",
              "    }\n",
              "\n",
              "    .dataframe thead th {\n",
              "        text-align: right;\n",
              "    }\n",
              "</style>\n",
              "<table border=\"1\" class=\"dataframe\">\n",
              "  <thead>\n",
              "    <tr style=\"text-align: right;\">\n",
              "      <th></th>\n",
              "      <th>username</th>\n",
              "      <th>tweet</th>\n",
              "      <th>replies_count</th>\n",
              "      <th>retweets_count</th>\n",
              "      <th>likes_count</th>\n",
              "      <th>tweet_clean</th>\n",
              "    </tr>\n",
              "    <tr>\n",
              "      <th>date</th>\n",
              "      <th></th>\n",
              "      <th></th>\n",
              "      <th></th>\n",
              "      <th></th>\n",
              "      <th></th>\n",
              "      <th></th>\n",
              "    </tr>\n",
              "  </thead>\n",
              "  <tbody>\n",
              "    <tr>\n",
              "      <th>2020-11-16</th>\n",
              "      <td>elonmusk</td>\n",
              "      <td>@Maisie_Williams 🎶 Toss a bitcoin to ur Witcher 🎶</td>\n",
              "      <td>1148</td>\n",
              "      <td>3448</td>\n",
              "      <td>66981</td>\n",
              "      <td>🎶 Toss a bitcoin to ur Witcher 🎶</td>\n",
              "    </tr>\n",
              "    <tr>\n",
              "      <th>2020-11-16</th>\n",
              "      <td>elonmusk</td>\n",
              "      <td>@Kristennetten 😉</td>\n",
              "      <td>100</td>\n",
              "      <td>37</td>\n",
              "      <td>2203</td>\n",
              "      <td>😉</td>\n",
              "    </tr>\n",
              "    <tr>\n",
              "      <th>2020-11-16</th>\n",
              "      <td>elonmusk</td>\n",
              "      <td>@WhatsupFranks @michaelmina_lab CureVac, Moder...</td>\n",
              "      <td>72</td>\n",
              "      <td>75</td>\n",
              "      <td>1090</td>\n",
              "      <td>CureVac, Moderna  a few others. Tesla makes th...</td>\n",
              "    </tr>\n",
              "    <tr>\n",
              "      <th>2020-11-16</th>\n",
              "      <td>elonmusk</td>\n",
              "      <td>@michaelmina_lab Creating synthetic mRNA for c...</td>\n",
              "      <td>96</td>\n",
              "      <td>90</td>\n",
              "      <td>1221</td>\n",
              "      <td>Creating synthetic mRNA for cures/vaccines is ...</td>\n",
              "    </tr>\n",
              "    <tr>\n",
              "      <th>2020-11-16</th>\n",
              "      <td>elonmusk</td>\n",
              "      <td>@gaertner_anne @Neuro_Skeptic @DresdenTea @jud...</td>\n",
              "      <td>55</td>\n",
              "      <td>32</td>\n",
              "      <td>1412</td>\n",
              "      <td>Haha</td>\n",
              "    </tr>\n",
              "  </tbody>\n",
              "</table>\n",
              "</div>"
            ],
            "text/plain": [
              "            username  ...                                        tweet_clean\n",
              "date                  ...                                                   \n",
              "2020-11-16  elonmusk  ...                   🎶 Toss a bitcoin to ur Witcher 🎶\n",
              "2020-11-16  elonmusk  ...                                                  😉\n",
              "2020-11-16  elonmusk  ...  CureVac, Moderna  a few others. Tesla makes th...\n",
              "2020-11-16  elonmusk  ...  Creating synthetic mRNA for cures/vaccines is ...\n",
              "2020-11-16  elonmusk  ...                                               Haha\n",
              "\n",
              "[5 rows x 6 columns]"
            ]
          },
          "metadata": {
            "tags": []
          },
          "execution_count": 5
        }
      ]
    },
    {
      "cell_type": "markdown",
      "metadata": {
        "id": "2MRgfPa54BUW"
      },
      "source": [
        "# Filtering on \"Tesla\" topic\n",
        "\n",
        "In this section we filter out tweets that does not include words including \"Tesla\" or words related to the \"Tesla\" topics identified in the topic modelling"
      ]
    },
    {
      "cell_type": "code",
      "metadata": {
        "id": "J0rpvd9w8CVG"
      },
      "source": [
        "# We firstly make all words lower case in order to filter\n",
        "elon_musk['tweet'] = elon_musk['tweet'].str.lower()"
      ],
      "execution_count": 6,
      "outputs": []
    },
    {
      "cell_type": "code",
      "metadata": {
        "id": "EakvuviH4UDz"
      },
      "source": [
        "# Create colum defining if tweet contains words including Tesla or related words in \"Tesla topic\"\n",
        "elon_musk['tweet_keep'] = elon_musk['tweet'].str.contains(\"tesla|car\")\n",
        "#|video|order|mile|model|electric\n",
        "\n",
        "# Make a copy of the data frame only including tweets with above words \n",
        "elon_musk = elon_musk[elon_musk['tweet_keep'] == True].copy()\n",
        "\n",
        "## Remove top retweets column (no longer needed)\n",
        "elon_musk.drop('tweet_keep', axis=1, inplace=True)"
      ],
      "execution_count": 7,
      "outputs": []
    },
    {
      "cell_type": "code",
      "metadata": {
        "colab": {
          "base_uri": "https://localhost:8080/"
        },
        "id": "BnIkjw1g_MZi",
        "outputId": "d5c1f70e-550c-4e41-dbed-e041483e2684"
      },
      "source": [
        "elon_musk.shape"
      ],
      "execution_count": 8,
      "outputs": [
        {
          "output_type": "execute_result",
          "data": {
            "text/plain": [
              "(2302, 6)"
            ]
          },
          "metadata": {
            "tags": []
          },
          "execution_count": 8
        }
      ]
    },
    {
      "cell_type": "code",
      "metadata": {
        "colab": {
          "base_uri": "https://localhost:8080/",
          "height": 603
        },
        "id": "h3VG7ImV9hNT",
        "outputId": "67374b04-312c-4178-e54a-204d87618e51"
      },
      "source": [
        "elon_musk"
      ],
      "execution_count": 9,
      "outputs": [
        {
          "output_type": "execute_result",
          "data": {
            "text/html": [
              "<div>\n",
              "<style scoped>\n",
              "    .dataframe tbody tr th:only-of-type {\n",
              "        vertical-align: middle;\n",
              "    }\n",
              "\n",
              "    .dataframe tbody tr th {\n",
              "        vertical-align: top;\n",
              "    }\n",
              "\n",
              "    .dataframe thead th {\n",
              "        text-align: right;\n",
              "    }\n",
              "</style>\n",
              "<table border=\"1\" class=\"dataframe\">\n",
              "  <thead>\n",
              "    <tr style=\"text-align: right;\">\n",
              "      <th></th>\n",
              "      <th>username</th>\n",
              "      <th>tweet</th>\n",
              "      <th>replies_count</th>\n",
              "      <th>retweets_count</th>\n",
              "      <th>likes_count</th>\n",
              "      <th>tweet_clean</th>\n",
              "    </tr>\n",
              "    <tr>\n",
              "      <th>date</th>\n",
              "      <th></th>\n",
              "      <th></th>\n",
              "      <th></th>\n",
              "      <th></th>\n",
              "      <th></th>\n",
              "      <th></th>\n",
              "    </tr>\n",
              "  </thead>\n",
              "  <tbody>\n",
              "    <tr>\n",
              "      <th>2020-11-16</th>\n",
              "      <td>elonmusk</td>\n",
              "      <td>@whatsupfranks @michaelmina_lab curevac, moder...</td>\n",
              "      <td>72</td>\n",
              "      <td>75</td>\n",
              "      <td>1090</td>\n",
              "      <td>CureVac, Moderna  a few others. Tesla makes th...</td>\n",
              "    </tr>\n",
              "    <tr>\n",
              "      <th>2020-11-16</th>\n",
              "      <td>elonmusk</td>\n",
              "      <td>@samtalkstesla i’m ok, thanks for asking. no s...</td>\n",
              "      <td>240</td>\n",
              "      <td>120</td>\n",
              "      <td>2841</td>\n",
              "      <td>I’m ok, thanks for asking. No symptoms for pas...</td>\n",
              "    </tr>\n",
              "    <tr>\n",
              "      <th>2020-11-14</th>\n",
              "      <td>elonmusk</td>\n",
              "      <td>@teslaownerssv cool, but please be super cauti...</td>\n",
              "      <td>171</td>\n",
              "      <td>132</td>\n",
              "      <td>5748</td>\n",
              "      <td>Cool, but please be super cautious. Expect two...</td>\n",
              "    </tr>\n",
              "    <tr>\n",
              "      <th>2020-11-13</th>\n",
              "      <td>elonmusk</td>\n",
              "      <td>@john_beans @dirtytesla interesting</td>\n",
              "      <td>60</td>\n",
              "      <td>32</td>\n",
              "      <td>747</td>\n",
              "      <td>Interesting</td>\n",
              "    </tr>\n",
              "    <tr>\n",
              "      <th>2020-11-13</th>\n",
              "      <td>elonmusk</td>\n",
              "      <td>the carousel turns ever faster</td>\n",
              "      <td>2867</td>\n",
              "      <td>4369</td>\n",
              "      <td>84939</td>\n",
              "      <td>The carousel turns ever faster</td>\n",
              "    </tr>\n",
              "    <tr>\n",
              "      <th>...</th>\n",
              "      <td>...</td>\n",
              "      <td>...</td>\n",
              "      <td>...</td>\n",
              "      <td>...</td>\n",
              "      <td>...</td>\n",
              "      <td>...</td>\n",
              "    </tr>\n",
              "    <tr>\n",
              "      <th>2015-12-17</th>\n",
              "      <td>elonmusk</td>\n",
              "      <td>vance article on self-driving cars was inaccur...</td>\n",
              "      <td>80</td>\n",
              "      <td>503</td>\n",
              "      <td>1090</td>\n",
              "      <td>Vance article on self-driving cars was inaccurate</td>\n",
              "    </tr>\n",
              "    <tr>\n",
              "      <th>2015-11-24</th>\n",
              "      <td>elonmusk</td>\n",
              "      <td>@id_aa_carmack yep, good points. i hope you ge...</td>\n",
              "      <td>16</td>\n",
              "      <td>49</td>\n",
              "      <td>323</td>\n",
              "      <td>Yep, good points. I hope you get back into spa...</td>\n",
              "    </tr>\n",
              "    <tr>\n",
              "      <th>2015-11-24</th>\n",
              "      <td>elonmusk</td>\n",
              "      <td>@tobiasvdb the f9 booster can reach low orbit ...</td>\n",
              "      <td>11</td>\n",
              "      <td>63</td>\n",
              "      <td>208</td>\n",
              "      <td>The F9 booster can reach low orbit as a single...</td>\n",
              "    </tr>\n",
              "    <tr>\n",
              "      <th>2015-11-20</th>\n",
              "      <td>elonmusk</td>\n",
              "      <td>we are looking for hardcore software engineers...</td>\n",
              "      <td>762</td>\n",
              "      <td>3932</td>\n",
              "      <td>4670</td>\n",
              "      <td>We are looking for hardcore software engineers...</td>\n",
              "    </tr>\n",
              "    <tr>\n",
              "      <th>2015-11-20</th>\n",
              "      <td>elonmusk</td>\n",
              "      <td>ramping up the autopilot software team at tesl...</td>\n",
              "      <td>204</td>\n",
              "      <td>1880</td>\n",
              "      <td>2954</td>\n",
              "      <td>Ramping up the Autopilot software team at Tesl...</td>\n",
              "    </tr>\n",
              "  </tbody>\n",
              "</table>\n",
              "<p>2302 rows × 6 columns</p>\n",
              "</div>"
            ],
            "text/plain": [
              "            username  ...                                        tweet_clean\n",
              "date                  ...                                                   \n",
              "2020-11-16  elonmusk  ...  CureVac, Moderna  a few others. Tesla makes th...\n",
              "2020-11-16  elonmusk  ...  I’m ok, thanks for asking. No symptoms for pas...\n",
              "2020-11-14  elonmusk  ...  Cool, but please be super cautious. Expect two...\n",
              "2020-11-13  elonmusk  ...                                        Interesting\n",
              "2020-11-13  elonmusk  ...                     The carousel turns ever faster\n",
              "...              ...  ...                                                ...\n",
              "2015-12-17  elonmusk  ...  Vance article on self-driving cars was inaccurate\n",
              "2015-11-24  elonmusk  ...  Yep, good points. I hope you get back into spa...\n",
              "2015-11-24  elonmusk  ...  The F9 booster can reach low orbit as a single...\n",
              "2015-11-20  elonmusk  ...  We are looking for hardcore software engineers...\n",
              "2015-11-20  elonmusk  ...  Ramping up the Autopilot software team at Tesl...\n",
              "\n",
              "[2302 rows x 6 columns]"
            ]
          },
          "metadata": {
            "tags": []
          },
          "execution_count": 9
        }
      ]
    },
    {
      "cell_type": "code",
      "metadata": {
        "id": "efkWGBVD8yXc"
      },
      "source": [
        "# Let's give it a new name and drop unwanted columns\n",
        "tweets_filtered = elon_musk.copy()\n",
        "\n",
        "# Remove tweet column (no longer needed as we must use tweet_clean for sentiment analysis)\n",
        "tweets_filtered.drop(columns=['tweet'], axis=1, inplace=True)"
      ],
      "execution_count": 10,
      "outputs": []
    },
    {
      "cell_type": "code",
      "metadata": {
        "colab": {
          "base_uri": "https://localhost:8080/",
          "height": 227
        },
        "id": "SM_TAfEFAxaK",
        "outputId": "aaa50d84-e50a-4528-ed1f-f5488790d8a9"
      },
      "source": [
        "#Let's see if it worked\n",
        "tweets_filtered.head()"
      ],
      "execution_count": 11,
      "outputs": [
        {
          "output_type": "execute_result",
          "data": {
            "text/html": [
              "<div>\n",
              "<style scoped>\n",
              "    .dataframe tbody tr th:only-of-type {\n",
              "        vertical-align: middle;\n",
              "    }\n",
              "\n",
              "    .dataframe tbody tr th {\n",
              "        vertical-align: top;\n",
              "    }\n",
              "\n",
              "    .dataframe thead th {\n",
              "        text-align: right;\n",
              "    }\n",
              "</style>\n",
              "<table border=\"1\" class=\"dataframe\">\n",
              "  <thead>\n",
              "    <tr style=\"text-align: right;\">\n",
              "      <th></th>\n",
              "      <th>username</th>\n",
              "      <th>replies_count</th>\n",
              "      <th>retweets_count</th>\n",
              "      <th>likes_count</th>\n",
              "      <th>tweet_clean</th>\n",
              "    </tr>\n",
              "    <tr>\n",
              "      <th>date</th>\n",
              "      <th></th>\n",
              "      <th></th>\n",
              "      <th></th>\n",
              "      <th></th>\n",
              "      <th></th>\n",
              "    </tr>\n",
              "  </thead>\n",
              "  <tbody>\n",
              "    <tr>\n",
              "      <th>2020-11-16</th>\n",
              "      <td>elonmusk</td>\n",
              "      <td>72</td>\n",
              "      <td>75</td>\n",
              "      <td>1090</td>\n",
              "      <td>CureVac, Moderna  a few others. Tesla makes th...</td>\n",
              "    </tr>\n",
              "    <tr>\n",
              "      <th>2020-11-16</th>\n",
              "      <td>elonmusk</td>\n",
              "      <td>240</td>\n",
              "      <td>120</td>\n",
              "      <td>2841</td>\n",
              "      <td>I’m ok, thanks for asking. No symptoms for pas...</td>\n",
              "    </tr>\n",
              "    <tr>\n",
              "      <th>2020-11-14</th>\n",
              "      <td>elonmusk</td>\n",
              "      <td>171</td>\n",
              "      <td>132</td>\n",
              "      <td>5748</td>\n",
              "      <td>Cool, but please be super cautious. Expect two...</td>\n",
              "    </tr>\n",
              "    <tr>\n",
              "      <th>2020-11-13</th>\n",
              "      <td>elonmusk</td>\n",
              "      <td>60</td>\n",
              "      <td>32</td>\n",
              "      <td>747</td>\n",
              "      <td>Interesting</td>\n",
              "    </tr>\n",
              "    <tr>\n",
              "      <th>2020-11-13</th>\n",
              "      <td>elonmusk</td>\n",
              "      <td>2867</td>\n",
              "      <td>4369</td>\n",
              "      <td>84939</td>\n",
              "      <td>The carousel turns ever faster</td>\n",
              "    </tr>\n",
              "  </tbody>\n",
              "</table>\n",
              "</div>"
            ],
            "text/plain": [
              "            username  ...                                        tweet_clean\n",
              "date                  ...                                                   \n",
              "2020-11-16  elonmusk  ...  CureVac, Moderna  a few others. Tesla makes th...\n",
              "2020-11-16  elonmusk  ...  I’m ok, thanks for asking. No symptoms for pas...\n",
              "2020-11-14  elonmusk  ...  Cool, but please be super cautious. Expect two...\n",
              "2020-11-13  elonmusk  ...                                        Interesting\n",
              "2020-11-13  elonmusk  ...                     The carousel turns ever faster\n",
              "\n",
              "[5 rows x 5 columns]"
            ]
          },
          "metadata": {
            "tags": []
          },
          "execution_count": 11
        }
      ]
    },
    {
      "cell_type": "code",
      "metadata": {
        "id": "QTVPHLK8_zyC"
      },
      "source": [
        "# Too apply the sentiment score for each day we firstly concatenate the tweets on the same day\n",
        "tweets_filtered_daily = pd.DataFrame(tweets_filtered.groupby(tweets_filtered.index).tweet_clean.apply('. '.join))\n",
        "tweets_filtered_daily.columns =['conc_tweet']"
      ],
      "execution_count": 12,
      "outputs": []
    },
    {
      "cell_type": "code",
      "metadata": {
        "colab": {
          "base_uri": "https://localhost:8080/",
          "height": 227
        },
        "id": "Qt1hIDDFAIn2",
        "outputId": "1752f411-4d80-40de-ffbf-05da274f6b32"
      },
      "source": [
        "tweets_filtered_daily.head(5)"
      ],
      "execution_count": 13,
      "outputs": [
        {
          "output_type": "execute_result",
          "data": {
            "text/html": [
              "<div>\n",
              "<style scoped>\n",
              "    .dataframe tbody tr th:only-of-type {\n",
              "        vertical-align: middle;\n",
              "    }\n",
              "\n",
              "    .dataframe tbody tr th {\n",
              "        vertical-align: top;\n",
              "    }\n",
              "\n",
              "    .dataframe thead th {\n",
              "        text-align: right;\n",
              "    }\n",
              "</style>\n",
              "<table border=\"1\" class=\"dataframe\">\n",
              "  <thead>\n",
              "    <tr style=\"text-align: right;\">\n",
              "      <th></th>\n",
              "      <th>conc_tweet</th>\n",
              "    </tr>\n",
              "    <tr>\n",
              "      <th>date</th>\n",
              "      <th></th>\n",
              "    </tr>\n",
              "  </thead>\n",
              "  <tbody>\n",
              "    <tr>\n",
              "      <th>2015-11-20</th>\n",
              "      <td>We are looking for hardcore software engineers...</td>\n",
              "    </tr>\n",
              "    <tr>\n",
              "      <th>2015-11-24</th>\n",
              "      <td>Yep, good points. I hope you get back into spa...</td>\n",
              "    </tr>\n",
              "    <tr>\n",
              "      <th>2015-12-17</th>\n",
              "      <td>Vance article on self-driving cars was inaccurate</td>\n",
              "    </tr>\n",
              "    <tr>\n",
              "      <th>2015-12-19</th>\n",
              "      <td>This article does not appreciate that Tesla is...</td>\n",
              "    </tr>\n",
              "    <tr>\n",
              "      <th>2015-12-20</th>\n",
              "      <td>Just reviewed mission params w SpaceX team. Mo...</td>\n",
              "    </tr>\n",
              "  </tbody>\n",
              "</table>\n",
              "</div>"
            ],
            "text/plain": [
              "                                                   conc_tweet\n",
              "date                                                         \n",
              "2015-11-20  We are looking for hardcore software engineers...\n",
              "2015-11-24  Yep, good points. I hope you get back into spa...\n",
              "2015-12-17  Vance article on self-driving cars was inaccurate\n",
              "2015-12-19  This article does not appreciate that Tesla is...\n",
              "2015-12-20  Just reviewed mission params w SpaceX team. Mo..."
            ]
          },
          "metadata": {
            "tags": []
          },
          "execution_count": 13
        }
      ]
    },
    {
      "cell_type": "code",
      "metadata": {
        "id": "DOlTnqYpD4fP"
      },
      "source": [
        "#Add column with tweet count\n",
        "tweets_filtered_daily['tweets_count'] = tweets_filtered.groupby(tweets_filtered.index).tweet_clean.count()"
      ],
      "execution_count": 14,
      "outputs": []
    },
    {
      "cell_type": "markdown",
      "metadata": {
        "id": "ljk1jdHbXJ3F"
      },
      "source": [
        "#Sentiment score on filtered data"
      ]
    },
    {
      "cell_type": "markdown",
      "metadata": {
        "id": "B57fB3u16Llz"
      },
      "source": [
        "Applying the same approach as in the initial sentiment scoring"
      ]
    },
    {
      "cell_type": "code",
      "metadata": {
        "id": "rINhiUfaPlMH"
      },
      "source": [
        "!pip install twython"
      ],
      "execution_count": null,
      "outputs": []
    },
    {
      "cell_type": "code",
      "metadata": {
        "id": "xwgxaNDrAQcW"
      },
      "source": [
        "#Importing nltk\n",
        "import nltk\n",
        "\n",
        "# Importing sentiment analyzer\n",
        "from nltk.sentiment.vader import SentimentIntensityAnalyzer\n",
        "nltk.download('vader_lexicon')"
      ],
      "execution_count": null,
      "outputs": []
    },
    {
      "cell_type": "code",
      "metadata": {
        "id": "_uUUVenYARHJ"
      },
      "source": [
        "analyzer = SentimentIntensityAnalyzer()\n",
        "\n",
        "# Generating sentiment scores for each tweet and a compound (including all scores)\n",
        "tweets_filtered_daily['neg_sentiment'] = tweets_filtered_daily['conc_tweet'].apply(lambda x:analyzer.polarity_scores(x)['neg'])\n",
        "tweets_filtered_daily['neu_sentiment'] = tweets_filtered_daily['conc_tweet'].apply(lambda x:analyzer.polarity_scores(x)['neu'])\n",
        "tweets_filtered_daily['pos_sentiment'] = tweets_filtered_daily['conc_tweet'].apply(lambda x:analyzer.polarity_scores(x)['pos'])\n",
        "tweets_filtered_daily['compound_sentiment'] = tweets_filtered_daily['conc_tweet'].apply(lambda x:analyzer.polarity_scores(x)['compound'])\n"
      ],
      "execution_count": 17,
      "outputs": []
    },
    {
      "cell_type": "code",
      "metadata": {
        "colab": {
          "base_uri": "https://localhost:8080/"
        },
        "id": "SUYJv0wmA_4M",
        "outputId": "ce1b117c-2c11-4032-8572-555eddf107c4"
      },
      "source": [
        "#Let's see how many rows we have now\n",
        "tweets_filtered_daily.info()"
      ],
      "execution_count": 18,
      "outputs": [
        {
          "output_type": "stream",
          "text": [
            "<class 'pandas.core.frame.DataFrame'>\n",
            "DatetimeIndex: 817 entries, 2015-11-20 to 2020-11-16\n",
            "Data columns (total 6 columns):\n",
            " #   Column              Non-Null Count  Dtype  \n",
            "---  ------              --------------  -----  \n",
            " 0   conc_tweet          817 non-null    object \n",
            " 1   tweets_count        817 non-null    int64  \n",
            " 2   neg_sentiment       817 non-null    float64\n",
            " 3   neu_sentiment       817 non-null    float64\n",
            " 4   pos_sentiment       817 non-null    float64\n",
            " 5   compound_sentiment  817 non-null    float64\n",
            "dtypes: float64(4), int64(1), object(1)\n",
            "memory usage: 44.7+ KB\n"
          ],
          "name": "stdout"
        }
      ]
    },
    {
      "cell_type": "code",
      "metadata": {
        "colab": {
          "base_uri": "https://localhost:8080/"
        },
        "id": "8kT3m1NOAWaH",
        "outputId": "330793c8-ef06-4b74-cae3-264cb3131571"
      },
      "source": [
        "# We now drop all rows that are neither classified as neg, neu or pos (as they would only create noise in the model)\n",
        "tweets_filtered_daily = tweets_filtered_daily[~((tweets_filtered_daily.neg_sentiment == 0) & (tweets_filtered_daily.neu_sentiment == 0) & (tweets_filtered_daily.pos_sentiment == 0))]\n",
        "\n",
        "#Let's have a look at the dataframe again (we can see that there was no rows with all 0)\n",
        "tweets_filtered_daily.info()"
      ],
      "execution_count": 19,
      "outputs": [
        {
          "output_type": "stream",
          "text": [
            "<class 'pandas.core.frame.DataFrame'>\n",
            "DatetimeIndex: 814 entries, 2015-11-20 to 2020-11-16\n",
            "Data columns (total 6 columns):\n",
            " #   Column              Non-Null Count  Dtype  \n",
            "---  ------              --------------  -----  \n",
            " 0   conc_tweet          814 non-null    object \n",
            " 1   tweets_count        814 non-null    int64  \n",
            " 2   neg_sentiment       814 non-null    float64\n",
            " 3   neu_sentiment       814 non-null    float64\n",
            " 4   pos_sentiment       814 non-null    float64\n",
            " 5   compound_sentiment  814 non-null    float64\n",
            "dtypes: float64(4), int64(1), object(1)\n",
            "memory usage: 44.5+ KB\n"
          ],
          "name": "stdout"
        }
      ]
    },
    {
      "cell_type": "code",
      "metadata": {
        "colab": {
          "base_uri": "https://localhost:8080/",
          "height": 227
        },
        "id": "2DmKnWSIBlYO",
        "outputId": "63b455e2-11be-4b29-f425-52f96f1b6542"
      },
      "source": [
        "tweets_filtered_daily.head()"
      ],
      "execution_count": 20,
      "outputs": [
        {
          "output_type": "execute_result",
          "data": {
            "text/html": [
              "<div>\n",
              "<style scoped>\n",
              "    .dataframe tbody tr th:only-of-type {\n",
              "        vertical-align: middle;\n",
              "    }\n",
              "\n",
              "    .dataframe tbody tr th {\n",
              "        vertical-align: top;\n",
              "    }\n",
              "\n",
              "    .dataframe thead th {\n",
              "        text-align: right;\n",
              "    }\n",
              "</style>\n",
              "<table border=\"1\" class=\"dataframe\">\n",
              "  <thead>\n",
              "    <tr style=\"text-align: right;\">\n",
              "      <th></th>\n",
              "      <th>conc_tweet</th>\n",
              "      <th>tweets_count</th>\n",
              "      <th>neg_sentiment</th>\n",
              "      <th>neu_sentiment</th>\n",
              "      <th>pos_sentiment</th>\n",
              "      <th>compound_sentiment</th>\n",
              "    </tr>\n",
              "    <tr>\n",
              "      <th>date</th>\n",
              "      <th></th>\n",
              "      <th></th>\n",
              "      <th></th>\n",
              "      <th></th>\n",
              "      <th></th>\n",
              "      <th></th>\n",
              "    </tr>\n",
              "  </thead>\n",
              "  <tbody>\n",
              "    <tr>\n",
              "      <th>2015-11-20</th>\n",
              "      <td>We are looking for hardcore software engineers...</td>\n",
              "      <td>2</td>\n",
              "      <td>0.051</td>\n",
              "      <td>0.833</td>\n",
              "      <td>0.116</td>\n",
              "      <td>0.4215</td>\n",
              "    </tr>\n",
              "    <tr>\n",
              "      <th>2015-11-24</th>\n",
              "      <td>Yep, good points. I hope you get back into spa...</td>\n",
              "      <td>2</td>\n",
              "      <td>0.058</td>\n",
              "      <td>0.685</td>\n",
              "      <td>0.257</td>\n",
              "      <td>0.7424</td>\n",
              "    </tr>\n",
              "    <tr>\n",
              "      <th>2015-12-17</th>\n",
              "      <td>Vance article on self-driving cars was inaccurate</td>\n",
              "      <td>1</td>\n",
              "      <td>0.000</td>\n",
              "      <td>1.000</td>\n",
              "      <td>0.000</td>\n",
              "      <td>0.0000</td>\n",
              "    </tr>\n",
              "    <tr>\n",
              "      <th>2015-12-19</th>\n",
              "      <td>This article does not appreciate that Tesla is...</td>\n",
              "      <td>1</td>\n",
              "      <td>0.096</td>\n",
              "      <td>0.807</td>\n",
              "      <td>0.098</td>\n",
              "      <td>0.0108</td>\n",
              "    </tr>\n",
              "    <tr>\n",
              "      <th>2015-12-20</th>\n",
              "      <td>Just reviewed mission params w SpaceX team. Mo...</td>\n",
              "      <td>1</td>\n",
              "      <td>0.000</td>\n",
              "      <td>0.803</td>\n",
              "      <td>0.197</td>\n",
              "      <td>0.5994</td>\n",
              "    </tr>\n",
              "  </tbody>\n",
              "</table>\n",
              "</div>"
            ],
            "text/plain": [
              "                                                   conc_tweet  ...  compound_sentiment\n",
              "date                                                           ...                    \n",
              "2015-11-20  We are looking for hardcore software engineers...  ...              0.4215\n",
              "2015-11-24  Yep, good points. I hope you get back into spa...  ...              0.7424\n",
              "2015-12-17  Vance article on self-driving cars was inaccurate  ...              0.0000\n",
              "2015-12-19  This article does not appreciate that Tesla is...  ...              0.0108\n",
              "2015-12-20  Just reviewed mission params w SpaceX team. Mo...  ...              0.5994\n",
              "\n",
              "[5 rows x 6 columns]"
            ]
          },
          "metadata": {
            "tags": []
          },
          "execution_count": 20
        }
      ]
    },
    {
      "cell_type": "markdown",
      "metadata": {
        "id": "jkwuurO9BtfX"
      },
      "source": [
        "#Stock data"
      ]
    },
    {
      "cell_type": "code",
      "metadata": {
        "id": "msYU8-WsBu-E"
      },
      "source": [
        "# As we have already cleaned and preprocessed the stock data, we import the file\n",
        "tesla = pd.read_csv('https://raw.githubusercontent.com/MariaRosendal/Tesla-tweets/main/tesla_v2.csv')"
      ],
      "execution_count": 21,
      "outputs": []
    },
    {
      "cell_type": "code",
      "metadata": {
        "colab": {
          "base_uri": "https://localhost:8080/",
          "height": 197
        },
        "id": "apTmpqQQCCVD",
        "outputId": "720f48e1-382d-4d46-8950-e88e594f7cf4"
      },
      "source": [
        "#Let's check if the categorical variable (stock increase/decrease) is there\n",
        "tesla.head()"
      ],
      "execution_count": 22,
      "outputs": [
        {
          "output_type": "execute_result",
          "data": {
            "text/html": [
              "<div>\n",
              "<style scoped>\n",
              "    .dataframe tbody tr th:only-of-type {\n",
              "        vertical-align: middle;\n",
              "    }\n",
              "\n",
              "    .dataframe tbody tr th {\n",
              "        vertical-align: top;\n",
              "    }\n",
              "\n",
              "    .dataframe thead th {\n",
              "        text-align: right;\n",
              "    }\n",
              "</style>\n",
              "<table border=\"1\" class=\"dataframe\">\n",
              "  <thead>\n",
              "    <tr style=\"text-align: right;\">\n",
              "      <th></th>\n",
              "      <th>Date</th>\n",
              "      <th>High</th>\n",
              "      <th>Low</th>\n",
              "      <th>Open</th>\n",
              "      <th>Close</th>\n",
              "      <th>Volume</th>\n",
              "      <th>Adj Close</th>\n",
              "      <th>daily_change</th>\n",
              "      <th>daily_change_pred</th>\n",
              "      <th>change_categorical</th>\n",
              "    </tr>\n",
              "  </thead>\n",
              "  <tbody>\n",
              "    <tr>\n",
              "      <th>0</th>\n",
              "      <td>2015-11-20</td>\n",
              "      <td>45.000000</td>\n",
              "      <td>42.716000</td>\n",
              "      <td>44.698002</td>\n",
              "      <td>44.001999</td>\n",
              "      <td>22003500.0</td>\n",
              "      <td>44.001999</td>\n",
              "      <td>-0.807037</td>\n",
              "      <td>-1.027225</td>\n",
              "      <td>Decrease</td>\n",
              "    </tr>\n",
              "    <tr>\n",
              "      <th>1</th>\n",
              "      <td>2015-11-23</td>\n",
              "      <td>43.835999</td>\n",
              "      <td>42.936001</td>\n",
              "      <td>43.470001</td>\n",
              "      <td>43.549999</td>\n",
              "      <td>12631000.0</td>\n",
              "      <td>43.549999</td>\n",
              "      <td>-1.027225</td>\n",
              "      <td>0.229626</td>\n",
              "      <td>Increase</td>\n",
              "    </tr>\n",
              "    <tr>\n",
              "      <th>2</th>\n",
              "      <td>2015-11-24</td>\n",
              "      <td>44.200001</td>\n",
              "      <td>43.000000</td>\n",
              "      <td>43.074001</td>\n",
              "      <td>43.650002</td>\n",
              "      <td>12401500.0</td>\n",
              "      <td>43.650002</td>\n",
              "      <td>0.229626</td>\n",
              "      <td>5.218785</td>\n",
              "      <td>Increase</td>\n",
              "    </tr>\n",
              "    <tr>\n",
              "      <th>3</th>\n",
              "      <td>2015-11-25</td>\n",
              "      <td>46.166000</td>\n",
              "      <td>44.076000</td>\n",
              "      <td>44.268002</td>\n",
              "      <td>45.928001</td>\n",
              "      <td>19954000.0</td>\n",
              "      <td>45.928001</td>\n",
              "      <td>5.218785</td>\n",
              "      <td>0.857858</td>\n",
              "      <td>Increase</td>\n",
              "    </tr>\n",
              "    <tr>\n",
              "      <th>4</th>\n",
              "      <td>2015-11-27</td>\n",
              "      <td>46.450001</td>\n",
              "      <td>45.402000</td>\n",
              "      <td>46.212002</td>\n",
              "      <td>46.321999</td>\n",
              "      <td>9747000.0</td>\n",
              "      <td>46.321999</td>\n",
              "      <td>0.857858</td>\n",
              "      <td>-0.582877</td>\n",
              "      <td>Decrease</td>\n",
              "    </tr>\n",
              "  </tbody>\n",
              "</table>\n",
              "</div>"
            ],
            "text/plain": [
              "         Date       High  ...  daily_change_pred  change_categorical\n",
              "0  2015-11-20  45.000000  ...          -1.027225            Decrease\n",
              "1  2015-11-23  43.835999  ...           0.229626            Increase\n",
              "2  2015-11-24  44.200001  ...           5.218785            Increase\n",
              "3  2015-11-25  46.166000  ...           0.857858            Increase\n",
              "4  2015-11-27  46.450001  ...          -0.582877            Decrease\n",
              "\n",
              "[5 rows x 10 columns]"
            ]
          },
          "metadata": {
            "tags": []
          },
          "execution_count": 22
        }
      ]
    },
    {
      "cell_type": "code",
      "metadata": {
        "id": "avyCi9jDFtTI"
      },
      "source": [
        "# Make dates to datetime format\n",
        "tesla['date'] = pd.to_datetime(tesla.Date)\n",
        "\n",
        "\n",
        "#Set the date as index\n",
        "tesla.set_index('date', inplace=True)"
      ],
      "execution_count": 23,
      "outputs": []
    },
    {
      "cell_type": "markdown",
      "metadata": {
        "id": "JfMagNyZX187"
      },
      "source": [
        "# Combined data"
      ]
    },
    {
      "cell_type": "markdown",
      "metadata": {
        "id": "DZaQ6jH3GLf_"
      },
      "source": [
        "**Merge stocks and tweets**"
      ]
    },
    {
      "cell_type": "markdown",
      "metadata": {
        "id": "oPAzEkqNGOKx"
      },
      "source": [
        "Left merged was used previously to only include trading days (excl. weekends and holidays). However, as our dataset now only includes Tesla tweets, there will be a lot of trading days with no tweets and filling-foward the sentiment values would results in a lot of noise. Therefore, we make an inner merge this time (i.e. we only include trading days where there has been a tweet)."
      ]
    },
    {
      "cell_type": "code",
      "metadata": {
        "id": "f5EyxDuICLUJ"
      },
      "source": [
        "# Creating merged DataFrame\n",
        "merged_filtered = pd.merge(tesla.loc[:,['change_categorical', 'daily_change_pred', 'daily_change']], \n",
        "                           tweets_filtered_daily.loc[:,'tweets_count':'compound_sentiment'], \n",
        "                           left_index=True, right_index=True, how='inner')"
      ],
      "execution_count": 24,
      "outputs": []
    },
    {
      "cell_type": "code",
      "metadata": {
        "colab": {
          "base_uri": "https://localhost:8080/",
          "height": 227
        },
        "id": "BfokPyPuGxCy",
        "outputId": "d4ef33d9-b432-4fc9-e05d-d7d3683c945f"
      },
      "source": [
        "merged_filtered.head()"
      ],
      "execution_count": 25,
      "outputs": [
        {
          "output_type": "execute_result",
          "data": {
            "text/html": [
              "<div>\n",
              "<style scoped>\n",
              "    .dataframe tbody tr th:only-of-type {\n",
              "        vertical-align: middle;\n",
              "    }\n",
              "\n",
              "    .dataframe tbody tr th {\n",
              "        vertical-align: top;\n",
              "    }\n",
              "\n",
              "    .dataframe thead th {\n",
              "        text-align: right;\n",
              "    }\n",
              "</style>\n",
              "<table border=\"1\" class=\"dataframe\">\n",
              "  <thead>\n",
              "    <tr style=\"text-align: right;\">\n",
              "      <th></th>\n",
              "      <th>change_categorical</th>\n",
              "      <th>daily_change_pred</th>\n",
              "      <th>daily_change</th>\n",
              "      <th>tweets_count</th>\n",
              "      <th>neg_sentiment</th>\n",
              "      <th>neu_sentiment</th>\n",
              "      <th>pos_sentiment</th>\n",
              "      <th>compound_sentiment</th>\n",
              "    </tr>\n",
              "    <tr>\n",
              "      <th>date</th>\n",
              "      <th></th>\n",
              "      <th></th>\n",
              "      <th></th>\n",
              "      <th></th>\n",
              "      <th></th>\n",
              "      <th></th>\n",
              "      <th></th>\n",
              "      <th></th>\n",
              "    </tr>\n",
              "  </thead>\n",
              "  <tbody>\n",
              "    <tr>\n",
              "      <th>2015-11-20</th>\n",
              "      <td>Decrease</td>\n",
              "      <td>-1.027225</td>\n",
              "      <td>-0.807037</td>\n",
              "      <td>2</td>\n",
              "      <td>0.051</td>\n",
              "      <td>0.833</td>\n",
              "      <td>0.116</td>\n",
              "      <td>0.4215</td>\n",
              "    </tr>\n",
              "    <tr>\n",
              "      <th>2015-11-24</th>\n",
              "      <td>Increase</td>\n",
              "      <td>5.218785</td>\n",
              "      <td>0.229626</td>\n",
              "      <td>2</td>\n",
              "      <td>0.058</td>\n",
              "      <td>0.685</td>\n",
              "      <td>0.257</td>\n",
              "      <td>0.7424</td>\n",
              "    </tr>\n",
              "    <tr>\n",
              "      <th>2015-12-17</th>\n",
              "      <td>Decrease</td>\n",
              "      <td>-1.255414</td>\n",
              "      <td>-0.477589</td>\n",
              "      <td>1</td>\n",
              "      <td>0.000</td>\n",
              "      <td>1.000</td>\n",
              "      <td>0.000</td>\n",
              "      <td>0.0000</td>\n",
              "    </tr>\n",
              "    <tr>\n",
              "      <th>2016-01-20</th>\n",
              "      <td>Increase</td>\n",
              "      <td>0.639149</td>\n",
              "      <td>-2.940598</td>\n",
              "      <td>1</td>\n",
              "      <td>0.000</td>\n",
              "      <td>1.000</td>\n",
              "      <td>0.000</td>\n",
              "      <td>0.0000</td>\n",
              "    </tr>\n",
              "    <tr>\n",
              "      <th>2016-02-10</th>\n",
              "      <td>Increase</td>\n",
              "      <td>4.733071</td>\n",
              "      <td>-3.089377</td>\n",
              "      <td>2</td>\n",
              "      <td>0.000</td>\n",
              "      <td>0.837</td>\n",
              "      <td>0.163</td>\n",
              "      <td>0.6682</td>\n",
              "    </tr>\n",
              "  </tbody>\n",
              "</table>\n",
              "</div>"
            ],
            "text/plain": [
              "           change_categorical  ...  compound_sentiment\n",
              "date                           ...                    \n",
              "2015-11-20           Decrease  ...              0.4215\n",
              "2015-11-24           Increase  ...              0.7424\n",
              "2015-12-17           Decrease  ...              0.0000\n",
              "2016-01-20           Increase  ...              0.0000\n",
              "2016-02-10           Increase  ...              0.6682\n",
              "\n",
              "[5 rows x 8 columns]"
            ]
          },
          "metadata": {
            "tags": []
          },
          "execution_count": 25
        }
      ]
    },
    {
      "cell_type": "markdown",
      "metadata": {
        "id": "hgmEDpmCpivB"
      },
      "source": [
        "*Correlations**"
      ]
    },
    {
      "cell_type": "code",
      "metadata": {
        "colab": {
          "base_uri": "https://localhost:8080/",
          "height": 401
        },
        "id": "Q4FIG0P3pkWF",
        "outputId": "997a2504-24a0-48f5-f87a-f8116473c07d"
      },
      "source": [
        "# Visualizing the corelations between all variables\n",
        "\n",
        "merged_corr = merged_filtered.loc[:,['daily_change_pred', 'neg_sentiment', 'neu_sentiment', 'pos_sentiment', 'compound_sentiment']]\n",
        "\n",
        "merged_corr.corr()\n",
        "plt.figure(figsize=(16, 6))\n",
        "heatmap = sns.heatmap(merged_corr.corr(), vmin=-1, vmax=1, annot=True, cmap='BrBG')\n",
        "heatmap.set_title('Correlation Heatmap', fontdict={'fontsize':18}, pad=12);"
      ],
      "execution_count": 26,
      "outputs": [
        {
          "output_type": "display_data",
          "data": {
            "image/png": "[encoded data removed]",
            "text/plain": [
              "<Figure size 1152x432 with 2 Axes>"
            ]
          },
          "metadata": {
            "tags": [],
            "needs_background": "light"
          }
        }
      ]
    },
    {
      "cell_type": "markdown",
      "metadata": {
        "id": "T3Sb2mbKN6N9"
      },
      "source": [
        "# Predicting stock movements (filtered tweets only)"
      ]
    },
    {
      "cell_type": "markdown",
      "metadata": {
        "id": "J9rufYabYFGS"
      },
      "source": [
        "## Setting x and y variables"
      ]
    },
    {
      "cell_type": "code",
      "metadata": {
        "id": "9bah8RaNVcxZ"
      },
      "source": [
        "# Importing StandardScaler\n",
        "from sklearn.preprocessing import StandardScaler\n",
        "\n",
        "# Scaling data\n",
        "scaled_data = StandardScaler().fit_transform(merged_filtered.loc[:,'neg_sentiment':'compound_sentiment'])"
      ],
      "execution_count": 27,
      "outputs": []
    },
    {
      "cell_type": "code",
      "metadata": {
        "colab": {
          "base_uri": "https://localhost:8080/",
          "height": 287
        },
        "id": "lK5stAojYKMe",
        "outputId": "64ac29c4-3ffd-44d7-e6a7-5e20580b57ce"
      },
      "source": [
        "scaled_data_df = pd.DataFrame(scaled_data)\n",
        "scaled_data_df.describe()"
      ],
      "execution_count": 28,
      "outputs": [
        {
          "output_type": "execute_result",
          "data": {
            "text/html": [
              "<div>\n",
              "<style scoped>\n",
              "    .dataframe tbody tr th:only-of-type {\n",
              "        vertical-align: middle;\n",
              "    }\n",
              "\n",
              "    .dataframe tbody tr th {\n",
              "        vertical-align: top;\n",
              "    }\n",
              "\n",
              "    .dataframe thead th {\n",
              "        text-align: right;\n",
              "    }\n",
              "</style>\n",
              "<table border=\"1\" class=\"dataframe\">\n",
              "  <thead>\n",
              "    <tr style=\"text-align: right;\">\n",
              "      <th></th>\n",
              "      <th>0</th>\n",
              "      <th>1</th>\n",
              "      <th>2</th>\n",
              "      <th>3</th>\n",
              "    </tr>\n",
              "  </thead>\n",
              "  <tbody>\n",
              "    <tr>\n",
              "      <th>count</th>\n",
              "      <td>5.580000e+02</td>\n",
              "      <td>5.580000e+02</td>\n",
              "      <td>5.580000e+02</td>\n",
              "      <td>5.580000e+02</td>\n",
              "    </tr>\n",
              "    <tr>\n",
              "      <th>mean</th>\n",
              "      <td>-2.168715e-16</td>\n",
              "      <td>-2.315949e-16</td>\n",
              "      <td>-2.089129e-17</td>\n",
              "      <td>-5.950288e-18</td>\n",
              "    </tr>\n",
              "    <tr>\n",
              "      <th>std</th>\n",
              "      <td>1.000897e+00</td>\n",
              "      <td>1.000897e+00</td>\n",
              "      <td>1.000897e+00</td>\n",
              "      <td>1.000897e+00</td>\n",
              "    </tr>\n",
              "    <tr>\n",
              "      <th>min</th>\n",
              "      <td>-6.419358e-01</td>\n",
              "      <td>-4.091049e+00</td>\n",
              "      <td>-9.778726e-01</td>\n",
              "      <td>-2.922846e+00</td>\n",
              "    </tr>\n",
              "    <tr>\n",
              "      <th>25%</th>\n",
              "      <td>-6.419358e-01</td>\n",
              "      <td>-4.162525e-01</td>\n",
              "      <td>-6.507230e-01</td>\n",
              "      <td>-8.216319e-01</td>\n",
              "    </tr>\n",
              "    <tr>\n",
              "      <th>50%</th>\n",
              "      <td>-6.419358e-01</td>\n",
              "      <td>1.125048e-01</td>\n",
              "      <td>-1.471027e-01</td>\n",
              "      <td>1.510620e-01</td>\n",
              "    </tr>\n",
              "    <tr>\n",
              "      <th>75%</th>\n",
              "      <td>3.049428e-01</td>\n",
              "      <td>6.001806e-01</td>\n",
              "      <td>3.130786e-01</td>\n",
              "      <td>8.890097e-01</td>\n",
              "    </tr>\n",
              "    <tr>\n",
              "      <th>max</th>\n",
              "      <td>6.186259e+00</td>\n",
              "      <td>1.209775e+00</td>\n",
              "      <td>4.451996e+00</td>\n",
              "      <td>1.293786e+00</td>\n",
              "    </tr>\n",
              "  </tbody>\n",
              "</table>\n",
              "</div>"
            ],
            "text/plain": [
              "                  0             1             2             3\n",
              "count  5.580000e+02  5.580000e+02  5.580000e+02  5.580000e+02\n",
              "mean  -2.168715e-16 -2.315949e-16 -2.089129e-17 -5.950288e-18\n",
              "std    1.000897e+00  1.000897e+00  1.000897e+00  1.000897e+00\n",
              "min   -6.419358e-01 -4.091049e+00 -9.778726e-01 -2.922846e+00\n",
              "25%   -6.419358e-01 -4.162525e-01 -6.507230e-01 -8.216319e-01\n",
              "50%   -6.419358e-01  1.125048e-01 -1.471027e-01  1.510620e-01\n",
              "75%    3.049428e-01  6.001806e-01  3.130786e-01  8.890097e-01\n",
              "max    6.186259e+00  1.209775e+00  4.451996e+00  1.293786e+00"
            ]
          },
          "metadata": {
            "tags": []
          },
          "execution_count": 28
        }
      ]
    },
    {
      "cell_type": "markdown",
      "metadata": {
        "id": "AmYWFaD1YZ8H"
      },
      "source": [
        "StandardScaler enables us to obtain scaled data with means very close to 0 (note, the values contain high exponents) and the standard deviations close to 1. "
      ]
    },
    {
      "cell_type": "code",
      "metadata": {
        "id": "uxt5-E-guep0"
      },
      "source": [
        "# As we have text values fo y, we must use LabelEncoder to transform to integers\n",
        "\n",
        "# Importing packages\n",
        "from sklearn.preprocessing import LabelEncoder\n",
        "\n",
        "# Defining X and y values (transforming text to integers for y)\n",
        "X = scaled_data\n",
        "\n",
        "y = merged_filtered.loc[:,'change_categorical']\n",
        "labelencoder_y = LabelEncoder()\n",
        "y = labelencoder_y.fit_transform(y)"
      ],
      "execution_count": 29,
      "outputs": []
    },
    {
      "cell_type": "code",
      "metadata": {
        "id": "IDhnuITgW-zb"
      },
      "source": [
        "# Importing train test split\n",
        "from sklearn.model_selection import train_test_split"
      ],
      "execution_count": 30,
      "outputs": []
    },
    {
      "cell_type": "code",
      "metadata": {
        "id": "aD9uW27GZjpJ"
      },
      "source": [
        "# Defining the train (80%) and test (20%) data set (no need to set shuffle=False anylonger, as we have not preserved the time-series element when filtering on few tweets)\n",
        "X_train, X_test, y_train, y_test = train_test_split(X, y , train_size=0.8, test_size=0.2, random_state = 1)"
      ],
      "execution_count": 31,
      "outputs": []
    },
    {
      "cell_type": "code",
      "metadata": {
        "id": "926LnIPHZq07"
      },
      "source": [
        "# Importing models\n",
        "from sklearn.linear_model import LogisticRegression\n",
        "from sklearn.ensemble import RandomForestClassifier\n",
        "from xgboost import XGBClassifier\n",
        "from sklearn.neighbors import KNeighborsClassifier\n",
        "from sklearn.svm import SVC\n",
        "\n",
        "# Defining models\n",
        "m_lr = LogisticRegression()\n",
        "m_rf = RandomForestClassifier()\n",
        "m_xgb = XGBClassifier()\n",
        "m_knn = KNeighborsClassifier()\n",
        "m_svc = SVC(probability=True)"
      ],
      "execution_count": 32,
      "outputs": []
    },
    {
      "cell_type": "markdown",
      "metadata": {
        "id": "6KSf-FOd1iwJ"
      },
      "source": [
        "## Baseline model"
      ]
    },
    {
      "cell_type": "code",
      "metadata": {
        "id": "DPyoOScS1jQR"
      },
      "source": [
        "# Import dummy classifier\n",
        "from sklearn.dummy import DummyClassifier\n",
        "\n",
        "# Import classification report\n",
        "from sklearn.metrics import classification_report"
      ],
      "execution_count": 33,
      "outputs": []
    },
    {
      "cell_type": "code",
      "metadata": {
        "colab": {
          "base_uri": "https://localhost:8080/"
        },
        "id": "rTLYdzPL1pu8",
        "outputId": "fe6328b5-a314-409e-e061-b3a01172b3ee"
      },
      "source": [
        "# Set parameters\n",
        "dummy = DummyClassifier(strategy='stratified', random_state=1)\n",
        "\n",
        "# \"Train\" model \n",
        "dummy.fit(X_train, y_train)"
      ],
      "execution_count": 34,
      "outputs": [
        {
          "output_type": "execute_result",
          "data": {
            "text/plain": [
              "DummyClassifier(constant=None, random_state=1, strategy='stratified')"
            ]
          },
          "metadata": {
            "tags": []
          },
          "execution_count": 34
        }
      ]
    },
    {
      "cell_type": "code",
      "metadata": {
        "colab": {
          "base_uri": "https://localhost:8080/"
        },
        "id": "J35e5sKR1v0F",
        "outputId": "ead2809d-2aae-48f4-fac2-8741d85c0827"
      },
      "source": [
        "# Model evaluation\n",
        "dummy.score(X_test, y_test)"
      ],
      "execution_count": 35,
      "outputs": [
        {
          "output_type": "execute_result",
          "data": {
            "text/plain": [
              "0.4642857142857143"
            ]
          },
          "metadata": {
            "tags": []
          },
          "execution_count": 35
        }
      ]
    },
    {
      "cell_type": "code",
      "metadata": {
        "colab": {
          "base_uri": "https://localhost:8080/"
        },
        "id": "Ms5BUNKy790c",
        "outputId": "6fcdbd32-f283-4d3d-9c71-91eb2787e91d"
      },
      "source": [
        "# Classification report\n",
        "y_pred_dummy = dummy.predict(X_test)\n",
        "print(classification_report(y_test, y_pred_dummy))# Finding true stock change"
      ],
      "execution_count": 36,
      "outputs": [
        {
          "output_type": "stream",
          "text": [
            "              precision    recall  f1-score   support\n",
            "\n",
            "           0       0.43      0.44      0.43        52\n",
            "           1       0.50      0.48      0.49        60\n",
            "\n",
            "    accuracy                           0.46       112\n",
            "   macro avg       0.46      0.46      0.46       112\n",
            "weighted avg       0.47      0.46      0.46       112\n",
            "\n"
          ],
          "name": "stdout"
        }
      ]
    },
    {
      "cell_type": "code",
      "metadata": {
        "colab": {
          "base_uri": "https://localhost:8080/",
          "height": 137
        },
        "id": "Sbe3F6yX8C5g",
        "outputId": "4140cc07-51a1-4c86-860a-428f2a526d99"
      },
      "source": [
        "# Create confusion matrix for basemodel\n",
        "\n",
        "# Finding the true stock change\n",
        "true_change = labelencoder_y.inverse_transform(y_test)\n",
        "\n",
        "# Predicted change \n",
        "predicted_change_dummy = labelencoder_y.inverse_transform(y_pred_dummy)\n",
        "\n",
        "# Obtaining confusion matrix\n",
        "result_dummy = pd.DataFrame({'true_change': true_change, 'predicted_change': predicted_change_dummy})\n",
        "pd.crosstab(result_dummy.true_change, result_dummy.predicted_change)"
      ],
      "execution_count": 37,
      "outputs": [
        {
          "output_type": "execute_result",
          "data": {
            "text/html": [
              "<div>\n",
              "<style scoped>\n",
              "    .dataframe tbody tr th:only-of-type {\n",
              "        vertical-align: middle;\n",
              "    }\n",
              "\n",
              "    .dataframe tbody tr th {\n",
              "        vertical-align: top;\n",
              "    }\n",
              "\n",
              "    .dataframe thead th {\n",
              "        text-align: right;\n",
              "    }\n",
              "</style>\n",
              "<table border=\"1\" class=\"dataframe\">\n",
              "  <thead>\n",
              "    <tr style=\"text-align: right;\">\n",
              "      <th>predicted_change</th>\n",
              "      <th>Decrease</th>\n",
              "      <th>Increase</th>\n",
              "    </tr>\n",
              "    <tr>\n",
              "      <th>true_change</th>\n",
              "      <th></th>\n",
              "      <th></th>\n",
              "    </tr>\n",
              "  </thead>\n",
              "  <tbody>\n",
              "    <tr>\n",
              "      <th>Decrease</th>\n",
              "      <td>23</td>\n",
              "      <td>29</td>\n",
              "    </tr>\n",
              "    <tr>\n",
              "      <th>Increase</th>\n",
              "      <td>31</td>\n",
              "      <td>29</td>\n",
              "    </tr>\n",
              "  </tbody>\n",
              "</table>\n",
              "</div>"
            ],
            "text/plain": [
              "predicted_change  Decrease  Increase\n",
              "true_change                         \n",
              "Decrease                23        29\n",
              "Increase                31        29"
            ]
          },
          "metadata": {
            "tags": []
          },
          "execution_count": 37
        }
      ]
    },
    {
      "cell_type": "markdown",
      "metadata": {
        "id": "uRtHLmRkYXZy"
      },
      "source": [
        "## Gridsearch for models"
      ]
    },
    {
      "cell_type": "code",
      "metadata": {
        "id": "SPanmwXVrG-M"
      },
      "source": [
        "# Setting parameters for gridsearch\n",
        "parameters_lr = {'penalty': ['l1', 'l2'], 'C': [0.1, 1.0, 10, 100], 'solver': ['liblinear']}\n",
        "parameters_rf = {'n_estimators':[10, 50, 100, 150, 200], 'criterion':('gini', 'entropy')}\n",
        "parameters_xgb = {'n_estimators':[10, 50, 100, 150, 200], 'learning_rate': [0.001, 0.005, 0.01, 0.1], 'max_depth': [4, 6, 8, 10], 'gamma': [0, 0.001, 0.005, 0.01, 0.02]}\n",
        "parameters_knn = {'weights':('uniform', 'distance'), 'n_neighbors':[3, 5, 7, 10, 25]}\n",
        "parameters_svc = [{'kernel': ['rbf'], 'gamma': [0.01, 0.1, 1, 10, 100], 'C': [0.1, 1, 10, 100, 1000]},\n",
        "                  {'kernel': ['linear'], 'C': [0.1, 1, 10, 100, 1000]}]"
      ],
      "execution_count": 38,
      "outputs": []
    },
    {
      "cell_type": "code",
      "metadata": {
        "id": "jc_uQRSNokI_"
      },
      "source": [
        "# Importing evaluation parameters\n",
        "from sklearn.metrics import r2_score\n",
        "from sklearn.metrics import accuracy_score\n",
        "from sklearn.metrics import confusion_matrix\n",
        "from mlxtend.plotting import plot_confusion_matrix\n",
        "from sklearn.metrics import classification_report\n",
        "from sklearn.metrics import fbeta_score, make_scorer\n",
        "\n",
        "# Importing gridsearch\n",
        "from sklearn.model_selection import GridSearchCV\n",
        "\n",
        "# Set scorer for optimal model\n",
        "scorer = make_scorer(accuracy_score)\n",
        "\n",
        "# Setting grid object using scorer as the scoring method \n",
        "# NOTE: the number of folds in cross validation has been decreased compared to the models using unfiltred tweets as less datapoints are now available (all non-related Tesla tweets have been removed)\n",
        "grid_obj_lr = GridSearchCV(m_lr, parameters_lr, scoring=scorer, cv=5)\n",
        "grid_obj_rf = GridSearchCV(m_rf, parameters_rf, scoring=scorer, cv=5)\n",
        "grid_obj_xgb = GridSearchCV(m_xgb, parameters_xgb, scoring=scorer, cv=5)\n",
        "grid_obj_knn = GridSearchCV(m_knn, parameters_knn, scoring=scorer, cv=5)\n",
        "grid_obj_svc = GridSearchCV(m_svc, parameters_svc, scoring=scorer, cv=5)"
      ],
      "execution_count": 39,
      "outputs": []
    },
    {
      "cell_type": "code",
      "metadata": {
        "id": "8Btha9Fv81gV"
      },
      "source": [
        "# Fitting the grid search to the training data\n",
        "# Note: Takes a long time to run\n",
        "grid_fit_lr = grid_obj_lr.fit(X_train, y_train)\n",
        "grid_fit_rf = grid_obj_rf.fit(X_train, y_train)\n",
        "grid_fit_xgb = grid_obj_xgb.fit(X_train, y_train)\n",
        "grid_fit_knn = grid_obj_knn.fit(X_train, y_train)\n",
        "grid_fit_svc = grid_obj_svc.fit(X_train, y_train)"
      ],
      "execution_count": 40,
      "outputs": []
    },
    {
      "cell_type": "markdown",
      "metadata": {
        "id": "QqXCy5FIYbp5"
      },
      "source": [
        "## Model Creation"
      ]
    },
    {
      "cell_type": "code",
      "metadata": {
        "id": "JlWveomFR_ql"
      },
      "source": [
        "# Get the best model with the optimal hyperparameters\n",
        "best_lr = grid_fit_lr.best_estimator_\n",
        "best_rf = grid_fit_rf.best_estimator_\n",
        "best_xgb = grid_fit_xgb.best_estimator_\n",
        "best_knn = grid_fit_knn.best_estimator_\n",
        "best_svc = grid_fit_svc.best_estimator_"
      ],
      "execution_count": 41,
      "outputs": []
    },
    {
      "cell_type": "code",
      "metadata": {
        "colab": {
          "base_uri": "https://localhost:8080/"
        },
        "id": "SUq689tq5Sxb",
        "outputId": "5a4e6989-2f2a-4ecc-e230-9308edf86699"
      },
      "source": [
        "# Fit the best model to the data\n",
        "print(\"Logistics Regression:\")\n",
        "print(best_lr.fit(X_train, y_train))\n",
        "print(\"Random forest:\")\n",
        "print(best_rf.fit(X_train, y_train))\n",
        "print(\"XGBoost:\")\n",
        "print(best_xgb.fit(X_train, y_train))\n",
        "print(\"Kneighbors:\")\n",
        "print(best_knn.fit(X_train, y_train))\n",
        "print(\"Support Vector Classifier:\")\n",
        "print(best_svc.fit(X_train, y_train))"
      ],
      "execution_count": 42,
      "outputs": [
        {
          "output_type": "stream",
          "text": [
            "Logistics Regression:\n",
            "LogisticRegression(C=0.1, class_weight=None, dual=False, fit_intercept=True,\n",
            "                   intercept_scaling=1, l1_ratio=None, max_iter=100,\n",
            "                   multi_class='auto', n_jobs=None, penalty='l2',\n",
            "                   random_state=None, solver='liblinear', tol=0.0001, verbose=0,\n",
            "                   warm_start=False)\n",
            "Random forest:\n",
            "RandomForestClassifier(bootstrap=True, ccp_alpha=0.0, class_weight=None,\n",
            "                       criterion='gini', max_depth=None, max_features='auto',\n",
            "                       max_leaf_nodes=None, max_samples=None,\n",
            "                       min_impurity_decrease=0.0, min_impurity_split=None,\n",
            "                       min_samples_leaf=1, min_samples_split=2,\n",
            "                       min_weight_fraction_leaf=0.0, n_estimators=50,\n",
            "                       n_jobs=None, oob_score=False, random_state=None,\n",
            "                       verbose=0, warm_start=False)\n",
            "XGBoost:\n",
            "XGBClassifier(base_score=0.5, booster='gbtree', colsample_bylevel=1,\n",
            "              colsample_bynode=1, colsample_bytree=1, gamma=0.02,\n",
            "              learning_rate=0.1, max_delta_step=0, max_depth=6,\n",
            "              min_child_weight=1, missing=None, n_estimators=200, n_jobs=1,\n",
            "              nthread=None, objective='binary:logistic', random_state=0,\n",
            "              reg_alpha=0, reg_lambda=1, scale_pos_weight=1, seed=None,\n",
            "              silent=None, subsample=1, verbosity=1)\n",
            "Kneighbors:\n",
            "KNeighborsClassifier(algorithm='auto', leaf_size=30, metric='minkowski',\n",
            "                     metric_params=None, n_jobs=None, n_neighbors=25, p=2,\n",
            "                     weights='uniform')\n",
            "Support Vector Classifier:\n",
            "SVC(C=100, break_ties=False, cache_size=200, class_weight=None, coef0=0.0,\n",
            "    decision_function_shape='ovr', degree=3, gamma=100, kernel='rbf',\n",
            "    max_iter=-1, probability=True, random_state=None, shrinking=True, tol=0.001,\n",
            "    verbose=False)\n"
          ],
          "name": "stdout"
        }
      ]
    },
    {
      "cell_type": "markdown",
      "metadata": {
        "id": "n2qd_wo0cwTa"
      },
      "source": [
        "##Model evaluation"
      ]
    },
    {
      "cell_type": "markdown",
      "metadata": {
        "id": "1CXtHX802CtM"
      },
      "source": [
        "**Accuracy**"
      ]
    },
    {
      "cell_type": "code",
      "metadata": {
        "colab": {
          "base_uri": "https://localhost:8080/"
        },
        "id": "z56_10T8ahHn",
        "outputId": "0fc90e74-a5dc-40c5-8f66-acc5f674e69d"
      },
      "source": [
        "# Printing accuracy scores\n",
        "print(\"Logistic Regression:\\t\\t\" + str(best_lr.score(X_test, y_test)))\n",
        "print(\"Random forest:\\t\\t\\t\" + str(best_rf.score(X_test, y_test)))\n",
        "print(\"XGBoost:\\t\\t\\t\" + str(best_xgb.score(X_test, y_test)))\n",
        "print(\"Kneighbors:\\t\\t\\t\" + str(best_knn.score(X_test, y_test)))\n",
        "print(\"Support Vector Classifier:\\t\" + str(best_svc.score(X_test, y_test)))"
      ],
      "execution_count": 43,
      "outputs": [
        {
          "output_type": "stream",
          "text": [
            "Logistic Regression:\t\t0.5267857142857143\n",
            "Random forest:\t\t\t0.5982142857142857\n",
            "XGBoost:\t\t\t0.5803571428571429\n",
            "Kneighbors:\t\t\t0.5267857142857143\n",
            "Support Vector Classifier:\t0.6071428571428571\n"
          ],
          "name": "stdout"
        }
      ]
    },
    {
      "cell_type": "markdown",
      "metadata": {
        "id": "q0XpCxsw2D5B"
      },
      "source": [
        "**Confusion matrix**"
      ]
    },
    {
      "cell_type": "markdown",
      "metadata": {
        "id": "RjE5fiEM2ITX"
      },
      "source": [
        "*Logistic regression*"
      ]
    },
    {
      "cell_type": "code",
      "metadata": {
        "colab": {
          "base_uri": "https://localhost:8080/",
          "height": 137
        },
        "id": "IEbgVIss76A_",
        "outputId": "752b96be-dbac-45e6-ebe9-acc94ef9ea8b"
      },
      "source": [
        "# Predicting the change in stock price and obtaining the initial labels of change in stock price\n",
        "y_pred_lr = best_lr.predict(X_test)\n",
        "predicted_change_lr = labelencoder_y.inverse_transform(y_pred_lr)\n",
        "\n",
        "# Obtaining confusion matrix\n",
        "result_lr = pd.DataFrame({'true_change': true_change, 'predicted_change': predicted_change_lr})\n",
        "pd.crosstab(result_lr.true_change, result_lr.predicted_change)"
      ],
      "execution_count": 44,
      "outputs": [
        {
          "output_type": "execute_result",
          "data": {
            "text/html": [
              "<div>\n",
              "<style scoped>\n",
              "    .dataframe tbody tr th:only-of-type {\n",
              "        vertical-align: middle;\n",
              "    }\n",
              "\n",
              "    .dataframe tbody tr th {\n",
              "        vertical-align: top;\n",
              "    }\n",
              "\n",
              "    .dataframe thead th {\n",
              "        text-align: right;\n",
              "    }\n",
              "</style>\n",
              "<table border=\"1\" class=\"dataframe\">\n",
              "  <thead>\n",
              "    <tr style=\"text-align: right;\">\n",
              "      <th>predicted_change</th>\n",
              "      <th>Decrease</th>\n",
              "      <th>Increase</th>\n",
              "    </tr>\n",
              "    <tr>\n",
              "      <th>true_change</th>\n",
              "      <th></th>\n",
              "      <th></th>\n",
              "    </tr>\n",
              "  </thead>\n",
              "  <tbody>\n",
              "    <tr>\n",
              "      <th>Decrease</th>\n",
              "      <td>15</td>\n",
              "      <td>37</td>\n",
              "    </tr>\n",
              "    <tr>\n",
              "      <th>Increase</th>\n",
              "      <td>16</td>\n",
              "      <td>44</td>\n",
              "    </tr>\n",
              "  </tbody>\n",
              "</table>\n",
              "</div>"
            ],
            "text/plain": [
              "predicted_change  Decrease  Increase\n",
              "true_change                         \n",
              "Decrease                15        37\n",
              "Increase                16        44"
            ]
          },
          "metadata": {
            "tags": []
          },
          "execution_count": 44
        }
      ]
    },
    {
      "cell_type": "markdown",
      "metadata": {
        "id": "J5saccWIDNcn"
      },
      "source": [
        "*Random forest*"
      ]
    },
    {
      "cell_type": "code",
      "metadata": {
        "colab": {
          "base_uri": "https://localhost:8080/",
          "height": 137
        },
        "id": "MDETUt2jDcmL",
        "outputId": "7ee64b1f-758b-440f-f8c4-e1ec5765f959"
      },
      "source": [
        "# Predicting the change in stock price and obtaining the initial labels of change in stock price\n",
        "y_pred_rf = best_rf.predict(X_test)\n",
        "predicted_change_rf = labelencoder_y.inverse_transform(y_pred_rf)\n",
        "\n",
        "# Obtaining confusion matrix\n",
        "result_rf = pd.DataFrame({'true_change': true_change, 'predicted_change': predicted_change_rf}) \n",
        "\n",
        "pd.crosstab(result_rf.true_change, result_rf.predicted_change)"
      ],
      "execution_count": 45,
      "outputs": [
        {
          "output_type": "execute_result",
          "data": {
            "text/html": [
              "<div>\n",
              "<style scoped>\n",
              "    .dataframe tbody tr th:only-of-type {\n",
              "        vertical-align: middle;\n",
              "    }\n",
              "\n",
              "    .dataframe tbody tr th {\n",
              "        vertical-align: top;\n",
              "    }\n",
              "\n",
              "    .dataframe thead th {\n",
              "        text-align: right;\n",
              "    }\n",
              "</style>\n",
              "<table border=\"1\" class=\"dataframe\">\n",
              "  <thead>\n",
              "    <tr style=\"text-align: right;\">\n",
              "      <th>predicted_change</th>\n",
              "      <th>Decrease</th>\n",
              "      <th>Increase</th>\n",
              "    </tr>\n",
              "    <tr>\n",
              "      <th>true_change</th>\n",
              "      <th></th>\n",
              "      <th></th>\n",
              "    </tr>\n",
              "  </thead>\n",
              "  <tbody>\n",
              "    <tr>\n",
              "      <th>Decrease</th>\n",
              "      <td>31</td>\n",
              "      <td>21</td>\n",
              "    </tr>\n",
              "    <tr>\n",
              "      <th>Increase</th>\n",
              "      <td>24</td>\n",
              "      <td>36</td>\n",
              "    </tr>\n",
              "  </tbody>\n",
              "</table>\n",
              "</div>"
            ],
            "text/plain": [
              "predicted_change  Decrease  Increase\n",
              "true_change                         \n",
              "Decrease                31        21\n",
              "Increase                24        36"
            ]
          },
          "metadata": {
            "tags": []
          },
          "execution_count": 45
        }
      ]
    },
    {
      "cell_type": "markdown",
      "metadata": {
        "id": "j_UljN9TaQiG"
      },
      "source": [
        "*XGBoost*"
      ]
    },
    {
      "cell_type": "code",
      "metadata": {
        "colab": {
          "base_uri": "https://localhost:8080/",
          "height": 137
        },
        "id": "gAwUIVu8EiDK",
        "outputId": "f1c9611a-95b1-44ef-eb0d-8b9e75f90725"
      },
      "source": [
        "# Predicting the change in stock price and obtaining the initial labels of change in stock price\n",
        "y_pred_xgb = best_xgb.predict(X_test)\n",
        "predicted_change_xgb = labelencoder_y.inverse_transform(y_pred_xgb)\n",
        "\n",
        "# Obtaining confusion matrix\n",
        "result_xgb = pd.DataFrame({'true_change': true_change, 'predicted_change': predicted_change_xgb}) \n",
        "\n",
        "pd.crosstab(result_xgb.true_change, result_xgb.predicted_change)"
      ],
      "execution_count": 46,
      "outputs": [
        {
          "output_type": "execute_result",
          "data": {
            "text/html": [
              "<div>\n",
              "<style scoped>\n",
              "    .dataframe tbody tr th:only-of-type {\n",
              "        vertical-align: middle;\n",
              "    }\n",
              "\n",
              "    .dataframe tbody tr th {\n",
              "        vertical-align: top;\n",
              "    }\n",
              "\n",
              "    .dataframe thead th {\n",
              "        text-align: right;\n",
              "    }\n",
              "</style>\n",
              "<table border=\"1\" class=\"dataframe\">\n",
              "  <thead>\n",
              "    <tr style=\"text-align: right;\">\n",
              "      <th>predicted_change</th>\n",
              "      <th>Decrease</th>\n",
              "      <th>Increase</th>\n",
              "    </tr>\n",
              "    <tr>\n",
              "      <th>true_change</th>\n",
              "      <th></th>\n",
              "      <th></th>\n",
              "    </tr>\n",
              "  </thead>\n",
              "  <tbody>\n",
              "    <tr>\n",
              "      <th>Decrease</th>\n",
              "      <td>30</td>\n",
              "      <td>22</td>\n",
              "    </tr>\n",
              "    <tr>\n",
              "      <th>Increase</th>\n",
              "      <td>25</td>\n",
              "      <td>35</td>\n",
              "    </tr>\n",
              "  </tbody>\n",
              "</table>\n",
              "</div>"
            ],
            "text/plain": [
              "predicted_change  Decrease  Increase\n",
              "true_change                         \n",
              "Decrease                30        22\n",
              "Increase                25        35"
            ]
          },
          "metadata": {
            "tags": []
          },
          "execution_count": 46
        }
      ]
    },
    {
      "cell_type": "markdown",
      "metadata": {
        "id": "UQDlHiRIactg"
      },
      "source": [
        "*k-Nearest Neighbors*"
      ]
    },
    {
      "cell_type": "code",
      "metadata": {
        "colab": {
          "base_uri": "https://localhost:8080/",
          "height": 137
        },
        "id": "kDpL9TqFaqgB",
        "outputId": "336f65a1-2a41-4398-e2dd-32ac6a8718ce"
      },
      "source": [
        "# Predicting the change in stock price and obtaining the initial labels of change in stock price\n",
        "y_pred_knn = best_knn.predict(X_test)\n",
        "predicted_change_knn = labelencoder_y.inverse_transform(y_pred_knn)\n",
        "\n",
        "# Obtaining confusion matrix\n",
        "result_knn = pd.DataFrame({'true_change': true_change, 'predicted_change': predicted_change_knn})\n",
        "\n",
        "pd.crosstab(result_knn.true_change, result_knn.predicted_change)"
      ],
      "execution_count": 47,
      "outputs": [
        {
          "output_type": "execute_result",
          "data": {
            "text/html": [
              "<div>\n",
              "<style scoped>\n",
              "    .dataframe tbody tr th:only-of-type {\n",
              "        vertical-align: middle;\n",
              "    }\n",
              "\n",
              "    .dataframe tbody tr th {\n",
              "        vertical-align: top;\n",
              "    }\n",
              "\n",
              "    .dataframe thead th {\n",
              "        text-align: right;\n",
              "    }\n",
              "</style>\n",
              "<table border=\"1\" class=\"dataframe\">\n",
              "  <thead>\n",
              "    <tr style=\"text-align: right;\">\n",
              "      <th>predicted_change</th>\n",
              "      <th>Decrease</th>\n",
              "      <th>Increase</th>\n",
              "    </tr>\n",
              "    <tr>\n",
              "      <th>true_change</th>\n",
              "      <th></th>\n",
              "      <th></th>\n",
              "    </tr>\n",
              "  </thead>\n",
              "  <tbody>\n",
              "    <tr>\n",
              "      <th>Decrease</th>\n",
              "      <td>26</td>\n",
              "      <td>26</td>\n",
              "    </tr>\n",
              "    <tr>\n",
              "      <th>Increase</th>\n",
              "      <td>27</td>\n",
              "      <td>33</td>\n",
              "    </tr>\n",
              "  </tbody>\n",
              "</table>\n",
              "</div>"
            ],
            "text/plain": [
              "predicted_change  Decrease  Increase\n",
              "true_change                         \n",
              "Decrease                26        26\n",
              "Increase                27        33"
            ]
          },
          "metadata": {
            "tags": []
          },
          "execution_count": 47
        }
      ]
    },
    {
      "cell_type": "markdown",
      "metadata": {
        "id": "XJutc0VabrFc"
      },
      "source": [
        "*Support Vector Classifier*"
      ]
    },
    {
      "cell_type": "code",
      "metadata": {
        "colab": {
          "base_uri": "https://localhost:8080/",
          "height": 137
        },
        "id": "IYdc_ac7b3p5",
        "outputId": "edd1fd5f-67b2-4546-e831-d36e5d45114f"
      },
      "source": [
        "# Predicting the change in stock price and obtaining the initial labels of change in stock price\n",
        "y_pred_svc = best_svc.predict(X_test)\n",
        "predicted_change_svc = labelencoder_y.inverse_transform(y_pred_svc)\n",
        "\n",
        "# Obtaining confusion matrix\n",
        "result_svc = pd.DataFrame({'true_change': true_change, 'predicted_change': predicted_change_svc}) \n",
        "\n",
        "pd.crosstab(result_svc.true_change, result_svc.predicted_change)"
      ],
      "execution_count": 48,
      "outputs": [
        {
          "output_type": "execute_result",
          "data": {
            "text/html": [
              "<div>\n",
              "<style scoped>\n",
              "    .dataframe tbody tr th:only-of-type {\n",
              "        vertical-align: middle;\n",
              "    }\n",
              "\n",
              "    .dataframe tbody tr th {\n",
              "        vertical-align: top;\n",
              "    }\n",
              "\n",
              "    .dataframe thead th {\n",
              "        text-align: right;\n",
              "    }\n",
              "</style>\n",
              "<table border=\"1\" class=\"dataframe\">\n",
              "  <thead>\n",
              "    <tr style=\"text-align: right;\">\n",
              "      <th>predicted_change</th>\n",
              "      <th>Decrease</th>\n",
              "      <th>Increase</th>\n",
              "    </tr>\n",
              "    <tr>\n",
              "      <th>true_change</th>\n",
              "      <th></th>\n",
              "      <th></th>\n",
              "    </tr>\n",
              "  </thead>\n",
              "  <tbody>\n",
              "    <tr>\n",
              "      <th>Decrease</th>\n",
              "      <td>25</td>\n",
              "      <td>27</td>\n",
              "    </tr>\n",
              "    <tr>\n",
              "      <th>Increase</th>\n",
              "      <td>17</td>\n",
              "      <td>43</td>\n",
              "    </tr>\n",
              "  </tbody>\n",
              "</table>\n",
              "</div>"
            ],
            "text/plain": [
              "predicted_change  Decrease  Increase\n",
              "true_change                         \n",
              "Decrease                25        27\n",
              "Increase                17        43"
            ]
          },
          "metadata": {
            "tags": []
          },
          "execution_count": 48
        }
      ]
    },
    {
      "cell_type": "markdown",
      "metadata": {
        "id": "7BKQxExX3IVX"
      },
      "source": [
        "**Classification reports**"
      ]
    },
    {
      "cell_type": "code",
      "metadata": {
        "colab": {
          "base_uri": "https://localhost:8080/"
        },
        "id": "F0Q6YV_nB0-n",
        "outputId": "0fa78406-d1c0-4550-f6e6-9e9763ccf585"
      },
      "source": [
        "print(classification_report(y_test, y_pred_lr))"
      ],
      "execution_count": 49,
      "outputs": [
        {
          "output_type": "stream",
          "text": [
            "              precision    recall  f1-score   support\n",
            "\n",
            "           0       0.48      0.29      0.36        52\n",
            "           1       0.54      0.73      0.62        60\n",
            "\n",
            "    accuracy                           0.53       112\n",
            "   macro avg       0.51      0.51      0.49       112\n",
            "weighted avg       0.52      0.53      0.50       112\n",
            "\n"
          ],
          "name": "stdout"
        }
      ]
    },
    {
      "cell_type": "code",
      "metadata": {
        "colab": {
          "base_uri": "https://localhost:8080/"
        },
        "id": "Ft_T7a5MDwXs",
        "outputId": "1299d85c-5d1c-4af3-e283-bd22013f5be9"
      },
      "source": [
        "print(classification_report(y_test, y_pred_rf))"
      ],
      "execution_count": 50,
      "outputs": [
        {
          "output_type": "stream",
          "text": [
            "              precision    recall  f1-score   support\n",
            "\n",
            "           0       0.56      0.60      0.58        52\n",
            "           1       0.63      0.60      0.62        60\n",
            "\n",
            "    accuracy                           0.60       112\n",
            "   macro avg       0.60      0.60      0.60       112\n",
            "weighted avg       0.60      0.60      0.60       112\n",
            "\n"
          ],
          "name": "stdout"
        }
      ]
    },
    {
      "cell_type": "code",
      "metadata": {
        "colab": {
          "base_uri": "https://localhost:8080/"
        },
        "id": "KBzg4LfOFWRR",
        "outputId": "9cd540f6-e308-430a-bff2-8a68f65c661b"
      },
      "source": [
        "print(classification_report(y_test, y_pred_xgb))"
      ],
      "execution_count": 51,
      "outputs": [
        {
          "output_type": "stream",
          "text": [
            "              precision    recall  f1-score   support\n",
            "\n",
            "           0       0.55      0.58      0.56        52\n",
            "           1       0.61      0.58      0.60        60\n",
            "\n",
            "    accuracy                           0.58       112\n",
            "   macro avg       0.58      0.58      0.58       112\n",
            "weighted avg       0.58      0.58      0.58       112\n",
            "\n"
          ],
          "name": "stdout"
        }
      ]
    },
    {
      "cell_type": "code",
      "metadata": {
        "colab": {
          "base_uri": "https://localhost:8080/"
        },
        "id": "K0pE2hHqbOws",
        "outputId": "a6a966b5-e092-4498-ea07-db81e67a1d1e"
      },
      "source": [
        "print(classification_report(y_test, y_pred_knn))"
      ],
      "execution_count": 52,
      "outputs": [
        {
          "output_type": "stream",
          "text": [
            "              precision    recall  f1-score   support\n",
            "\n",
            "           0       0.49      0.50      0.50        52\n",
            "           1       0.56      0.55      0.55        60\n",
            "\n",
            "    accuracy                           0.53       112\n",
            "   macro avg       0.52      0.53      0.52       112\n",
            "weighted avg       0.53      0.53      0.53       112\n",
            "\n"
          ],
          "name": "stdout"
        }
      ]
    },
    {
      "cell_type": "code",
      "metadata": {
        "colab": {
          "base_uri": "https://localhost:8080/"
        },
        "id": "l7IzX7MFcTL7",
        "outputId": "0d211c2e-a737-408d-c595-a3de028a276c"
      },
      "source": [
        "print(classification_report(y_test, y_pred_svc))"
      ],
      "execution_count": 53,
      "outputs": [
        {
          "output_type": "stream",
          "text": [
            "              precision    recall  f1-score   support\n",
            "\n",
            "           0       0.60      0.48      0.53        52\n",
            "           1       0.61      0.72      0.66        60\n",
            "\n",
            "    accuracy                           0.61       112\n",
            "   macro avg       0.60      0.60      0.60       112\n",
            "weighted avg       0.61      0.61      0.60       112\n",
            "\n"
          ],
          "name": "stdout"
        }
      ]
    },
    {
      "cell_type": "markdown",
      "metadata": {
        "id": "wwDZinUmG37U"
      },
      "source": [
        "**Over-/Underfitting**"
      ]
    },
    {
      "cell_type": "code",
      "metadata": {
        "colab": {
          "base_uri": "https://localhost:8080/"
        },
        "id": "pQbnecteHECH",
        "outputId": "978715b4-73e7-48f8-b226-87dadb98b86e"
      },
      "source": [
        "# Importing AUC score and ROC curve\n",
        "from sklearn.metrics import roc_auc_score\n",
        "from sklearn.metrics import roc_curve\n",
        "\n",
        "# Calculating proba (if the model prediction is correct)  \n",
        "best_svc_proba_train = best_svc.predict_proba(X_train)\n",
        "best_svc_proba_test = best_svc.predict_proba(X_test)\n",
        " \n",
        "# Calculating AUC scores\n",
        "auc_score_train = roc_auc_score(y_train, best_svc_proba_train[:,1])\n",
        "auc_score_test = roc_auc_score(y_test, best_svc_proba_test[:,1])\n",
        " \n",
        "print(auc_score_train, auc_score_test)"
      ],
      "execution_count": 54,
      "outputs": [
        {
          "output_type": "stream",
          "text": [
            "0.9006658595641647 0.6230769230769231\n"
          ],
          "name": "stdout"
        }
      ]
    },
    {
      "cell_type": "code",
      "metadata": {
        "id": "2IHSHC1bHXuQ"
      },
      "source": [
        "# ROC curve for models\n",
        "fpr1, tpr1, thresh1 = roc_curve(y_train, best_svc_proba_train[:,1], pos_label=1)\n",
        "fpr2, tpr2, thresh2 = roc_curve(y_test, best_svc_proba_test[:,1], pos_label=1)\n",
        " \n",
        "# Creating line for when tpr = fpr \n",
        "random_probs = [0 for i in range(len(y_test))]\n",
        "p_fpr, p_tpr, _ = roc_curve(y_test, random_probs, pos_label=1)"
      ],
      "execution_count": 55,
      "outputs": []
    },
    {
      "cell_type": "code",
      "metadata": {
        "colab": {
          "base_uri": "https://localhost:8080/",
          "height": 375
        },
        "id": "eAaNYaNQHOg1",
        "outputId": "ca0e03b0-c72d-404d-a96b-e07f027908aa"
      },
      "source": [
        "# Plotting the ROC curve\n",
        "plt.style.use('seaborn')\n",
        " \n",
        "# Plotting ROC curves\n",
        "plt.plot(fpr1, tpr1, linestyle='--',color='orange', label='SVC on Train set')\n",
        "plt.plot(fpr2, tpr2, linestyle='--',color='green', label='SVC on Test set')\n",
        "plt.plot(p_fpr, p_tpr, linestyle='--', color='blue')\n",
        "plt.title('ROC curve - Model 3')\n",
        "plt.xlabel('False Positive Rate (1 - Specificity)')\n",
        "plt.ylabel('True Positive rate (Sensitivity)')\n",
        " \n",
        "plt.legend(loc='best')\n",
        "plt.savefig('ROC',dpi=500)\n",
        "plt.show();"
      ],
      "execution_count": 56,
      "outputs": [
        {
          "output_type": "display_data",
          "data": {
            "image/png": "[encoded data removed]",
            "text/plain": [
              "<Figure size 576x396 with 1 Axes>"
            ]
          },
          "metadata": {
            "tags": []
          }
        }
      ]
    },
    {
      "cell_type": "markdown",
      "metadata": {
        "id": "H-eFz7TaMUJu"
      },
      "source": [
        "**Pemutation impotance**"
      ]
    },
    {
      "cell_type": "code",
      "metadata": {
        "id": "Q9jKZ3_fJFXw"
      },
      "source": [
        "# Importing permutation importance\n",
        "from sklearn.inspection import permutation_importance"
      ],
      "execution_count": 57,
      "outputs": []
    },
    {
      "cell_type": "code",
      "metadata": {
        "colab": {
          "base_uri": "https://localhost:8080/",
          "height": 378
        },
        "id": "6enWkmDDJNJa",
        "outputId": "758b1600-7199-47b0-9683-c908234dc6e2"
      },
      "source": [
        "# Visualizaing the permutation importance (the decrease in a model score when a single feature value is randomly shuffled)\n",
        "# Negative score indicates noise in the model (note: only indicative)\n",
        "perm_importance = permutation_importance(best_svc, X_test, y_test, n_repeats=100)\n",
        "sorted_idx = perm_importance.importances_mean.argsort()\n",
        "plt.barh(sorted_idx, perm_importance.importances_mean[sorted_idx])\n",
        "plt.xlabel(\"Permutation Importance\")"
      ],
      "execution_count": 58,
      "outputs": [
        {
          "output_type": "execute_result",
          "data": {
            "text/plain": [
              "Text(0.5, 0, 'Permutation Importance')"
            ]
          },
          "metadata": {
            "tags": []
          },
          "execution_count": 58
        },
        {
          "output_type": "display_data",
          "data": {
            "image/png": "[encoded data removed]",
            "text/plain": [
              "<Figure size 576x396 with 1 Axes>"
            ]
          },
          "metadata": {
            "tags": []
          }
        }
      ]
    },
    {
      "cell_type": "markdown",
      "metadata": {
        "id": "4ikOYheDQ9Qf"
      },
      "source": [
        "**Import to pdf**"
      ]
    },
    {
      "cell_type": "code",
      "metadata": {
        "colab": {
          "base_uri": "https://localhost:8080/"
        },
        "id": "KSSlqIFwQ-xP",
        "outputId": "98038213-d099-4d18-de33-72f5c9c702b1"
      },
      "source": [
        "from google.colab import drive\n",
        "drive.mount('/content/drive')"
      ],
      "execution_count": 9,
      "outputs": [
        {
          "output_type": "stream",
          "text": [
            "Drive already mounted at /content/drive; to attempt to forcibly remount, call drive.mount(\"/content/drive\", force_remount=True).\n"
          ],
          "name": "stdout"
        }
      ]
    },
    {
      "cell_type": "code",
      "metadata": {
        "id": "AoqMdehmQ_5z"
      },
      "source": [
        "%%capture\n",
        "!wget -nc https://raw.githubusercontent.com/brpy/colab-pdf/master/colab_pdf.py \n",
        "from colab_pdf import colab_pdf \n",
        "colab_pdf('Predicting_stock_price_(filtered_on_Tesla_topic))')"
      ],
      "execution_count": 13,
      "outputs": []
    }
  ]
}