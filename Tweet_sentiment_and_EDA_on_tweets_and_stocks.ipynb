{
  "nbformat": 4,
  "nbformat_minor": 0,
  "metadata": {
    "colab": {
      "name": "Tweet_sentiment_and_EDA_on_tweets_and_stocks",
      "provenance": [],
      "collapsed_sections": []
    },
    "kernelspec": {
      "display_name": "Python 3",
      "name": "python3"
    }
  },
  "cells": [
    {
      "cell_type": "markdown",
      "metadata": {
        "id": "L4Ozes6t2dkw"
      },
      "source": [
        "**Importing data**"
      ]
    },
    {
      "cell_type": "code",
      "metadata": {
        "id": "2YJc10XbyaqR"
      },
      "source": [
        "# Enable making data frames\n",
        "import pandas as pd\n",
        "\n",
        "# Importing numpy\n",
        "import numpy as np"
      ],
      "execution_count": 1,
      "outputs": []
    },
    {
      "cell_type": "code",
      "metadata": {
        "id": "yF3nc3Eb5Soi"
      },
      "source": [
        "# Importing raw tweets\n",
        "tweets_raw = pd.read_csv('https://raw.githubusercontent.com/MariaRosendal/Tesla-tweets/main/tweets.csv')"
      ],
      "execution_count": 2,
      "outputs": []
    },
    {
      "cell_type": "code",
      "metadata": {
        "colab": {
          "base_uri": "https://localhost:8080/",
          "height": 401
        },
        "id": "c46dJ-J9vBf6",
        "outputId": "ce7284e7-c826-4f7c-8ab5-a892958c63ef"
      },
      "source": [
        "# Let's have a look\n",
        "tweets_raw.head()"
      ],
      "execution_count": 3,
      "outputs": [
        {
          "output_type": "execute_result",
          "data": {
            "text/html": [
              "<div>\n",
              "<style scoped>\n",
              "    .dataframe tbody tr th:only-of-type {\n",
              "        vertical-align: middle;\n",
              "    }\n",
              "\n",
              "    .dataframe tbody tr th {\n",
              "        vertical-align: top;\n",
              "    }\n",
              "\n",
              "    .dataframe thead th {\n",
              "        text-align: right;\n",
              "    }\n",
              "</style>\n",
              "<table border=\"1\" class=\"dataframe\">\n",
              "  <thead>\n",
              "    <tr style=\"text-align: right;\">\n",
              "      <th></th>\n",
              "      <th>id</th>\n",
              "      <th>conversation_id</th>\n",
              "      <th>created_at</th>\n",
              "      <th>date</th>\n",
              "      <th>time</th>\n",
              "      <th>timezone</th>\n",
              "      <th>user_id</th>\n",
              "      <th>username</th>\n",
              "      <th>name</th>\n",
              "      <th>place</th>\n",
              "      <th>tweet</th>\n",
              "      <th>language</th>\n",
              "      <th>mentions</th>\n",
              "      <th>urls</th>\n",
              "      <th>photos</th>\n",
              "      <th>replies_count</th>\n",
              "      <th>retweets_count</th>\n",
              "      <th>likes_count</th>\n",
              "      <th>hashtags</th>\n",
              "      <th>cashtags</th>\n",
              "      <th>link</th>\n",
              "      <th>retweet</th>\n",
              "      <th>quote_url</th>\n",
              "      <th>video</th>\n",
              "      <th>thumbnail</th>\n",
              "      <th>near</th>\n",
              "      <th>geo</th>\n",
              "      <th>source</th>\n",
              "      <th>user_rt_id</th>\n",
              "      <th>user_rt</th>\n",
              "      <th>retweet_id</th>\n",
              "      <th>reply_to</th>\n",
              "      <th>retweet_date</th>\n",
              "      <th>translate</th>\n",
              "      <th>trans_src</th>\n",
              "      <th>trans_dest</th>\n",
              "    </tr>\n",
              "  </thead>\n",
              "  <tbody>\n",
              "    <tr>\n",
              "      <th>0</th>\n",
              "      <td>1328458535340949505</td>\n",
              "      <td>1328428879334297600</td>\n",
              "      <td>2020-11-16 22:02:51 UTC</td>\n",
              "      <td>2020-11-16</td>\n",
              "      <td>22:02:51</td>\n",
              "      <td>0</td>\n",
              "      <td>44196397</td>\n",
              "      <td>elonmusk</td>\n",
              "      <td>Elon Musk</td>\n",
              "      <td>NaN</td>\n",
              "      <td>@Maisie_Williams 🎶 Toss a bitcoin to ur Witcher 🎶</td>\n",
              "      <td>en</td>\n",
              "      <td>[]</td>\n",
              "      <td>[]</td>\n",
              "      <td>[]</td>\n",
              "      <td>1148</td>\n",
              "      <td>3448</td>\n",
              "      <td>66981</td>\n",
              "      <td>[]</td>\n",
              "      <td>[]</td>\n",
              "      <td>https://twitter.com/elonmusk/status/1328458535...</td>\n",
              "      <td>False</td>\n",
              "      <td>NaN</td>\n",
              "      <td>0</td>\n",
              "      <td>NaN</td>\n",
              "      <td>NaN</td>\n",
              "      <td>NaN</td>\n",
              "      <td>NaN</td>\n",
              "      <td>NaN</td>\n",
              "      <td>NaN</td>\n",
              "      <td>NaN</td>\n",
              "      <td>[{'screen_name': 'Maisie_Williams', 'name': 'M...</td>\n",
              "      <td>NaN</td>\n",
              "      <td>NaN</td>\n",
              "      <td>NaN</td>\n",
              "      <td>NaN</td>\n",
              "    </tr>\n",
              "    <tr>\n",
              "      <th>1</th>\n",
              "      <td>1328451518010327042</td>\n",
              "      <td>1328143001697230848</td>\n",
              "      <td>2020-11-16 21:34:57 UTC</td>\n",
              "      <td>2020-11-16</td>\n",
              "      <td>21:34:57</td>\n",
              "      <td>0</td>\n",
              "      <td>44196397</td>\n",
              "      <td>elonmusk</td>\n",
              "      <td>Elon Musk</td>\n",
              "      <td>NaN</td>\n",
              "      <td>@Kristennetten 😉</td>\n",
              "      <td>und</td>\n",
              "      <td>[]</td>\n",
              "      <td>[]</td>\n",
              "      <td>[]</td>\n",
              "      <td>100</td>\n",
              "      <td>37</td>\n",
              "      <td>2203</td>\n",
              "      <td>[]</td>\n",
              "      <td>[]</td>\n",
              "      <td>https://twitter.com/elonmusk/status/1328451518...</td>\n",
              "      <td>False</td>\n",
              "      <td>NaN</td>\n",
              "      <td>0</td>\n",
              "      <td>NaN</td>\n",
              "      <td>NaN</td>\n",
              "      <td>NaN</td>\n",
              "      <td>NaN</td>\n",
              "      <td>NaN</td>\n",
              "      <td>NaN</td>\n",
              "      <td>NaN</td>\n",
              "      <td>[{'screen_name': 'Kristennetten', 'name': 'K10...</td>\n",
              "      <td>NaN</td>\n",
              "      <td>NaN</td>\n",
              "      <td>NaN</td>\n",
              "      <td>NaN</td>\n",
              "    </tr>\n",
              "    <tr>\n",
              "      <th>2</th>\n",
              "      <td>1328424097110323200</td>\n",
              "      <td>1328352029190877185</td>\n",
              "      <td>2020-11-16 19:46:00 UTC</td>\n",
              "      <td>2020-11-16</td>\n",
              "      <td>19:46:00</td>\n",
              "      <td>0</td>\n",
              "      <td>44196397</td>\n",
              "      <td>elonmusk</td>\n",
              "      <td>Elon Musk</td>\n",
              "      <td>NaN</td>\n",
              "      <td>@WhatsupFranks @michaelmina_lab CureVac, Moder...</td>\n",
              "      <td>en</td>\n",
              "      <td>[]</td>\n",
              "      <td>[]</td>\n",
              "      <td>[]</td>\n",
              "      <td>72</td>\n",
              "      <td>75</td>\n",
              "      <td>1090</td>\n",
              "      <td>[]</td>\n",
              "      <td>[]</td>\n",
              "      <td>https://twitter.com/elonmusk/status/1328424097...</td>\n",
              "      <td>False</td>\n",
              "      <td>NaN</td>\n",
              "      <td>0</td>\n",
              "      <td>NaN</td>\n",
              "      <td>NaN</td>\n",
              "      <td>NaN</td>\n",
              "      <td>NaN</td>\n",
              "      <td>NaN</td>\n",
              "      <td>NaN</td>\n",
              "      <td>NaN</td>\n",
              "      <td>[{'screen_name': 'WhatsupFranks', 'name': 'fra...</td>\n",
              "      <td>NaN</td>\n",
              "      <td>NaN</td>\n",
              "      <td>NaN</td>\n",
              "      <td>NaN</td>\n",
              "    </tr>\n",
              "    <tr>\n",
              "      <th>3</th>\n",
              "      <td>1328421992144355328</td>\n",
              "      <td>1328352029190877185</td>\n",
              "      <td>2020-11-16 19:37:38 UTC</td>\n",
              "      <td>2020-11-16</td>\n",
              "      <td>19:37:38</td>\n",
              "      <td>0</td>\n",
              "      <td>44196397</td>\n",
              "      <td>elonmusk</td>\n",
              "      <td>Elon Musk</td>\n",
              "      <td>NaN</td>\n",
              "      <td>@michaelmina_lab Creating synthetic mRNA for c...</td>\n",
              "      <td>en</td>\n",
              "      <td>[]</td>\n",
              "      <td>[]</td>\n",
              "      <td>[]</td>\n",
              "      <td>96</td>\n",
              "      <td>90</td>\n",
              "      <td>1221</td>\n",
              "      <td>[]</td>\n",
              "      <td>[]</td>\n",
              "      <td>https://twitter.com/elonmusk/status/1328421992...</td>\n",
              "      <td>False</td>\n",
              "      <td>NaN</td>\n",
              "      <td>0</td>\n",
              "      <td>NaN</td>\n",
              "      <td>NaN</td>\n",
              "      <td>NaN</td>\n",
              "      <td>NaN</td>\n",
              "      <td>NaN</td>\n",
              "      <td>NaN</td>\n",
              "      <td>NaN</td>\n",
              "      <td>[{'screen_name': 'michaelmina_lab', 'name': 'M...</td>\n",
              "      <td>NaN</td>\n",
              "      <td>NaN</td>\n",
              "      <td>NaN</td>\n",
              "      <td>NaN</td>\n",
              "    </tr>\n",
              "    <tr>\n",
              "      <th>4</th>\n",
              "      <td>1328419837656276992</td>\n",
              "      <td>1328338500064845825</td>\n",
              "      <td>2020-11-16 19:29:04 UTC</td>\n",
              "      <td>2020-11-16</td>\n",
              "      <td>19:29:04</td>\n",
              "      <td>0</td>\n",
              "      <td>44196397</td>\n",
              "      <td>elonmusk</td>\n",
              "      <td>Elon Musk</td>\n",
              "      <td>NaN</td>\n",
              "      <td>@gaertner_anne @Neuro_Skeptic @DresdenTea @jud...</td>\n",
              "      <td>tl</td>\n",
              "      <td>[]</td>\n",
              "      <td>[]</td>\n",
              "      <td>[]</td>\n",
              "      <td>55</td>\n",
              "      <td>32</td>\n",
              "      <td>1412</td>\n",
              "      <td>[]</td>\n",
              "      <td>[]</td>\n",
              "      <td>https://twitter.com/elonmusk/status/1328419837...</td>\n",
              "      <td>False</td>\n",
              "      <td>NaN</td>\n",
              "      <td>0</td>\n",
              "      <td>NaN</td>\n",
              "      <td>NaN</td>\n",
              "      <td>NaN</td>\n",
              "      <td>NaN</td>\n",
              "      <td>NaN</td>\n",
              "      <td>NaN</td>\n",
              "      <td>NaN</td>\n",
              "      <td>[{'screen_name': 'gaertner_anne', 'name': 'Ann...</td>\n",
              "      <td>NaN</td>\n",
              "      <td>NaN</td>\n",
              "      <td>NaN</td>\n",
              "      <td>NaN</td>\n",
              "    </tr>\n",
              "  </tbody>\n",
              "</table>\n",
              "</div>"
            ],
            "text/plain": [
              "                    id      conversation_id  ... trans_src trans_dest\n",
              "0  1328458535340949505  1328428879334297600  ...       NaN        NaN\n",
              "1  1328451518010327042  1328143001697230848  ...       NaN        NaN\n",
              "2  1328424097110323200  1328352029190877185  ...       NaN        NaN\n",
              "3  1328421992144355328  1328352029190877185  ...       NaN        NaN\n",
              "4  1328419837656276992  1328338500064845825  ...       NaN        NaN\n",
              "\n",
              "[5 rows x 36 columns]"
            ]
          },
          "metadata": {
            "tags": []
          },
          "execution_count": 3
        }
      ]
    },
    {
      "cell_type": "code",
      "metadata": {
        "colab": {
          "base_uri": "https://localhost:8080/"
        },
        "id": "nmoMHaqaKpwt",
        "outputId": "cf86a81a-1bbf-45a3-e67f-a263ad3a8fc2"
      },
      "source": [
        "tweets_raw.info()"
      ],
      "execution_count": 4,
      "outputs": [
        {
          "output_type": "stream",
          "text": [
            "<class 'pandas.core.frame.DataFrame'>\n",
            "RangeIndex: 10230 entries, 0 to 10229\n",
            "Data columns (total 36 columns):\n",
            " #   Column           Non-Null Count  Dtype  \n",
            "---  ------           --------------  -----  \n",
            " 0   id               10230 non-null  int64  \n",
            " 1   conversation_id  10230 non-null  int64  \n",
            " 2   created_at       10230 non-null  object \n",
            " 3   date             10230 non-null  object \n",
            " 4   time             10230 non-null  object \n",
            " 5   timezone         10230 non-null  int64  \n",
            " 6   user_id          10230 non-null  int64  \n",
            " 7   username         10230 non-null  object \n",
            " 8   name             10230 non-null  object \n",
            " 9   place            0 non-null      float64\n",
            " 10  tweet            10230 non-null  object \n",
            " 11  language         10230 non-null  object \n",
            " 12  mentions         10230 non-null  object \n",
            " 13  urls             10230 non-null  object \n",
            " 14  photos           10230 non-null  object \n",
            " 15  replies_count    10230 non-null  int64  \n",
            " 16  retweets_count   10230 non-null  int64  \n",
            " 17  likes_count      10230 non-null  int64  \n",
            " 18  hashtags         10230 non-null  object \n",
            " 19  cashtags         10230 non-null  object \n",
            " 20  link             10230 non-null  object \n",
            " 21  retweet          10230 non-null  bool   \n",
            " 22  quote_url        381 non-null    object \n",
            " 23  video            10230 non-null  int64  \n",
            " 24  thumbnail        589 non-null    object \n",
            " 25  near             0 non-null      float64\n",
            " 26  geo              0 non-null      float64\n",
            " 27  source           0 non-null      float64\n",
            " 28  user_rt_id       0 non-null      float64\n",
            " 29  user_rt          0 non-null      float64\n",
            " 30  retweet_id       0 non-null      float64\n",
            " 31  reply_to         10230 non-null  object \n",
            " 32  retweet_date     0 non-null      float64\n",
            " 33  translate        0 non-null      float64\n",
            " 34  trans_src        0 non-null      float64\n",
            " 35  trans_dest       0 non-null      float64\n",
            "dtypes: bool(1), float64(11), int64(8), object(16)\n",
            "memory usage: 2.7+ MB\n"
          ],
          "name": "stdout"
        }
      ]
    },
    {
      "cell_type": "code",
      "metadata": {
        "colab": {
          "base_uri": "https://localhost:8080/",
          "height": 307
        },
        "id": "zpBbU7KvKsYX",
        "outputId": "8e198f82-ef8b-456a-d9fd-bebaa7c554c1"
      },
      "source": [
        "tweets_raw.describe().round(2)"
      ],
      "execution_count": 5,
      "outputs": [
        {
          "output_type": "execute_result",
          "data": {
            "text/html": [
              "<div>\n",
              "<style scoped>\n",
              "    .dataframe tbody tr th:only-of-type {\n",
              "        vertical-align: middle;\n",
              "    }\n",
              "\n",
              "    .dataframe tbody tr th {\n",
              "        vertical-align: top;\n",
              "    }\n",
              "\n",
              "    .dataframe thead th {\n",
              "        text-align: right;\n",
              "    }\n",
              "</style>\n",
              "<table border=\"1\" class=\"dataframe\">\n",
              "  <thead>\n",
              "    <tr style=\"text-align: right;\">\n",
              "      <th></th>\n",
              "      <th>id</th>\n",
              "      <th>conversation_id</th>\n",
              "      <th>timezone</th>\n",
              "      <th>user_id</th>\n",
              "      <th>place</th>\n",
              "      <th>replies_count</th>\n",
              "      <th>retweets_count</th>\n",
              "      <th>likes_count</th>\n",
              "      <th>video</th>\n",
              "      <th>near</th>\n",
              "      <th>geo</th>\n",
              "      <th>source</th>\n",
              "      <th>user_rt_id</th>\n",
              "      <th>user_rt</th>\n",
              "      <th>retweet_id</th>\n",
              "      <th>retweet_date</th>\n",
              "      <th>translate</th>\n",
              "      <th>trans_src</th>\n",
              "      <th>trans_dest</th>\n",
              "    </tr>\n",
              "  </thead>\n",
              "  <tbody>\n",
              "    <tr>\n",
              "      <th>count</th>\n",
              "      <td>1.023000e+04</td>\n",
              "      <td>1.023000e+04</td>\n",
              "      <td>10230.0</td>\n",
              "      <td>10230.0</td>\n",
              "      <td>0.0</td>\n",
              "      <td>10230.00</td>\n",
              "      <td>10230.00</td>\n",
              "      <td>10230.00</td>\n",
              "      <td>10230.00</td>\n",
              "      <td>0.0</td>\n",
              "      <td>0.0</td>\n",
              "      <td>0.0</td>\n",
              "      <td>0.0</td>\n",
              "      <td>0.0</td>\n",
              "      <td>0.0</td>\n",
              "      <td>0.0</td>\n",
              "      <td>0.0</td>\n",
              "      <td>0.0</td>\n",
              "      <td>0.0</td>\n",
              "    </tr>\n",
              "    <tr>\n",
              "      <th>mean</th>\n",
              "      <td>1.093816e+18</td>\n",
              "      <td>1.091027e+18</td>\n",
              "      <td>0.0</td>\n",
              "      <td>44196397.0</td>\n",
              "      <td>NaN</td>\n",
              "      <td>557.39</td>\n",
              "      <td>2226.22</td>\n",
              "      <td>19569.01</td>\n",
              "      <td>0.06</td>\n",
              "      <td>NaN</td>\n",
              "      <td>NaN</td>\n",
              "      <td>NaN</td>\n",
              "      <td>NaN</td>\n",
              "      <td>NaN</td>\n",
              "      <td>NaN</td>\n",
              "      <td>NaN</td>\n",
              "      <td>NaN</td>\n",
              "      <td>NaN</td>\n",
              "      <td>NaN</td>\n",
              "    </tr>\n",
              "    <tr>\n",
              "      <th>std</th>\n",
              "      <td>1.653157e+17</td>\n",
              "      <td>1.701199e+17</td>\n",
              "      <td>0.0</td>\n",
              "      <td>0.0</td>\n",
              "      <td>NaN</td>\n",
              "      <td>1932.38</td>\n",
              "      <td>10115.00</td>\n",
              "      <td>59726.37</td>\n",
              "      <td>0.23</td>\n",
              "      <td>NaN</td>\n",
              "      <td>NaN</td>\n",
              "      <td>NaN</td>\n",
              "      <td>NaN</td>\n",
              "      <td>NaN</td>\n",
              "      <td>NaN</td>\n",
              "      <td>NaN</td>\n",
              "      <td>NaN</td>\n",
              "      <td>NaN</td>\n",
              "      <td>NaN</td>\n",
              "    </tr>\n",
              "    <tr>\n",
              "      <th>min</th>\n",
              "      <td>6.675167e+17</td>\n",
              "      <td>1.659576e+09</td>\n",
              "      <td>0.0</td>\n",
              "      <td>44196397.0</td>\n",
              "      <td>NaN</td>\n",
              "      <td>0.00</td>\n",
              "      <td>0.00</td>\n",
              "      <td>57.00</td>\n",
              "      <td>0.00</td>\n",
              "      <td>NaN</td>\n",
              "      <td>NaN</td>\n",
              "      <td>NaN</td>\n",
              "      <td>NaN</td>\n",
              "      <td>NaN</td>\n",
              "      <td>NaN</td>\n",
              "      <td>NaN</td>\n",
              "      <td>NaN</td>\n",
              "      <td>NaN</td>\n",
              "      <td>NaN</td>\n",
              "    </tr>\n",
              "    <tr>\n",
              "      <th>25%</th>\n",
              "      <td>1.000081e+18</td>\n",
              "      <td>9.993676e+17</td>\n",
              "      <td>0.0</td>\n",
              "      <td>44196397.0</td>\n",
              "      <td>NaN</td>\n",
              "      <td>47.00</td>\n",
              "      <td>44.00</td>\n",
              "      <td>1018.25</td>\n",
              "      <td>0.00</td>\n",
              "      <td>NaN</td>\n",
              "      <td>NaN</td>\n",
              "      <td>NaN</td>\n",
              "      <td>NaN</td>\n",
              "      <td>NaN</td>\n",
              "      <td>NaN</td>\n",
              "      <td>NaN</td>\n",
              "      <td>NaN</td>\n",
              "      <td>NaN</td>\n",
              "      <td>NaN</td>\n",
              "    </tr>\n",
              "    <tr>\n",
              "      <th>50%</th>\n",
              "      <td>1.119283e+18</td>\n",
              "      <td>1.117901e+18</td>\n",
              "      <td>0.0</td>\n",
              "      <td>44196397.0</td>\n",
              "      <td>NaN</td>\n",
              "      <td>110.00</td>\n",
              "      <td>129.00</td>\n",
              "      <td>2625.50</td>\n",
              "      <td>0.00</td>\n",
              "      <td>NaN</td>\n",
              "      <td>NaN</td>\n",
              "      <td>NaN</td>\n",
              "      <td>NaN</td>\n",
              "      <td>NaN</td>\n",
              "      <td>NaN</td>\n",
              "      <td>NaN</td>\n",
              "      <td>NaN</td>\n",
              "      <td>NaN</td>\n",
              "      <td>NaN</td>\n",
              "    </tr>\n",
              "    <tr>\n",
              "      <th>75%</th>\n",
              "      <td>1.238623e+18</td>\n",
              "      <td>1.237239e+18</td>\n",
              "      <td>0.0</td>\n",
              "      <td>44196397.0</td>\n",
              "      <td>NaN</td>\n",
              "      <td>376.00</td>\n",
              "      <td>858.50</td>\n",
              "      <td>11936.25</td>\n",
              "      <td>0.00</td>\n",
              "      <td>NaN</td>\n",
              "      <td>NaN</td>\n",
              "      <td>NaN</td>\n",
              "      <td>NaN</td>\n",
              "      <td>NaN</td>\n",
              "      <td>NaN</td>\n",
              "      <td>NaN</td>\n",
              "      <td>NaN</td>\n",
              "      <td>NaN</td>\n",
              "      <td>NaN</td>\n",
              "    </tr>\n",
              "    <tr>\n",
              "      <th>max</th>\n",
              "      <td>1.328459e+18</td>\n",
              "      <td>1.328429e+18</td>\n",
              "      <td>0.0</td>\n",
              "      <td>44196397.0</td>\n",
              "      <td>NaN</td>\n",
              "      <td>47526.00</td>\n",
              "      <td>372865.00</td>\n",
              "      <td>1638662.00</td>\n",
              "      <td>1.00</td>\n",
              "      <td>NaN</td>\n",
              "      <td>NaN</td>\n",
              "      <td>NaN</td>\n",
              "      <td>NaN</td>\n",
              "      <td>NaN</td>\n",
              "      <td>NaN</td>\n",
              "      <td>NaN</td>\n",
              "      <td>NaN</td>\n",
              "      <td>NaN</td>\n",
              "      <td>NaN</td>\n",
              "    </tr>\n",
              "  </tbody>\n",
              "</table>\n",
              "</div>"
            ],
            "text/plain": [
              "                 id  conversation_id  ...  trans_src  trans_dest\n",
              "count  1.023000e+04     1.023000e+04  ...        0.0         0.0\n",
              "mean   1.093816e+18     1.091027e+18  ...        NaN         NaN\n",
              "std    1.653157e+17     1.701199e+17  ...        NaN         NaN\n",
              "min    6.675167e+17     1.659576e+09  ...        NaN         NaN\n",
              "25%    1.000081e+18     9.993676e+17  ...        NaN         NaN\n",
              "50%    1.119283e+18     1.117901e+18  ...        NaN         NaN\n",
              "75%    1.238623e+18     1.237239e+18  ...        NaN         NaN\n",
              "max    1.328459e+18     1.328429e+18  ...        NaN         NaN\n",
              "\n",
              "[8 rows x 19 columns]"
            ]
          },
          "metadata": {
            "tags": []
          },
          "execution_count": 5
        }
      ]
    },
    {
      "cell_type": "code",
      "metadata": {
        "colab": {
          "base_uri": "https://localhost:8080/",
          "height": 197
        },
        "id": "g64acrLWCG5B",
        "outputId": "13027b75-7de6-412f-bca6-8e988c4e0357"
      },
      "source": [
        "elon_musk = tweets_raw.loc[:,['date', 'username', 'tweet', 'replies_count', 'retweets_count', 'likes_count']]\n",
        "elon_musk.head()"
      ],
      "execution_count": 6,
      "outputs": [
        {
          "output_type": "execute_result",
          "data": {
            "text/html": [
              "<div>\n",
              "<style scoped>\n",
              "    .dataframe tbody tr th:only-of-type {\n",
              "        vertical-align: middle;\n",
              "    }\n",
              "\n",
              "    .dataframe tbody tr th {\n",
              "        vertical-align: top;\n",
              "    }\n",
              "\n",
              "    .dataframe thead th {\n",
              "        text-align: right;\n",
              "    }\n",
              "</style>\n",
              "<table border=\"1\" class=\"dataframe\">\n",
              "  <thead>\n",
              "    <tr style=\"text-align: right;\">\n",
              "      <th></th>\n",
              "      <th>date</th>\n",
              "      <th>username</th>\n",
              "      <th>tweet</th>\n",
              "      <th>replies_count</th>\n",
              "      <th>retweets_count</th>\n",
              "      <th>likes_count</th>\n",
              "    </tr>\n",
              "  </thead>\n",
              "  <tbody>\n",
              "    <tr>\n",
              "      <th>0</th>\n",
              "      <td>2020-11-16</td>\n",
              "      <td>elonmusk</td>\n",
              "      <td>@Maisie_Williams 🎶 Toss a bitcoin to ur Witcher 🎶</td>\n",
              "      <td>1148</td>\n",
              "      <td>3448</td>\n",
              "      <td>66981</td>\n",
              "    </tr>\n",
              "    <tr>\n",
              "      <th>1</th>\n",
              "      <td>2020-11-16</td>\n",
              "      <td>elonmusk</td>\n",
              "      <td>@Kristennetten 😉</td>\n",
              "      <td>100</td>\n",
              "      <td>37</td>\n",
              "      <td>2203</td>\n",
              "    </tr>\n",
              "    <tr>\n",
              "      <th>2</th>\n",
              "      <td>2020-11-16</td>\n",
              "      <td>elonmusk</td>\n",
              "      <td>@WhatsupFranks @michaelmina_lab CureVac, Moder...</td>\n",
              "      <td>72</td>\n",
              "      <td>75</td>\n",
              "      <td>1090</td>\n",
              "    </tr>\n",
              "    <tr>\n",
              "      <th>3</th>\n",
              "      <td>2020-11-16</td>\n",
              "      <td>elonmusk</td>\n",
              "      <td>@michaelmina_lab Creating synthetic mRNA for c...</td>\n",
              "      <td>96</td>\n",
              "      <td>90</td>\n",
              "      <td>1221</td>\n",
              "    </tr>\n",
              "    <tr>\n",
              "      <th>4</th>\n",
              "      <td>2020-11-16</td>\n",
              "      <td>elonmusk</td>\n",
              "      <td>@gaertner_anne @Neuro_Skeptic @DresdenTea @jud...</td>\n",
              "      <td>55</td>\n",
              "      <td>32</td>\n",
              "      <td>1412</td>\n",
              "    </tr>\n",
              "  </tbody>\n",
              "</table>\n",
              "</div>"
            ],
            "text/plain": [
              "         date  username  ... retweets_count  likes_count\n",
              "0  2020-11-16  elonmusk  ...           3448        66981\n",
              "1  2020-11-16  elonmusk  ...             37         2203\n",
              "2  2020-11-16  elonmusk  ...             75         1090\n",
              "3  2020-11-16  elonmusk  ...             90         1221\n",
              "4  2020-11-16  elonmusk  ...             32         1412\n",
              "\n",
              "[5 rows x 6 columns]"
            ]
          },
          "metadata": {
            "tags": []
          },
          "execution_count": 6
        }
      ]
    },
    {
      "cell_type": "code",
      "metadata": {
        "id": "WzZSnTMVyO93"
      },
      "source": [
        "# Make dates to datetime format\n",
        "elon_musk['date'] = pd.to_datetime(elon_musk.date)"
      ],
      "execution_count": 7,
      "outputs": []
    },
    {
      "cell_type": "code",
      "metadata": {
        "id": "gzrHLt2ciNEU"
      },
      "source": [
        "#Set the date as index\n",
        "elon_musk.set_index('date', inplace=True)"
      ],
      "execution_count": 8,
      "outputs": []
    },
    {
      "cell_type": "markdown",
      "metadata": {
        "id": "cj-FCtoI3GcR"
      },
      "source": [
        "# Exploratory data analysis"
      ]
    },
    {
      "cell_type": "code",
      "metadata": {
        "id": "QLS5-Ip-t2Fv"
      },
      "source": [
        "# Import packages for visualization\n",
        "import seaborn as sns\n",
        "import matplotlib.pyplot as plt\n",
        "sns.set_style(\"dark\")"
      ],
      "execution_count": 9,
      "outputs": []
    },
    {
      "cell_type": "code",
      "metadata": {
        "colab": {
          "base_uri": "https://localhost:8080/",
          "height": 444
        },
        "id": "FqIxJzZL88pz",
        "outputId": "5119b5db-fb85-4eaa-e2b4-63981d2c805c"
      },
      "source": [
        "# Visualizing tweets over time\n",
        "elon_musk.groupby('date').tweet.count().plot(figsize=(14, 7), fontsize=14)\n",
        "plt.xlabel(\"Time\", fontsize=14)\n",
        "plt.ylabel(\"Number of tweets\", fontsize=14)\n",
        "plt.title(\"Number of tweets over time\")\n",
        "plt.show()"
      ],
      "execution_count": 10,
      "outputs": [
        {
          "output_type": "display_data",
          "data": {
            "image/png": "[encoded data removed]",
            "text/plain": [
              "<Figure size 1008x504 with 1 Axes>"
            ]
          },
          "metadata": {
            "tags": []
          }
        }
      ]
    },
    {
      "cell_type": "code",
      "metadata": {
        "colab": {
          "base_uri": "https://localhost:8080/",
          "height": 296
        },
        "id": "fDUTDiW_Ih1o",
        "outputId": "f80aff11-18f1-453d-d622-a3cda9cb71c1"
      },
      "source": [
        "# Visualizaing likes over time\n",
        "elon_musk.resample('M').count()['likes_count'].plot()"
      ],
      "execution_count": 11,
      "outputs": [
        {
          "output_type": "execute_result",
          "data": {
            "text/plain": [
              "<matplotlib.axes._subplots.AxesSubplot at 0x7f049af72518>"
            ]
          },
          "metadata": {
            "tags": []
          },
          "execution_count": 11
        },
        {
          "output_type": "display_data",
          "data": {
            "image/png": "[encoded data removed]",
            "text/plain": [
              "<Figure size 432x288 with 1 Axes>"
            ]
          },
          "metadata": {
            "tags": []
          }
        }
      ]
    },
    {
      "cell_type": "code",
      "metadata": {
        "colab": {
          "base_uri": "https://localhost:8080/",
          "height": 548
        },
        "id": "iIyrObRixErG",
        "outputId": "ab0736b7-811e-4c6a-f961-1c9469403f90"
      },
      "source": [
        "# Elon Musk's top mentions in his tweets\n",
        "import itertools\n",
        "c = list(\n",
        "itertools.chain(\n",
        "    *elon_musk.tweet.map(lambda t: [handle.replace(\":\", \"\")[1:] for handle in t.split(\" \") \n",
        "                            if '@' in handle.replace(\":\", \"\")]).tolist()))\n",
        "pd.Series(c).value_counts().head(20).plot.bar(\n",
        "    figsize=(14, 7), fontsize=16)\n",
        "plt.gca().set_title(\"Elon Musk's top mentions\", fontsize=20)\n",
        "plt.gca().set_xticklabels(plt.gca().get_xticklabels(), rotation=45, ha='right', fontsize=16)\n",
        "pass"
      ],
      "execution_count": 12,
      "outputs": [
        {
          "output_type": "display_data",
          "data": {
            "image/png": "[encoded data removed]",
            "text/plain": [
              "<Figure size 1008x504 with 1 Axes>"
            ]
          },
          "metadata": {
            "tags": []
          }
        }
      ]
    },
    {
      "cell_type": "code",
      "metadata": {
        "colab": {
          "base_uri": "https://localhost:8080/",
          "height": 593
        },
        "id": "-GGqtTO497WC",
        "outputId": "976c9320-cad4-42a1-b7af-497a726b1d91"
      },
      "source": [
        "# Elon Musk's top hashtags in his tweets\n",
        "import itertools\n",
        "c = list(\n",
        "itertools.chain(\n",
        "    *elon_musk.tweet.map(lambda t: [handle.replace(\":\", \"\")[1:] for handle in t.split(\" \") \n",
        "                            if '#' in handle.replace(\":\", \"\")]).tolist()))\n",
        "pd.Series(c).value_counts().head(20).plot.bar(\n",
        "    figsize=(14, 7), fontsize=16)\n",
        "plt.gca().set_title(\"Elon Musk's top hashtags\", fontsize=20)\n",
        "plt.gca().set_xticklabels(plt.gca().get_xticklabels(), rotation=45, ha='right', fontsize=16)\n",
        "pass"
      ],
      "execution_count": 13,
      "outputs": [
        {
          "output_type": "display_data",
          "data": {
            "image/png": "[encoded data removed]",
            "text/plain": [
              "<Figure size 1008x504 with 1 Axes>"
            ]
          },
          "metadata": {
            "tags": []
          }
        }
      ]
    },
    {
      "cell_type": "markdown",
      "metadata": {
        "id": "SzVdk5lLbYKb"
      },
      "source": [
        "# Preprocessing of tweets for sentiment analysis"
      ]
    },
    {
      "cell_type": "markdown",
      "metadata": {
        "id": "IDquq-NGe_jy"
      },
      "source": [
        "**Removing lowest retweeted tweets**"
      ]
    },
    {
      "cell_type": "code",
      "metadata": {
        "colab": {
          "base_uri": "https://localhost:8080/"
        },
        "id": "_o1FClqO39_9",
        "outputId": "b5ef913c-9eb9-47e9-d807-c26fb31dea0c"
      },
      "source": [
        "# Number of tweets before removing bottom 10% retweeted tweets per year\n",
        "elon_musk.shape"
      ],
      "execution_count": 14,
      "outputs": [
        {
          "output_type": "execute_result",
          "data": {
            "text/plain": [
              "(10230, 5)"
            ]
          },
          "metadata": {
            "tags": []
          },
          "execution_count": 14
        }
      ]
    },
    {
      "cell_type": "code",
      "metadata": {
        "id": "2KHPQe6l1JM3"
      },
      "source": [
        "# Removing bottom 10% tweets with the least retweets per year (as they have been seen by few and will have little effect on the stock price)\n",
        "\n",
        "# Defining x for when tweets are retweeted may than bottom 10% retweets (for every year)\n",
        "for year in elon_musk.index.year:\n",
        "  x = (elon_musk.retweets_count > elon_musk.retweets_count.quantile(0.1))\n",
        "\n",
        "# Create column with top retweets (True if rows are to be keept)\n",
        "elon_musk['top_retweets'] = x\n",
        "\n",
        "# Keep only top tweets with most retweets (i.e removing rows with bottom 10% retweets)\n",
        "elon_musk = elon_musk[elon_musk['top_retweets'] == True].copy()\n",
        "\n",
        "## Remove top retweets column (no longer needed)\n",
        "elon_musk.drop('top_retweets', axis=1, inplace=True)"
      ],
      "execution_count": 15,
      "outputs": []
    },
    {
      "cell_type": "code",
      "metadata": {
        "colab": {
          "base_uri": "https://localhost:8080/"
        },
        "id": "s6UHgHQ5H3i9",
        "outputId": "595aea1a-23c2-4910-c099-82d4273a4059"
      },
      "source": [
        "# Number of tweets after removing bottom 10% retweeted tweets per year\n",
        "elon_musk.shape"
      ],
      "execution_count": 16,
      "outputs": [
        {
          "output_type": "execute_result",
          "data": {
            "text/plain": [
              "(9144, 5)"
            ]
          },
          "metadata": {
            "tags": []
          },
          "execution_count": 16
        }
      ]
    },
    {
      "cell_type": "markdown",
      "metadata": {
        "id": "5NISLT6ifG2F"
      },
      "source": [
        "**Tweet preprocessing**"
      ]
    },
    {
      "cell_type": "code",
      "metadata": {
        "id": "FJ74fvPoWYvF"
      },
      "source": [
        "#Importring nltk\n",
        "import nltk\n",
        "\n",
        "# Importing tweet preprocessor\n",
        "!pip install tweet-preprocessor\n",
        "import preprocessor as p"
      ],
      "execution_count": null,
      "outputs": []
    },
    {
      "cell_type": "code",
      "metadata": {
        "id": "KHwzvmYgLntz"
      },
      "source": [
        "# Setting options for the cleaner to delete from the tweet\n",
        "p.set_options(p.OPT.RESERVED, p.OPT.URL, p.OPT.MENTION, p.OPT.HASHTAG)"
      ],
      "execution_count": 18,
      "outputs": []
    },
    {
      "cell_type": "code",
      "metadata": {
        "id": "8DpzDy4gU7Dr"
      },
      "source": [
        "# Cleaning the tweets\n",
        "elon_musk['tweet_clean'] = [p.clean(tweet) for tweet in elon_musk['tweet']]"
      ],
      "execution_count": 19,
      "outputs": []
    },
    {
      "cell_type": "code",
      "metadata": {
        "id": "6eGzKY5tSsUx"
      },
      "source": [
        "# Remove amp\n",
        "elon_musk['tweet_clean'] = elon_musk['tweet_clean'].replace('&amp;','', regex=True)"
      ],
      "execution_count": 20,
      "outputs": []
    },
    {
      "cell_type": "markdown",
      "metadata": {
        "id": "CEOazB2MhPCA"
      },
      "source": [
        "Note: We keep punctuations, upper cases and smileys/emojies as they have an effect on sentiment analysis. Furthermore, lemmatization and tokenization are not needed for Vader."
      ]
    },
    {
      "cell_type": "code",
      "metadata": {
        "id": "ZSfaBxJVDQht"
      },
      "source": [
        "#Removing empty rows in tweet_clean_string\n",
        "elon_musk['tweet_clean'].replace(\"\",float(\"NaN\"), inplace=True)\n",
        "\n",
        "elon_musk.dropna(subset = ['tweet_clean'], inplace=True)"
      ],
      "execution_count": 21,
      "outputs": []
    },
    {
      "cell_type": "code",
      "metadata": {
        "colab": {
          "base_uri": "https://localhost:8080/",
          "height": 227
        },
        "id": "WZ4TvPwnqscg",
        "outputId": "de0c38cd-6bba-48c8-c3dc-6a4685fd27c6"
      },
      "source": [
        "elon_musk.head()"
      ],
      "execution_count": 22,
      "outputs": [
        {
          "output_type": "execute_result",
          "data": {
            "text/html": [
              "<div>\n",
              "<style scoped>\n",
              "    .dataframe tbody tr th:only-of-type {\n",
              "        vertical-align: middle;\n",
              "    }\n",
              "\n",
              "    .dataframe tbody tr th {\n",
              "        vertical-align: top;\n",
              "    }\n",
              "\n",
              "    .dataframe thead th {\n",
              "        text-align: right;\n",
              "    }\n",
              "</style>\n",
              "<table border=\"1\" class=\"dataframe\">\n",
              "  <thead>\n",
              "    <tr style=\"text-align: right;\">\n",
              "      <th></th>\n",
              "      <th>username</th>\n",
              "      <th>tweet</th>\n",
              "      <th>replies_count</th>\n",
              "      <th>retweets_count</th>\n",
              "      <th>likes_count</th>\n",
              "      <th>tweet_clean</th>\n",
              "    </tr>\n",
              "    <tr>\n",
              "      <th>date</th>\n",
              "      <th></th>\n",
              "      <th></th>\n",
              "      <th></th>\n",
              "      <th></th>\n",
              "      <th></th>\n",
              "      <th></th>\n",
              "    </tr>\n",
              "  </thead>\n",
              "  <tbody>\n",
              "    <tr>\n",
              "      <th>2020-11-16</th>\n",
              "      <td>elonmusk</td>\n",
              "      <td>@Maisie_Williams 🎶 Toss a bitcoin to ur Witcher 🎶</td>\n",
              "      <td>1148</td>\n",
              "      <td>3448</td>\n",
              "      <td>66981</td>\n",
              "      <td>🎶 Toss a bitcoin to ur Witcher 🎶</td>\n",
              "    </tr>\n",
              "    <tr>\n",
              "      <th>2020-11-16</th>\n",
              "      <td>elonmusk</td>\n",
              "      <td>@Kristennetten 😉</td>\n",
              "      <td>100</td>\n",
              "      <td>37</td>\n",
              "      <td>2203</td>\n",
              "      <td>😉</td>\n",
              "    </tr>\n",
              "    <tr>\n",
              "      <th>2020-11-16</th>\n",
              "      <td>elonmusk</td>\n",
              "      <td>@WhatsupFranks @michaelmina_lab CureVac, Moder...</td>\n",
              "      <td>72</td>\n",
              "      <td>75</td>\n",
              "      <td>1090</td>\n",
              "      <td>CureVac, Moderna  a few others. Tesla makes th...</td>\n",
              "    </tr>\n",
              "    <tr>\n",
              "      <th>2020-11-16</th>\n",
              "      <td>elonmusk</td>\n",
              "      <td>@michaelmina_lab Creating synthetic mRNA for c...</td>\n",
              "      <td>96</td>\n",
              "      <td>90</td>\n",
              "      <td>1221</td>\n",
              "      <td>Creating synthetic mRNA for cures/vaccines is ...</td>\n",
              "    </tr>\n",
              "    <tr>\n",
              "      <th>2020-11-16</th>\n",
              "      <td>elonmusk</td>\n",
              "      <td>@gaertner_anne @Neuro_Skeptic @DresdenTea @jud...</td>\n",
              "      <td>55</td>\n",
              "      <td>32</td>\n",
              "      <td>1412</td>\n",
              "      <td>Haha</td>\n",
              "    </tr>\n",
              "  </tbody>\n",
              "</table>\n",
              "</div>"
            ],
            "text/plain": [
              "            username  ...                                        tweet_clean\n",
              "date                  ...                                                   \n",
              "2020-11-16  elonmusk  ...                   🎶 Toss a bitcoin to ur Witcher 🎶\n",
              "2020-11-16  elonmusk  ...                                                  😉\n",
              "2020-11-16  elonmusk  ...  CureVac, Moderna  a few others. Tesla makes th...\n",
              "2020-11-16  elonmusk  ...  Creating synthetic mRNA for cures/vaccines is ...\n",
              "2020-11-16  elonmusk  ...                                               Haha\n",
              "\n",
              "[5 rows x 6 columns]"
            ]
          },
          "metadata": {
            "tags": []
          },
          "execution_count": 22
        }
      ]
    },
    {
      "cell_type": "markdown",
      "metadata": {
        "id": "YiZAuTVScfzg"
      },
      "source": [
        "# Sentiment analysis\n",
        "\n",
        "We used sentiment analysis (Vader) in NLP as it identifies the emotive state of Elon Musk's tweets. The score can be \"positive\", \"neutral\" or \"negative\". In this way it served as an indication of Musk’s emotion for the day, which will later be compared to the movement in the Tesla stock behaviour for the following day."
      ]
    },
    {
      "cell_type": "code",
      "metadata": {
        "id": "8RRTImvRPzPV"
      },
      "source": [
        "# Too apply the sentiment score for each day we firstly concatenate the tweets on the same day\n",
        "elon_musk_daily = pd.DataFrame(elon_musk.groupby(elon_musk.index).tweet_clean.apply('. '.join))\n",
        "elon_musk_daily.columns =['conc_tweet']"
      ],
      "execution_count": 29,
      "outputs": []
    },
    {
      "cell_type": "code",
      "metadata": {
        "id": "w3DcymBnPmxD"
      },
      "source": [
        "!pip install twython"
      ],
      "execution_count": null,
      "outputs": []
    },
    {
      "cell_type": "code",
      "metadata": {
        "id": "Rreq2HOLYoKA"
      },
      "source": [
        "# Importing sentiment analyzer\n",
        "from nltk.sentiment.vader import SentimentIntensityAnalyzer\n",
        "nltk.download('vader_lexicon')"
      ],
      "execution_count": null,
      "outputs": []
    },
    {
      "cell_type": "code",
      "metadata": {
        "id": "Ee-1dfvV5hqF"
      },
      "source": [
        "# Generating sentiment scores for each tweet and a compound score (including all scores)\n",
        "\n",
        "analyzer = SentimentIntensityAnalyzer()\n",
        "\n",
        "elon_musk_daily['neg_sentiment'] = elon_musk_daily['conc_tweet'].apply(lambda x:analyzer.polarity_scores(x)['neg'])\n",
        "elon_musk_daily['neu_sentiment'] = elon_musk_daily['conc_tweet'].apply(lambda x:analyzer.polarity_scores(x)['neu'])\n",
        "elon_musk_daily['pos_sentiment'] = elon_musk_daily['conc_tweet'].apply(lambda x:analyzer.polarity_scores(x)['pos'])\n",
        "elon_musk_daily['compound_sentiment'] = elon_musk_daily['conc_tweet'].apply(lambda x:analyzer.polarity_scores(x)['compound'])\n"
      ],
      "execution_count": 32,
      "outputs": []
    },
    {
      "cell_type": "code",
      "metadata": {
        "id": "8LXfAYBWpnQg",
        "colab": {
          "base_uri": "https://localhost:8080/"
        },
        "outputId": "ac0e3bc6-734c-4053-b265-b0ffcb8ed2dc"
      },
      "source": [
        "#Let's see how many rows we have now\n",
        "elon_musk_daily.info()"
      ],
      "execution_count": 34,
      "outputs": [
        {
          "output_type": "stream",
          "text": [
            "<class 'pandas.core.frame.DataFrame'>\n",
            "DatetimeIndex: 1344 entries, 2015-11-20 to 2020-11-16\n",
            "Data columns (total 5 columns):\n",
            " #   Column              Non-Null Count  Dtype  \n",
            "---  ------              --------------  -----  \n",
            " 0   conc_tweet          1344 non-null   object \n",
            " 1   neg_sentiment       1344 non-null   float64\n",
            " 2   neu_sentiment       1344 non-null   float64\n",
            " 3   pos_sentiment       1344 non-null   float64\n",
            " 4   compound_sentiment  1344 non-null   float64\n",
            "dtypes: float64(4), object(1)\n",
            "memory usage: 63.0+ KB\n"
          ],
          "name": "stdout"
        }
      ]
    },
    {
      "cell_type": "code",
      "metadata": {
        "id": "VsUwlLXXP9Hm",
        "colab": {
          "base_uri": "https://localhost:8080/"
        },
        "outputId": "3a96532f-33d2-494c-a7fe-912a750bda30"
      },
      "source": [
        "# We now drop all rows that are neither classified as neg, neu or pos (as they would only create noise in the model)\n",
        "elon_musk_daily = elon_musk_daily[~((elon_musk_daily.neg_sentiment == 0) & (elon_musk_daily.neu_sentiment == 0) & (elon_musk_daily.pos_sentiment == 0))]\n",
        "\n",
        "#Let's have a look at the dataframe again\n",
        "elon_musk_daily.info()"
      ],
      "execution_count": 35,
      "outputs": [
        {
          "output_type": "stream",
          "text": [
            "<class 'pandas.core.frame.DataFrame'>\n",
            "DatetimeIndex: 1341 entries, 2015-11-20 to 2020-11-16\n",
            "Data columns (total 5 columns):\n",
            " #   Column              Non-Null Count  Dtype  \n",
            "---  ------              --------------  -----  \n",
            " 0   conc_tweet          1341 non-null   object \n",
            " 1   neg_sentiment       1341 non-null   float64\n",
            " 2   neu_sentiment       1341 non-null   float64\n",
            " 3   pos_sentiment       1341 non-null   float64\n",
            " 4   compound_sentiment  1341 non-null   float64\n",
            "dtypes: float64(4), object(1)\n",
            "memory usage: 62.9+ KB\n"
          ],
          "name": "stdout"
        }
      ]
    },
    {
      "cell_type": "code",
      "metadata": {
        "id": "VwTXgF2kEEUv"
      },
      "source": [
        "#Also adding the number of tweets per day (later used as an explanatory variable)\n",
        "\n",
        "# Number of tweets per day\n",
        "elon_musk_daily['tweets_count'] = elon_musk.groupby(elon_musk.index).tweet.count()"
      ],
      "execution_count": 36,
      "outputs": []
    },
    {
      "cell_type": "code",
      "metadata": {
        "colab": {
          "base_uri": "https://localhost:8080/",
          "height": 436
        },
        "id": "mgOZ3-kxErIi",
        "outputId": "41fd766e-f4a4-47d8-b755-29af3613a569"
      },
      "source": [
        "elon_musk_daily"
      ],
      "execution_count": 37,
      "outputs": [
        {
          "output_type": "execute_result",
          "data": {
            "text/html": [
              "<div>\n",
              "<style scoped>\n",
              "    .dataframe tbody tr th:only-of-type {\n",
              "        vertical-align: middle;\n",
              "    }\n",
              "\n",
              "    .dataframe tbody tr th {\n",
              "        vertical-align: top;\n",
              "    }\n",
              "\n",
              "    .dataframe thead th {\n",
              "        text-align: right;\n",
              "    }\n",
              "</style>\n",
              "<table border=\"1\" class=\"dataframe\">\n",
              "  <thead>\n",
              "    <tr style=\"text-align: right;\">\n",
              "      <th></th>\n",
              "      <th>conc_tweet</th>\n",
              "      <th>neg_sentiment</th>\n",
              "      <th>neu_sentiment</th>\n",
              "      <th>pos_sentiment</th>\n",
              "      <th>compound_sentiment</th>\n",
              "      <th>tweets_count</th>\n",
              "    </tr>\n",
              "    <tr>\n",
              "      <th>date</th>\n",
              "      <th></th>\n",
              "      <th></th>\n",
              "      <th></th>\n",
              "      <th></th>\n",
              "      <th></th>\n",
              "      <th></th>\n",
              "    </tr>\n",
              "  </thead>\n",
              "  <tbody>\n",
              "    <tr>\n",
              "      <th>2015-11-20</th>\n",
              "      <td>Sounds perfect, you had me at \"enterprise\".. Y...</td>\n",
              "      <td>0.078</td>\n",
              "      <td>0.726</td>\n",
              "      <td>0.196</td>\n",
              "      <td>0.8481</td>\n",
              "      <td>6</td>\n",
              "    </tr>\n",
              "    <tr>\n",
              "      <th>2015-11-24</th>\n",
              "      <td>Yep, good points. I hope you get back into spa...</td>\n",
              "      <td>0.020</td>\n",
              "      <td>0.821</td>\n",
              "      <td>0.158</td>\n",
              "      <td>0.9545</td>\n",
              "      <td>8</td>\n",
              "    </tr>\n",
              "    <tr>\n",
              "      <th>2015-12-02</th>\n",
              "      <td>About to give a talk at the Sorbonne</td>\n",
              "      <td>0.000</td>\n",
              "      <td>1.000</td>\n",
              "      <td>0.000</td>\n",
              "      <td>0.0000</td>\n",
              "      <td>1</td>\n",
              "    </tr>\n",
              "    <tr>\n",
              "      <th>2015-12-03</th>\n",
              "      <td>Good summary of my talk in Paris on climate ch...</td>\n",
              "      <td>0.000</td>\n",
              "      <td>0.756</td>\n",
              "      <td>0.244</td>\n",
              "      <td>0.4404</td>\n",
              "      <td>1</td>\n",
              "    </tr>\n",
              "    <tr>\n",
              "      <th>2015-12-04</th>\n",
              "      <td>Nice ride! Looking forward to seeing you tomor...</td>\n",
              "      <td>0.000</td>\n",
              "      <td>0.694</td>\n",
              "      <td>0.306</td>\n",
              "      <td>0.4753</td>\n",
              "      <td>1</td>\n",
              "    </tr>\n",
              "    <tr>\n",
              "      <th>...</th>\n",
              "      <td>...</td>\n",
              "      <td>...</td>\n",
              "      <td>...</td>\n",
              "      <td>...</td>\n",
              "      <td>...</td>\n",
              "      <td>...</td>\n",
              "    </tr>\n",
              "    <tr>\n",
              "      <th>2020-11-12</th>\n",
              "      <td>🤣🤣👍. 4 Astronauts fly to on Sat night from Cap...</td>\n",
              "      <td>0.000</td>\n",
              "      <td>0.714</td>\n",
              "      <td>0.286</td>\n",
              "      <td>0.8020</td>\n",
              "      <td>3</td>\n",
              "    </tr>\n",
              "    <tr>\n",
              "      <th>2020-11-13</th>\n",
              "      <td>This a great reference! Worth a read.. Case cl...</td>\n",
              "      <td>0.070</td>\n",
              "      <td>0.757</td>\n",
              "      <td>0.173</td>\n",
              "      <td>0.9967</td>\n",
              "      <td>28</td>\n",
              "    </tr>\n",
              "    <tr>\n",
              "      <th>2020-11-14</th>\n",
              "      <td>Cool, but please be super cautious. Expect two...</td>\n",
              "      <td>0.038</td>\n",
              "      <td>0.796</td>\n",
              "      <td>0.165</td>\n",
              "      <td>0.9884</td>\n",
              "      <td>16</td>\n",
              "    </tr>\n",
              "    <tr>\n",
              "      <th>2020-11-15</th>\n",
              "      <td>Dragon can also hover  land propulsively, but ...</td>\n",
              "      <td>0.109</td>\n",
              "      <td>0.670</td>\n",
              "      <td>0.221</td>\n",
              "      <td>0.9840</td>\n",
              "      <td>11</td>\n",
              "    </tr>\n",
              "    <tr>\n",
              "      <th>2020-11-16</th>\n",
              "      <td>🎶 Toss a bitcoin to ur Witcher 🎶. 😉. CureVac, ...</td>\n",
              "      <td>0.034</td>\n",
              "      <td>0.811</td>\n",
              "      <td>0.155</td>\n",
              "      <td>0.9313</td>\n",
              "      <td>11</td>\n",
              "    </tr>\n",
              "  </tbody>\n",
              "</table>\n",
              "<p>1341 rows × 6 columns</p>\n",
              "</div>"
            ],
            "text/plain": [
              "                                                   conc_tweet  ...  tweets_count\n",
              "date                                                           ...              \n",
              "2015-11-20  Sounds perfect, you had me at \"enterprise\".. Y...  ...             6\n",
              "2015-11-24  Yep, good points. I hope you get back into spa...  ...             8\n",
              "2015-12-02               About to give a talk at the Sorbonne  ...             1\n",
              "2015-12-03  Good summary of my talk in Paris on climate ch...  ...             1\n",
              "2015-12-04  Nice ride! Looking forward to seeing you tomor...  ...             1\n",
              "...                                                       ...  ...           ...\n",
              "2020-11-12  🤣🤣👍. 4 Astronauts fly to on Sat night from Cap...  ...             3\n",
              "2020-11-13  This a great reference! Worth a read.. Case cl...  ...            28\n",
              "2020-11-14  Cool, but please be super cautious. Expect two...  ...            16\n",
              "2020-11-15  Dragon can also hover  land propulsively, but ...  ...            11\n",
              "2020-11-16  🎶 Toss a bitcoin to ur Witcher 🎶. 😉. CureVac, ...  ...            11\n",
              "\n",
              "[1341 rows x 6 columns]"
            ]
          },
          "metadata": {
            "tags": []
          },
          "execution_count": 37
        }
      ]
    },
    {
      "cell_type": "code",
      "metadata": {
        "colab": {
          "base_uri": "https://localhost:8080/"
        },
        "id": "qv5AVPh1rrEp",
        "outputId": "9be29479-a71f-42b7-f042-0ca14b99889f"
      },
      "source": [
        "# Identifying the final number of observations that will be used in the machine learning models\n",
        "elon_musk_daily.shape"
      ],
      "execution_count": 38,
      "outputs": [
        {
          "output_type": "execute_result",
          "data": {
            "text/plain": [
              "(1341, 6)"
            ]
          },
          "metadata": {
            "tags": []
          },
          "execution_count": 38
        }
      ]
    },
    {
      "cell_type": "markdown",
      "metadata": {
        "id": "NN6XqjMTyVvQ"
      },
      "source": [
        "## Exploring negative and positive words"
      ]
    },
    {
      "cell_type": "markdown",
      "metadata": {
        "id": "IRpX5Mca2FNG"
      },
      "source": [
        "To sense check if the sentiment classification worked we can explore the tweets that was defined as negative and postive. \n",
        "\n",
        "We can do this be finding the tweets that was characterized as negative (when compound score is < -0.05) and postive (when compound score is >0.05). If these tweets contain negative and positive words respectively, this is an indicator of the model working."
      ]
    },
    {
      "cell_type": "code",
      "metadata": {
        "id": "wlHXhu1C0tlk"
      },
      "source": [
        "# Define a DataFrame with negative and positive words \n",
        "neg_words = pd.DataFrame(elon_musk_daily[elon_musk_daily.compound_sentiment < -0.05]['conc_tweet'])\n",
        "pos_words = pd.DataFrame(elon_musk_daily[elon_musk_daily.compound_sentiment > 0.05]['conc_tweet'])"
      ],
      "execution_count": 39,
      "outputs": []
    },
    {
      "cell_type": "code",
      "metadata": {
        "id": "RYMBKmgY_uaU"
      },
      "source": [
        "# Setting column width\n",
        "pd.set_option('display.max_colwidth', 500)"
      ],
      "execution_count": 40,
      "outputs": []
    },
    {
      "cell_type": "code",
      "metadata": {
        "colab": {
          "base_uri": "https://localhost:8080/",
          "height": 407
        },
        "id": "S1eGrOWcFjiZ",
        "outputId": "bf3b52d5-f2bf-4354-e356-5d465df53ae9"
      },
      "source": [
        "# Identifying positive tweets (chosen randomly to obtain tweets from each year)\n",
        "pos_words.iloc[[1, 55, 200, 500, 700, 900],:]"
      ],
      "execution_count": 101,
      "outputs": [
        {
          "output_type": "execute_result",
          "data": {
            "text/html": [
              "<div>\n",
              "<style scoped>\n",
              "    .dataframe tbody tr th:only-of-type {\n",
              "        vertical-align: middle;\n",
              "    }\n",
              "\n",
              "    .dataframe tbody tr th {\n",
              "        vertical-align: top;\n",
              "    }\n",
              "\n",
              "    .dataframe thead th {\n",
              "        text-align: right;\n",
              "    }\n",
              "</style>\n",
              "<table border=\"1\" class=\"dataframe\">\n",
              "  <thead>\n",
              "    <tr style=\"text-align: right;\">\n",
              "      <th></th>\n",
              "      <th>conc_tweet</th>\n",
              "    </tr>\n",
              "    <tr>\n",
              "      <th>date</th>\n",
              "      <th></th>\n",
              "    </tr>\n",
              "  </thead>\n",
              "  <tbody>\n",
              "    <tr>\n",
              "      <th>2015-11-24</th>\n",
              "      <td>Yep, good points. I hope you get back into space some day!. But credit for 1st reusable suborbital rocket goes to X-15 And Burt Rutan for commercial. Jeff maybe unaware SpaceX suborbital VTOL flight began 2013. Orbital water landing 2014. Orbital land landing next.. Not quite \"rarest\". SpaceX Grasshopper rocket did 6 suborbital flights 3 years ago  is still around.. The F9 booster can reach low orbit as a single stage if not carrying the upper stage and a heavy satellite.. Getting to space n...</td>\n",
              "    </tr>\n",
              "    <tr>\n",
              "      <th>2016-06-01</th>\n",
              "      <td>Good summary of Tesla annual meeting by</td>\n",
              "    </tr>\n",
              "    <tr>\n",
              "      <th>2017-07-03</th>\n",
              "      <td>Wanted to say thanks to all that own or ordered a Tesla. It matters to us that you took a risk on a new car company. We won't forget.. Looks like we can reach 20,000 Model 3 cars per month in Dec. Handover party for first 30 customer Model 3's on the 28th! Production grows exponentially, so Aug should be 100 cars and Sept above 1500.. Model 3 passed all regulatory requirements for production two weeks ahead of schedule. Expecting to complete SN1 on Friday</td>\n",
              "    </tr>\n",
              "    <tr>\n",
              "      <th>2018-12-26</th>\n",
              "      <td>Definitely. All major highways in Texas will have Superchargers, all the way to Brownsville  across Mexico.. Yes. Yes. Supercharger coverage will extend to 100% of Europe next year. From Ireland to Kiev, from Norway to Turkey.. Most people don’t know that the Tesla Supercharger network allows easy long distance travel throughout USA, most of Europe, Canada and China. We are dramatically increasing Tesla Superchargers within cities  working with landlords to add home charging to apartment bui...</td>\n",
              "    </tr>\n",
              "    <tr>\n",
              "      <th>2019-09-18</th>\n",
              "      <td>Whoa cool. “Smart” Summon will work on all v2.0+ hardware in wide release. L'Ambroisie, Place des Vosges. Nice. Amazingly, this is not an Onion article. Je ne regrette Etienne. Lane offset should be much better in V10.0. Yes. Told you AI was dangerous!! 🔥💣💦. In other news …</td>\n",
              "    </tr>\n",
              "    <tr>\n",
              "      <th>2020-05-29</th>\n",
              "      <td>Worth noting that, as of Jan 1, Tesla buyers no longer received any federal tax credit. Model 3 led despite this disadvantage.. We slowed down a bit to allow Supercharger V3 production to get going, but now will speed up!. More Superchargers coming soon!</td>\n",
              "    </tr>\n",
              "  </tbody>\n",
              "</table>\n",
              "</div>"
            ],
            "text/plain": [
              "                                                                                                                                                                                                                                                                                                                                                                                                                                                                                                                     conc_tweet\n",
              "date                                                                                                                                                                                                                                                                                                                                                                                                                                                                                                                           \n",
              "2015-11-24  Yep, good points. I hope you get back into space some day!. But credit for 1st reusable suborbital rocket goes to X-15 And Burt Rutan for commercial. Jeff maybe unaware SpaceX suborbital VTOL flight began 2013. Orbital water landing 2014. Orbital land landing next.. Not quite \"rarest\". SpaceX Grasshopper rocket did 6 suborbital flights 3 years ago  is still around.. The F9 booster can reach low orbit as a single stage if not carrying the upper stage and a heavy satellite.. Getting to space n...\n",
              "2016-06-01                                                                                                                                                                                                                                                                                                                                                                                                                                                                              Good summary of Tesla annual meeting by\n",
              "2017-07-03                                          Wanted to say thanks to all that own or ordered a Tesla. It matters to us that you took a risk on a new car company. We won't forget.. Looks like we can reach 20,000 Model 3 cars per month in Dec. Handover party for first 30 customer Model 3's on the 28th! Production grows exponentially, so Aug should be 100 cars and Sept above 1500.. Model 3 passed all regulatory requirements for production two weeks ahead of schedule. Expecting to complete SN1 on Friday\n",
              "2018-12-26  Definitely. All major highways in Texas will have Superchargers, all the way to Brownsville  across Mexico.. Yes. Yes. Supercharger coverage will extend to 100% of Europe next year. From Ireland to Kiev, from Norway to Turkey.. Most people don’t know that the Tesla Supercharger network allows easy long distance travel throughout USA, most of Europe, Canada and China. We are dramatically increasing Tesla Superchargers within cities  working with landlords to add home charging to apartment bui...\n",
              "2019-09-18                                                                                                                                                                                                                                   Whoa cool. “Smart” Summon will work on all v2.0+ hardware in wide release. L'Ambroisie, Place des Vosges. Nice. Amazingly, this is not an Onion article. Je ne regrette Etienne. Lane offset should be much better in V10.0. Yes. Told you AI was dangerous!! 🔥💣💦. In other news …\n",
              "2020-05-29                                                                                                                                                                                                                                                       Worth noting that, as of Jan 1, Tesla buyers no longer received any federal tax credit. Model 3 led despite this disadvantage.. We slowed down a bit to allow Supercharger V3 production to get going, but now will speed up!. More Superchargers coming soon!"
            ]
          },
          "metadata": {
            "tags": []
          },
          "execution_count": 101
        }
      ]
    },
    {
      "cell_type": "code",
      "metadata": {
        "colab": {
          "base_uri": "https://localhost:8080/",
          "height": 407
        },
        "id": "8HOyj2DGXwpR",
        "outputId": "4d322707-636e-4177-914a-bb833aa6e104"
      },
      "source": [
        "# Identifiyng negative words (chosen randomly to obtain tweets from each year)\n",
        "neg_words.iloc[[1, 30, 55, 70, 115, 135],:]"
      ],
      "execution_count": 161,
      "outputs": [
        {
          "output_type": "execute_result",
          "data": {
            "text/html": [
              "<div>\n",
              "<style scoped>\n",
              "    .dataframe tbody tr th:only-of-type {\n",
              "        vertical-align: middle;\n",
              "    }\n",
              "\n",
              "    .dataframe tbody tr th {\n",
              "        vertical-align: top;\n",
              "    }\n",
              "\n",
              "    .dataframe thead th {\n",
              "        text-align: right;\n",
              "    }\n",
              "</style>\n",
              "<table border=\"1\" class=\"dataframe\">\n",
              "  <thead>\n",
              "    <tr style=\"text-align: right;\">\n",
              "      <th></th>\n",
              "      <th>conc_tweet</th>\n",
              "    </tr>\n",
              "    <tr>\n",
              "      <th>date</th>\n",
              "      <th></th>\n",
              "    </tr>\n",
              "  </thead>\n",
              "  <tbody>\n",
              "    <tr>\n",
              "      <th>2015-12-18</th>\n",
              "      <td>Rounding up to 1 sec for a bit of timing margin. Updating flight computer command sequence …. Aborted on ignition timing due to slow ground side valve. Adjusting ignition sequence by 0.6 secs for next attempt.. About 2 mins from static fire. holding for issue resolution. Abort triggered by flight computer on upper stage throttle valve. Adjusting thresholds and restarting count at T-10 mins.. 5 mins from static fire test. -340 F in this case. Deep cryo increases density and amplifies rocket p...</td>\n",
              "    </tr>\n",
              "    <tr>\n",
              "      <th>2016-10-10</th>\n",
              "      <td>Not actually based on science. Objective data shows Autopilot is safer than manually driven cars.. Utter nonsense. Empirical evidence is what matters, not random speculation.. Good for Germany!. That's why we need to accelerate solar power. Real fraud going on is denial of climate science. As for \"subsidies\", Tesla gets pennies on dollar vs coal. How about we both go to zero?. Coal-mining CEO: 'Tesla is a fraud' via. Translating what actually happened in the debates...</td>\n",
              "    </tr>\n",
              "    <tr>\n",
              "      <th>2017-07-30</th>\n",
              "      <td>I'm sure there are better answers than what I do, which is just take the pain and make sure you really care about what you're doing. If you buy a ticket to hell, it isn't fair to blame hell .... Maybe not medically tho. Dunno. Bad feelings correlate to bad events, so maybe real problem is getting carried away in what I sign up for.. Yeah. The reality is great highs, terrible lows and unrelenting stress. Don't think people want to hear about the last two.. Model 3 uses two intersecting planes...</td>\n",
              "    </tr>\n",
              "    <tr>\n",
              "      <th>2018-03-03</th>\n",
              "      <td>Deep in the hole with my boring machine. Sometimes when we touch, the honesty’s too much ...</td>\n",
              "    </tr>\n",
              "    <tr>\n",
              "      <th>2019-05-29</th>\n",
              "      <td>Yeah, the fear, uncertainty  doubt propaganda campaign being pushed by those betting against Tesla has reached new heights. I paid most of my Tesla-related expenses too. Tesla last year was actually net negative comp for me.. One day’s grace, taking into account time zone confusion. Will revert tomorrow.. Edgy move</td>\n",
              "    </tr>\n",
              "    <tr>\n",
              "      <th>2020-03-06</th>\n",
              "      <td>The coronavirus panic is dumb</td>\n",
              "    </tr>\n",
              "  </tbody>\n",
              "</table>\n",
              "</div>"
            ],
            "text/plain": [
              "                                                                                                                                                                                                                                                                                                                                                                                                                                                                                                                     conc_tweet\n",
              "date                                                                                                                                                                                                                                                                                                                                                                                                                                                                                                                           \n",
              "2015-12-18  Rounding up to 1 sec for a bit of timing margin. Updating flight computer command sequence …. Aborted on ignition timing due to slow ground side valve. Adjusting ignition sequence by 0.6 secs for next attempt.. About 2 mins from static fire. holding for issue resolution. Abort triggered by flight computer on upper stage throttle valve. Adjusting thresholds and restarting count at T-10 mins.. 5 mins from static fire test. -340 F in this case. Deep cryo increases density and amplifies rocket p...\n",
              "2016-10-10                            Not actually based on science. Objective data shows Autopilot is safer than manually driven cars.. Utter nonsense. Empirical evidence is what matters, not random speculation.. Good for Germany!. That's why we need to accelerate solar power. Real fraud going on is denial of climate science. As for \"subsidies\", Tesla gets pennies on dollar vs coal. How about we both go to zero?. Coal-mining CEO: 'Tesla is a fraud' via. Translating what actually happened in the debates...\n",
              "2017-07-30  I'm sure there are better answers than what I do, which is just take the pain and make sure you really care about what you're doing. If you buy a ticket to hell, it isn't fair to blame hell .... Maybe not medically tho. Dunno. Bad feelings correlate to bad events, so maybe real problem is getting carried away in what I sign up for.. Yeah. The reality is great highs, terrible lows and unrelenting stress. Don't think people want to hear about the last two.. Model 3 uses two intersecting planes...\n",
              "2018-03-03                                                                                                                                                                                                                                                                                                                                                                                                                         Deep in the hole with my boring machine. Sometimes when we touch, the honesty’s too much ...\n",
              "2019-05-29                                                                                                                                                                                         Yeah, the fear, uncertainty  doubt propaganda campaign being pushed by those betting against Tesla has reached new heights. I paid most of my Tesla-related expenses too. Tesla last year was actually net negative comp for me.. One day’s grace, taking into account time zone confusion. Will revert tomorrow.. Edgy move\n",
              "2020-03-06                                                                                                                                                                                                                                                                                                                                                                                                                                                                                        The coronavirus panic is dumb"
            ]
          },
          "metadata": {
            "tags": []
          },
          "execution_count": 161
        }
      ]
    },
    {
      "cell_type": "markdown",
      "metadata": {
        "id": "xvo3OnArveMo"
      },
      "source": [
        "# Stock preprocessing and visualization"
      ]
    },
    {
      "cell_type": "code",
      "metadata": {
        "id": "YTdK0Qmfvqtm"
      },
      "source": [
        "!pip install pandas-datareader"
      ],
      "execution_count": null,
      "outputs": []
    },
    {
      "cell_type": "code",
      "metadata": {
        "id": "f0dtaahivu8l"
      },
      "source": [
        "# Importing packages\n",
        "import pandas_datareader as dr\n",
        "from pandas_datareader import data\n",
        "import matplotlib.pyplot as plt\n",
        "% matplotlib inline"
      ],
      "execution_count": 44,
      "outputs": []
    },
    {
      "cell_type": "code",
      "metadata": {
        "id": "C1kmSeRuvtBv"
      },
      "source": [
        "# Getting the Tesla stock data\n",
        "tesla = dr.data.get_data_yahoo('tsla', start='2015-11-19', end='2020-11-16')"
      ],
      "execution_count": 45,
      "outputs": []
    },
    {
      "cell_type": "code",
      "metadata": {
        "colab": {
          "base_uri": "https://localhost:8080/",
          "height": 436
        },
        "id": "eEYnmHulvyOl",
        "outputId": "df675fb3-c1bc-427f-acaa-942163ea61f7"
      },
      "source": [
        "# Let's have a look\n",
        "tesla"
      ],
      "execution_count": 46,
      "outputs": [
        {
          "output_type": "execute_result",
          "data": {
            "text/html": [
              "<div>\n",
              "<style scoped>\n",
              "    .dataframe tbody tr th:only-of-type {\n",
              "        vertical-align: middle;\n",
              "    }\n",
              "\n",
              "    .dataframe tbody tr th {\n",
              "        vertical-align: top;\n",
              "    }\n",
              "\n",
              "    .dataframe thead th {\n",
              "        text-align: right;\n",
              "    }\n",
              "</style>\n",
              "<table border=\"1\" class=\"dataframe\">\n",
              "  <thead>\n",
              "    <tr style=\"text-align: right;\">\n",
              "      <th></th>\n",
              "      <th>High</th>\n",
              "      <th>Low</th>\n",
              "      <th>Open</th>\n",
              "      <th>Close</th>\n",
              "      <th>Volume</th>\n",
              "      <th>Adj Close</th>\n",
              "    </tr>\n",
              "    <tr>\n",
              "      <th>Date</th>\n",
              "      <th></th>\n",
              "      <th></th>\n",
              "      <th></th>\n",
              "      <th></th>\n",
              "      <th></th>\n",
              "      <th></th>\n",
              "    </tr>\n",
              "  </thead>\n",
              "  <tbody>\n",
              "    <tr>\n",
              "      <th>2015-11-19</th>\n",
              "      <td>45.237999</td>\n",
              "      <td>44.060001</td>\n",
              "      <td>44.108002</td>\n",
              "      <td>44.360001</td>\n",
              "      <td>12522000.0</td>\n",
              "      <td>44.360001</td>\n",
              "    </tr>\n",
              "    <tr>\n",
              "      <th>2015-11-20</th>\n",
              "      <td>45.000000</td>\n",
              "      <td>42.716000</td>\n",
              "      <td>44.698002</td>\n",
              "      <td>44.001999</td>\n",
              "      <td>22003500.0</td>\n",
              "      <td>44.001999</td>\n",
              "    </tr>\n",
              "    <tr>\n",
              "      <th>2015-11-23</th>\n",
              "      <td>43.835999</td>\n",
              "      <td>42.936001</td>\n",
              "      <td>43.470001</td>\n",
              "      <td>43.549999</td>\n",
              "      <td>12631000.0</td>\n",
              "      <td>43.549999</td>\n",
              "    </tr>\n",
              "    <tr>\n",
              "      <th>2015-11-24</th>\n",
              "      <td>44.200001</td>\n",
              "      <td>43.000000</td>\n",
              "      <td>43.074001</td>\n",
              "      <td>43.650002</td>\n",
              "      <td>12401500.0</td>\n",
              "      <td>43.650002</td>\n",
              "    </tr>\n",
              "    <tr>\n",
              "      <th>2015-11-25</th>\n",
              "      <td>46.166000</td>\n",
              "      <td>44.076000</td>\n",
              "      <td>44.268002</td>\n",
              "      <td>45.928001</td>\n",
              "      <td>19954000.0</td>\n",
              "      <td>45.928001</td>\n",
              "    </tr>\n",
              "    <tr>\n",
              "      <th>...</th>\n",
              "      <td>...</td>\n",
              "      <td>...</td>\n",
              "      <td>...</td>\n",
              "      <td>...</td>\n",
              "      <td>...</td>\n",
              "      <td>...</td>\n",
              "    </tr>\n",
              "    <tr>\n",
              "      <th>2020-11-10</th>\n",
              "      <td>420.089996</td>\n",
              "      <td>396.029999</td>\n",
              "      <td>420.089996</td>\n",
              "      <td>410.359985</td>\n",
              "      <td>30284200.0</td>\n",
              "      <td>410.359985</td>\n",
              "    </tr>\n",
              "    <tr>\n",
              "      <th>2020-11-11</th>\n",
              "      <td>418.700012</td>\n",
              "      <td>410.579987</td>\n",
              "      <td>416.450012</td>\n",
              "      <td>417.130005</td>\n",
              "      <td>17357700.0</td>\n",
              "      <td>417.130005</td>\n",
              "    </tr>\n",
              "    <tr>\n",
              "      <th>2020-11-12</th>\n",
              "      <td>423.000000</td>\n",
              "      <td>409.519989</td>\n",
              "      <td>415.049988</td>\n",
              "      <td>411.760010</td>\n",
              "      <td>19855100.0</td>\n",
              "      <td>411.760010</td>\n",
              "    </tr>\n",
              "    <tr>\n",
              "      <th>2020-11-13</th>\n",
              "      <td>412.529999</td>\n",
              "      <td>401.660004</td>\n",
              "      <td>410.850006</td>\n",
              "      <td>408.500000</td>\n",
              "      <td>19771100.0</td>\n",
              "      <td>408.500000</td>\n",
              "    </tr>\n",
              "    <tr>\n",
              "      <th>2020-11-16</th>\n",
              "      <td>412.450012</td>\n",
              "      <td>404.089996</td>\n",
              "      <td>408.929993</td>\n",
              "      <td>408.089996</td>\n",
              "      <td>26838600.0</td>\n",
              "      <td>408.089996</td>\n",
              "    </tr>\n",
              "  </tbody>\n",
              "</table>\n",
              "<p>1257 rows × 6 columns</p>\n",
              "</div>"
            ],
            "text/plain": [
              "                  High         Low  ...      Volume   Adj Close\n",
              "Date                                ...                        \n",
              "2015-11-19   45.237999   44.060001  ...  12522000.0   44.360001\n",
              "2015-11-20   45.000000   42.716000  ...  22003500.0   44.001999\n",
              "2015-11-23   43.835999   42.936001  ...  12631000.0   43.549999\n",
              "2015-11-24   44.200001   43.000000  ...  12401500.0   43.650002\n",
              "2015-11-25   46.166000   44.076000  ...  19954000.0   45.928001\n",
              "...                ...         ...  ...         ...         ...\n",
              "2020-11-10  420.089996  396.029999  ...  30284200.0  410.359985\n",
              "2020-11-11  418.700012  410.579987  ...  17357700.0  417.130005\n",
              "2020-11-12  423.000000  409.519989  ...  19855100.0  411.760010\n",
              "2020-11-13  412.529999  401.660004  ...  19771100.0  408.500000\n",
              "2020-11-16  412.450012  404.089996  ...  26838600.0  408.089996\n",
              "\n",
              "[1257 rows x 6 columns]"
            ]
          },
          "metadata": {
            "tags": []
          },
          "execution_count": 46
        }
      ]
    },
    {
      "cell_type": "code",
      "metadata": {
        "id": "ndzWezDVvzv2"
      },
      "source": [
        "# Change index column into pandas datetime\n",
        "tesla.index = pd.to_datetime(tesla.index)"
      ],
      "execution_count": 47,
      "outputs": []
    },
    {
      "cell_type": "code",
      "metadata": {
        "colab": {
          "base_uri": "https://localhost:8080/",
          "height": 284
        },
        "id": "Kz8zWxL0wKvu",
        "outputId": "ec6107db-b8e3-44ca-874a-3df293709b6f"
      },
      "source": [
        "# Visualizing the adjusted close price\n",
        "tesla['Adj Close'].plot()\n",
        "plt.xlabel(\"Date\")\n",
        "plt.ylabel(\"Adj. share price\")\n",
        "plt.title(\"Tesla Price data\")\n",
        "plt.show()"
      ],
      "execution_count": 49,
      "outputs": [
        {
          "output_type": "display_data",
          "data": {
            "image/png": "[encoded data removed]",
            "text/plain": [
              "<Figure size 432x288 with 1 Axes>"
            ]
          },
          "metadata": {
            "tags": [],
            "needs_background": "light"
          }
        }
      ]
    },
    {
      "cell_type": "code",
      "metadata": {
        "id": "gmAHMpBawLIC"
      },
      "source": [
        "# Calculating the daily returns (in %)\n",
        "tesla['daily_change'] = tesla['Adj Close'].pct_change()*100"
      ],
      "execution_count": 50,
      "outputs": []
    },
    {
      "cell_type": "code",
      "metadata": {
        "colab": {
          "base_uri": "https://localhost:8080/"
        },
        "id": "wYsLLFb8wOgi",
        "outputId": "5744657c-b4c2-431c-dc7a-170586d9da8b"
      },
      "source": [
        "# Checking daily returns\n",
        "print(\"Tesla daily returns:\")\n",
        "print(tesla['daily_change'].head(10))"
      ],
      "execution_count": 51,
      "outputs": [
        {
          "output_type": "stream",
          "text": [
            "Tesla daily returns:\n",
            "Date\n",
            "2015-11-19         NaN\n",
            "2015-11-20   -0.807037\n",
            "2015-11-23   -1.027225\n",
            "2015-11-24    0.229626\n",
            "2015-11-25    5.218785\n",
            "2015-11-27    0.857858\n",
            "2015-11-30   -0.582877\n",
            "2015-12-01    3.009645\n",
            "2015-12-02   -2.192337\n",
            "2015-12-03    0.310360\n",
            "Name: daily_change, dtype: float64\n"
          ],
          "name": "stdout"
        }
      ]
    },
    {
      "cell_type": "code",
      "metadata": {
        "id": "r2OY-sdplzkd"
      },
      "source": [
        "# Creating a column for the daily change that should be predicted (pushing daily change one day back so that these are predicted values)\n",
        "tesla[\"daily_change_pred\"] = tesla['daily_change'].shift(-1)"
      ],
      "execution_count": 52,
      "outputs": []
    },
    {
      "cell_type": "code",
      "metadata": {
        "id": "lLUEh1DIoRy9"
      },
      "source": [
        "# We wish to predict if stock prices increase or decrease. Thus, we transform daily changes to categorical variables\n",
        "\n",
        "change_categorical = []\n",
        "\n",
        "for row in tesla['daily_change_pred']:\n",
        "    if row > 0:\n",
        "        change_categorical.append('Increase')\n",
        "    else: \n",
        "      change_categorical.append('Decrease')\n",
        "\n",
        "# OBS: As we only have one neutral observation we set <=0 as a decrease\n",
        "# in order for our machine learning models to predict this (obtain a binary input)\n",
        "\n",
        "tesla['change_categorical'] = change_categorical"
      ],
      "execution_count": 53,
      "outputs": []
    },
    {
      "cell_type": "code",
      "metadata": {
        "id": "6HXqpZ1MEiWu"
      },
      "source": [
        "# Drop NaN values (the first day has no return)\n",
        "tesla.dropna(inplace=True)"
      ],
      "execution_count": 54,
      "outputs": []
    },
    {
      "cell_type": "code",
      "metadata": {
        "colab": {
          "base_uri": "https://localhost:8080/",
          "height": 677
        },
        "id": "XobWnSZpvi40",
        "outputId": "5ef13316-39d7-4420-d01e-847a75f3f85f"
      },
      "source": [
        "tesla.head(20)"
      ],
      "execution_count": 55,
      "outputs": [
        {
          "output_type": "execute_result",
          "data": {
            "text/html": [
              "<div>\n",
              "<style scoped>\n",
              "    .dataframe tbody tr th:only-of-type {\n",
              "        vertical-align: middle;\n",
              "    }\n",
              "\n",
              "    .dataframe tbody tr th {\n",
              "        vertical-align: top;\n",
              "    }\n",
              "\n",
              "    .dataframe thead th {\n",
              "        text-align: right;\n",
              "    }\n",
              "</style>\n",
              "<table border=\"1\" class=\"dataframe\">\n",
              "  <thead>\n",
              "    <tr style=\"text-align: right;\">\n",
              "      <th></th>\n",
              "      <th>High</th>\n",
              "      <th>Low</th>\n",
              "      <th>Open</th>\n",
              "      <th>Close</th>\n",
              "      <th>Volume</th>\n",
              "      <th>Adj Close</th>\n",
              "      <th>daily_change</th>\n",
              "      <th>daily_change_pred</th>\n",
              "      <th>change_categorical</th>\n",
              "    </tr>\n",
              "    <tr>\n",
              "      <th>Date</th>\n",
              "      <th></th>\n",
              "      <th></th>\n",
              "      <th></th>\n",
              "      <th></th>\n",
              "      <th></th>\n",
              "      <th></th>\n",
              "      <th></th>\n",
              "      <th></th>\n",
              "      <th></th>\n",
              "    </tr>\n",
              "  </thead>\n",
              "  <tbody>\n",
              "    <tr>\n",
              "      <th>2015-11-20</th>\n",
              "      <td>45.000000</td>\n",
              "      <td>42.716000</td>\n",
              "      <td>44.698002</td>\n",
              "      <td>44.001999</td>\n",
              "      <td>22003500.0</td>\n",
              "      <td>44.001999</td>\n",
              "      <td>-0.807037</td>\n",
              "      <td>-1.027225</td>\n",
              "      <td>Decrease</td>\n",
              "    </tr>\n",
              "    <tr>\n",
              "      <th>2015-11-23</th>\n",
              "      <td>43.835999</td>\n",
              "      <td>42.936001</td>\n",
              "      <td>43.470001</td>\n",
              "      <td>43.549999</td>\n",
              "      <td>12631000.0</td>\n",
              "      <td>43.549999</td>\n",
              "      <td>-1.027225</td>\n",
              "      <td>0.229626</td>\n",
              "      <td>Increase</td>\n",
              "    </tr>\n",
              "    <tr>\n",
              "      <th>2015-11-24</th>\n",
              "      <td>44.200001</td>\n",
              "      <td>43.000000</td>\n",
              "      <td>43.074001</td>\n",
              "      <td>43.650002</td>\n",
              "      <td>12401500.0</td>\n",
              "      <td>43.650002</td>\n",
              "      <td>0.229626</td>\n",
              "      <td>5.218785</td>\n",
              "      <td>Increase</td>\n",
              "    </tr>\n",
              "    <tr>\n",
              "      <th>2015-11-25</th>\n",
              "      <td>46.166000</td>\n",
              "      <td>44.076000</td>\n",
              "      <td>44.268002</td>\n",
              "      <td>45.928001</td>\n",
              "      <td>19954000.0</td>\n",
              "      <td>45.928001</td>\n",
              "      <td>5.218785</td>\n",
              "      <td>0.857858</td>\n",
              "      <td>Increase</td>\n",
              "    </tr>\n",
              "    <tr>\n",
              "      <th>2015-11-27</th>\n",
              "      <td>46.450001</td>\n",
              "      <td>45.402000</td>\n",
              "      <td>46.212002</td>\n",
              "      <td>46.321999</td>\n",
              "      <td>9747000.0</td>\n",
              "      <td>46.321999</td>\n",
              "      <td>0.857858</td>\n",
              "      <td>-0.582877</td>\n",
              "      <td>Decrease</td>\n",
              "    </tr>\n",
              "    <tr>\n",
              "      <th>2015-11-30</th>\n",
              "      <td>46.855999</td>\n",
              "      <td>45.816002</td>\n",
              "      <td>46.358002</td>\n",
              "      <td>46.051998</td>\n",
              "      <td>13299000.0</td>\n",
              "      <td>46.051998</td>\n",
              "      <td>-0.582877</td>\n",
              "      <td>3.009645</td>\n",
              "      <td>Increase</td>\n",
              "    </tr>\n",
              "    <tr>\n",
              "      <th>2015-12-01</th>\n",
              "      <td>47.599998</td>\n",
              "      <td>46.209999</td>\n",
              "      <td>46.212002</td>\n",
              "      <td>47.438000</td>\n",
              "      <td>18670000.0</td>\n",
              "      <td>47.438000</td>\n",
              "      <td>3.009645</td>\n",
              "      <td>-2.192337</td>\n",
              "      <td>Decrease</td>\n",
              "    </tr>\n",
              "    <tr>\n",
              "      <th>2015-12-02</th>\n",
              "      <td>47.720001</td>\n",
              "      <td>46.245998</td>\n",
              "      <td>47.400002</td>\n",
              "      <td>46.397999</td>\n",
              "      <td>14907500.0</td>\n",
              "      <td>46.397999</td>\n",
              "      <td>-2.192337</td>\n",
              "      <td>0.310360</td>\n",
              "      <td>Increase</td>\n",
              "    </tr>\n",
              "    <tr>\n",
              "      <th>2015-12-03</th>\n",
              "      <td>47.490002</td>\n",
              "      <td>46.000000</td>\n",
              "      <td>47.096001</td>\n",
              "      <td>46.542000</td>\n",
              "      <td>14698000.0</td>\n",
              "      <td>46.542000</td>\n",
              "      <td>0.310360</td>\n",
              "      <td>-1.001245</td>\n",
              "      <td>Decrease</td>\n",
              "    </tr>\n",
              "    <tr>\n",
              "      <th>2015-12-04</th>\n",
              "      <td>46.653999</td>\n",
              "      <td>45.532001</td>\n",
              "      <td>46.492001</td>\n",
              "      <td>46.076000</td>\n",
              "      <td>12868000.0</td>\n",
              "      <td>46.076000</td>\n",
              "      <td>-1.001245</td>\n",
              "      <td>0.325552</td>\n",
              "      <td>Increase</td>\n",
              "    </tr>\n",
              "    <tr>\n",
              "      <th>2015-12-07</th>\n",
              "      <td>47.125999</td>\n",
              "      <td>45.230000</td>\n",
              "      <td>45.540001</td>\n",
              "      <td>46.226002</td>\n",
              "      <td>15721000.0</td>\n",
              "      <td>46.226002</td>\n",
              "      <td>0.325552</td>\n",
              "      <td>-1.908017</td>\n",
              "      <td>Decrease</td>\n",
              "    </tr>\n",
              "    <tr>\n",
              "      <th>2015-12-08</th>\n",
              "      <td>45.759998</td>\n",
              "      <td>44.840000</td>\n",
              "      <td>45.504002</td>\n",
              "      <td>45.344002</td>\n",
              "      <td>13438000.0</td>\n",
              "      <td>45.344002</td>\n",
              "      <td>-1.908017</td>\n",
              "      <td>-0.970365</td>\n",
              "      <td>Decrease</td>\n",
              "    </tr>\n",
              "    <tr>\n",
              "      <th>2015-12-09</th>\n",
              "      <td>45.500000</td>\n",
              "      <td>44.144001</td>\n",
              "      <td>45.340000</td>\n",
              "      <td>44.903999</td>\n",
              "      <td>15289000.0</td>\n",
              "      <td>44.903999</td>\n",
              "      <td>-0.970365</td>\n",
              "      <td>1.135761</td>\n",
              "      <td>Increase</td>\n",
              "    </tr>\n",
              "    <tr>\n",
              "      <th>2015-12-10</th>\n",
              "      <td>45.698002</td>\n",
              "      <td>44.728001</td>\n",
              "      <td>44.942001</td>\n",
              "      <td>45.414001</td>\n",
              "      <td>10358500.0</td>\n",
              "      <td>45.414001</td>\n",
              "      <td>1.135761</td>\n",
              "      <td>-4.425953</td>\n",
              "      <td>Decrease</td>\n",
              "    </tr>\n",
              "    <tr>\n",
              "      <th>2015-12-11</th>\n",
              "      <td>45.150002</td>\n",
              "      <td>43.327999</td>\n",
              "      <td>45.048000</td>\n",
              "      <td>43.403999</td>\n",
              "      <td>16343500.0</td>\n",
              "      <td>43.403999</td>\n",
              "      <td>-4.425953</td>\n",
              "      <td>0.718828</td>\n",
              "      <td>Increase</td>\n",
              "    </tr>\n",
              "    <tr>\n",
              "      <th>2015-12-14</th>\n",
              "      <td>44.183998</td>\n",
              "      <td>42.973999</td>\n",
              "      <td>43.501999</td>\n",
              "      <td>43.716000</td>\n",
              "      <td>14135500.0</td>\n",
              "      <td>43.716000</td>\n",
              "      <td>0.718828</td>\n",
              "      <td>1.148318</td>\n",
              "      <td>Increase</td>\n",
              "    </tr>\n",
              "    <tr>\n",
              "      <th>2015-12-15</th>\n",
              "      <td>44.444000</td>\n",
              "      <td>43.599998</td>\n",
              "      <td>44.363998</td>\n",
              "      <td>44.217999</td>\n",
              "      <td>11222000.0</td>\n",
              "      <td>44.217999</td>\n",
              "      <td>1.148318</td>\n",
              "      <td>6.069931</td>\n",
              "      <td>Increase</td>\n",
              "    </tr>\n",
              "    <tr>\n",
              "      <th>2015-12-16</th>\n",
              "      <td>46.976002</td>\n",
              "      <td>44.146000</td>\n",
              "      <td>44.419998</td>\n",
              "      <td>46.902000</td>\n",
              "      <td>25521500.0</td>\n",
              "      <td>46.902000</td>\n",
              "      <td>6.069931</td>\n",
              "      <td>-0.477589</td>\n",
              "      <td>Decrease</td>\n",
              "    </tr>\n",
              "    <tr>\n",
              "      <th>2015-12-17</th>\n",
              "      <td>47.551998</td>\n",
              "      <td>45.962002</td>\n",
              "      <td>46.787998</td>\n",
              "      <td>46.678001</td>\n",
              "      <td>16493000.0</td>\n",
              "      <td>46.678001</td>\n",
              "      <td>-0.477589</td>\n",
              "      <td>-1.255414</td>\n",
              "      <td>Decrease</td>\n",
              "    </tr>\n",
              "    <tr>\n",
              "      <th>2015-12-18</th>\n",
              "      <td>47.180000</td>\n",
              "      <td>45.858002</td>\n",
              "      <td>46.577999</td>\n",
              "      <td>46.091999</td>\n",
              "      <td>15071000.0</td>\n",
              "      <td>46.091999</td>\n",
              "      <td>-1.255414</td>\n",
              "      <td>0.911225</td>\n",
              "      <td>Increase</td>\n",
              "    </tr>\n",
              "  </tbody>\n",
              "</table>\n",
              "</div>"
            ],
            "text/plain": [
              "                 High        Low  ...  daily_change_pred  change_categorical\n",
              "Date                              ...                                       \n",
              "2015-11-20  45.000000  42.716000  ...          -1.027225            Decrease\n",
              "2015-11-23  43.835999  42.936001  ...           0.229626            Increase\n",
              "2015-11-24  44.200001  43.000000  ...           5.218785            Increase\n",
              "2015-11-25  46.166000  44.076000  ...           0.857858            Increase\n",
              "2015-11-27  46.450001  45.402000  ...          -0.582877            Decrease\n",
              "2015-11-30  46.855999  45.816002  ...           3.009645            Increase\n",
              "2015-12-01  47.599998  46.209999  ...          -2.192337            Decrease\n",
              "2015-12-02  47.720001  46.245998  ...           0.310360            Increase\n",
              "2015-12-03  47.490002  46.000000  ...          -1.001245            Decrease\n",
              "2015-12-04  46.653999  45.532001  ...           0.325552            Increase\n",
              "2015-12-07  47.125999  45.230000  ...          -1.908017            Decrease\n",
              "2015-12-08  45.759998  44.840000  ...          -0.970365            Decrease\n",
              "2015-12-09  45.500000  44.144001  ...           1.135761            Increase\n",
              "2015-12-10  45.698002  44.728001  ...          -4.425953            Decrease\n",
              "2015-12-11  45.150002  43.327999  ...           0.718828            Increase\n",
              "2015-12-14  44.183998  42.973999  ...           1.148318            Increase\n",
              "2015-12-15  44.444000  43.599998  ...           6.069931            Increase\n",
              "2015-12-16  46.976002  44.146000  ...          -0.477589            Decrease\n",
              "2015-12-17  47.551998  45.962002  ...          -1.255414            Decrease\n",
              "2015-12-18  47.180000  45.858002  ...           0.911225            Increase\n",
              "\n",
              "[20 rows x 9 columns]"
            ]
          },
          "metadata": {
            "tags": []
          },
          "execution_count": 55
        }
      ]
    },
    {
      "cell_type": "markdown",
      "metadata": {
        "id": "pofcm4aybCWB"
      },
      "source": [
        "## Exploring stock data"
      ]
    },
    {
      "cell_type": "code",
      "metadata": {
        "colab": {
          "base_uri": "https://localhost:8080/",
          "height": 307
        },
        "id": "12uSo3WowQVa",
        "outputId": "c479daaf-9a75-476a-d777-37ad021e9a8f"
      },
      "source": [
        "fig = plt.figure()\n",
        "ax1 = fig.add_axes([0.1,0.1,0.8,0.8])\n",
        "ax1.plot(tesla['daily_change'])\n",
        "ax1.set_xlabel(\"Date\")\n",
        "ax1.set_ylabel(\"Percent\")\n",
        "ax1.set_title(\"Tesla daily returns data\")\n",
        "plt.show()"
      ],
      "execution_count": 56,
      "outputs": [
        {
          "output_type": "display_data",
          "data": {
            "image/png": "[encoded data removed]",
            "text/plain": [
              "<Figure size 432x288 with 1 Axes>"
            ]
          },
          "metadata": {
            "tags": [],
            "needs_background": "light"
          }
        }
      ]
    },
    {
      "cell_type": "code",
      "metadata": {
        "colab": {
          "base_uri": "https://localhost:8080/",
          "height": 348
        },
        "id": "QMjUOr4IwikW",
        "outputId": "f90748c0-b30e-48ac-ee54-44188da18a58"
      },
      "source": [
        "# Plotting the returns in a histogram to get a sense of the distribution\n",
        "fig = plt.figure()\n",
        "ax1 = fig.add_axes([0.1,0.1,0.8,0.8])\n",
        "tesla['daily_change'].plot.hist(bins = 60)\n",
        "ax1.set_xlabel(\"Daily returns %\")\n",
        "ax1.set_ylabel(\"Percent\")\n",
        "ax1.set_title(\"Tesla daily returns data\")\n",
        "ax1.text(-25,200,\"Extreme Low\\nreturns\")\n",
        "ax1.text(20,200,\"Extreme High\\nreturns\")\n",
        "plt.show()"
      ],
      "execution_count": 57,
      "outputs": [
        {
          "output_type": "display_data",
          "data": {
            "image/png": "[encoded data removed]",
            "text/plain": [
              "<Figure size 432x288 with 1 Axes>"
            ]
          },
          "metadata": {
            "tags": [],
            "needs_background": "light"
          }
        }
      ]
    },
    {
      "cell_type": "code",
      "metadata": {
        "colab": {
          "base_uri": "https://localhost:8080/",
          "height": 287
        },
        "id": "zCnRzFuHwvXY",
        "outputId": "147747bd-bf6a-4fc2-cf2b-a9277b21dd0b"
      },
      "source": [
        "# Calculating the mean, standard deviation and other stats\n",
        "tesla.describe()"
      ],
      "execution_count": 58,
      "outputs": [
        {
          "output_type": "execute_result",
          "data": {
            "text/html": [
              "<div>\n",
              "<style scoped>\n",
              "    .dataframe tbody tr th:only-of-type {\n",
              "        vertical-align: middle;\n",
              "    }\n",
              "\n",
              "    .dataframe tbody tr th {\n",
              "        vertical-align: top;\n",
              "    }\n",
              "\n",
              "    .dataframe thead th {\n",
              "        text-align: right;\n",
              "    }\n",
              "</style>\n",
              "<table border=\"1\" class=\"dataframe\">\n",
              "  <thead>\n",
              "    <tr style=\"text-align: right;\">\n",
              "      <th></th>\n",
              "      <th>High</th>\n",
              "      <th>Low</th>\n",
              "      <th>Open</th>\n",
              "      <th>Close</th>\n",
              "      <th>Volume</th>\n",
              "      <th>Adj Close</th>\n",
              "      <th>daily_change</th>\n",
              "      <th>daily_change_pred</th>\n",
              "    </tr>\n",
              "  </thead>\n",
              "  <tbody>\n",
              "    <tr>\n",
              "      <th>count</th>\n",
              "      <td>1255.000000</td>\n",
              "      <td>1255.000000</td>\n",
              "      <td>1255.000000</td>\n",
              "      <td>1255.000000</td>\n",
              "      <td>1.255000e+03</td>\n",
              "      <td>1255.000000</td>\n",
              "      <td>1255.000000</td>\n",
              "      <td>1255.000000</td>\n",
              "    </tr>\n",
              "    <tr>\n",
              "      <th>mean</th>\n",
              "      <td>90.836985</td>\n",
              "      <td>86.729767</td>\n",
              "      <td>88.840588</td>\n",
              "      <td>88.871335</td>\n",
              "      <td>4.096326e+07</td>\n",
              "      <td>88.871335</td>\n",
              "      <td>0.241671</td>\n",
              "      <td>0.242234</td>\n",
              "    </tr>\n",
              "    <tr>\n",
              "      <th>std</th>\n",
              "      <td>92.855403</td>\n",
              "      <td>87.340588</td>\n",
              "      <td>90.279340</td>\n",
              "      <td>90.236548</td>\n",
              "      <td>2.981708e+07</td>\n",
              "      <td>90.236548</td>\n",
              "      <td>3.599398</td>\n",
              "      <td>3.599289</td>\n",
              "    </tr>\n",
              "    <tr>\n",
              "      <th>min</th>\n",
              "      <td>30.993999</td>\n",
              "      <td>28.209999</td>\n",
              "      <td>28.464001</td>\n",
              "      <td>28.733999</td>\n",
              "      <td>3.540000e+06</td>\n",
              "      <td>28.733999</td>\n",
              "      <td>-21.062826</td>\n",
              "      <td>-21.062826</td>\n",
              "    </tr>\n",
              "    <tr>\n",
              "      <th>25%</th>\n",
              "      <td>47.104000</td>\n",
              "      <td>45.640999</td>\n",
              "      <td>46.348001</td>\n",
              "      <td>46.430000</td>\n",
              "      <td>2.212325e+07</td>\n",
              "      <td>46.430000</td>\n",
              "      <td>-1.404937</td>\n",
              "      <td>-1.404937</td>\n",
              "    </tr>\n",
              "    <tr>\n",
              "      <th>50%</th>\n",
              "      <td>61.689999</td>\n",
              "      <td>59.700001</td>\n",
              "      <td>60.675999</td>\n",
              "      <td>60.799999</td>\n",
              "      <td>3.186850e+07</td>\n",
              "      <td>60.799999</td>\n",
              "      <td>0.121555</td>\n",
              "      <td>0.121555</td>\n",
              "    </tr>\n",
              "    <tr>\n",
              "      <th>75%</th>\n",
              "      <td>71.505001</td>\n",
              "      <td>69.410000</td>\n",
              "      <td>70.586998</td>\n",
              "      <td>70.438999</td>\n",
              "      <td>4.799970e+07</td>\n",
              "      <td>70.438999</td>\n",
              "      <td>1.831452</td>\n",
              "      <td>1.831452</td>\n",
              "    </tr>\n",
              "    <tr>\n",
              "      <th>max</th>\n",
              "      <td>502.489990</td>\n",
              "      <td>470.510010</td>\n",
              "      <td>502.140015</td>\n",
              "      <td>498.320007</td>\n",
              "      <td>3.046940e+08</td>\n",
              "      <td>498.320007</td>\n",
              "      <td>19.894863</td>\n",
              "      <td>19.894863</td>\n",
              "    </tr>\n",
              "  </tbody>\n",
              "</table>\n",
              "</div>"
            ],
            "text/plain": [
              "              High          Low  ...  daily_change  daily_change_pred\n",
              "count  1255.000000  1255.000000  ...   1255.000000        1255.000000\n",
              "mean     90.836985    86.729767  ...      0.241671           0.242234\n",
              "std      92.855403    87.340588  ...      3.599398           3.599289\n",
              "min      30.993999    28.209999  ...    -21.062826         -21.062826\n",
              "25%      47.104000    45.640999  ...     -1.404937          -1.404937\n",
              "50%      61.689999    59.700001  ...      0.121555           0.121555\n",
              "75%      71.505001    69.410000  ...      1.831452           1.831452\n",
              "max     502.489990   470.510010  ...     19.894863          19.894863\n",
              "\n",
              "[8 rows x 8 columns]"
            ]
          },
          "metadata": {
            "tags": []
          },
          "execution_count": 58
        }
      ]
    },
    {
      "cell_type": "markdown",
      "metadata": {
        "id": "h_WRgpuTi6B_"
      },
      "source": [
        "# Combining the two dataframes"
      ]
    },
    {
      "cell_type": "code",
      "metadata": {
        "colab": {
          "base_uri": "https://localhost:8080/"
        },
        "id": "ORSPuOpwi34Y",
        "outputId": "ca7f7270-287e-488a-da94-096e4d40a505"
      },
      "source": [
        "# The dataframes have different lengths which make sense due to trading days excluding weekends and holidays\n",
        "# Moreover, there are some business days where there are no tweets\n",
        "print(elon_musk_daily.shape)\n",
        "print(tesla.shape)"
      ],
      "execution_count": 59,
      "outputs": [
        {
          "output_type": "stream",
          "text": [
            "(1341, 6)\n",
            "(1255, 9)\n"
          ],
          "name": "stdout"
        }
      ]
    },
    {
      "cell_type": "code",
      "metadata": {
        "id": "eHbZDufUjIMH"
      },
      "source": [
        "# Left merged is used to only include trading days (excl. weekends and holidays)\n",
        "merged = pd.merge(tesla[['Adj Close', 'change_categorical', 'daily_change_pred', 'Volume', 'daily_change']], elon_musk_daily[['neg_sentiment', 'neu_sentiment','pos_sentiment','compound_sentiment', 'tweets_count']], left_index=True, right_index=True, how='left')"
      ],
      "execution_count": 60,
      "outputs": []
    },
    {
      "cell_type": "code",
      "metadata": {
        "colab": {
          "base_uri": "https://localhost:8080/",
          "height": 677
        },
        "id": "EDZ9Wy_ckkhJ",
        "outputId": "080fca50-8033-4e7e-ee3f-11132bc81b44"
      },
      "source": [
        "# Let's see what data looks like\n",
        "merged.head(20)"
      ],
      "execution_count": 61,
      "outputs": [
        {
          "output_type": "execute_result",
          "data": {
            "text/html": [
              "<div>\n",
              "<style scoped>\n",
              "    .dataframe tbody tr th:only-of-type {\n",
              "        vertical-align: middle;\n",
              "    }\n",
              "\n",
              "    .dataframe tbody tr th {\n",
              "        vertical-align: top;\n",
              "    }\n",
              "\n",
              "    .dataframe thead th {\n",
              "        text-align: right;\n",
              "    }\n",
              "</style>\n",
              "<table border=\"1\" class=\"dataframe\">\n",
              "  <thead>\n",
              "    <tr style=\"text-align: right;\">\n",
              "      <th></th>\n",
              "      <th>Adj Close</th>\n",
              "      <th>change_categorical</th>\n",
              "      <th>daily_change_pred</th>\n",
              "      <th>Volume</th>\n",
              "      <th>daily_change</th>\n",
              "      <th>neg_sentiment</th>\n",
              "      <th>neu_sentiment</th>\n",
              "      <th>pos_sentiment</th>\n",
              "      <th>compound_sentiment</th>\n",
              "      <th>tweets_count</th>\n",
              "    </tr>\n",
              "    <tr>\n",
              "      <th>Date</th>\n",
              "      <th></th>\n",
              "      <th></th>\n",
              "      <th></th>\n",
              "      <th></th>\n",
              "      <th></th>\n",
              "      <th></th>\n",
              "      <th></th>\n",
              "      <th></th>\n",
              "      <th></th>\n",
              "      <th></th>\n",
              "    </tr>\n",
              "  </thead>\n",
              "  <tbody>\n",
              "    <tr>\n",
              "      <th>2015-11-20</th>\n",
              "      <td>44.001999</td>\n",
              "      <td>Decrease</td>\n",
              "      <td>-1.027225</td>\n",
              "      <td>22003500.0</td>\n",
              "      <td>-0.807037</td>\n",
              "      <td>0.078</td>\n",
              "      <td>0.726</td>\n",
              "      <td>0.196</td>\n",
              "      <td>0.8481</td>\n",
              "      <td>6.0</td>\n",
              "    </tr>\n",
              "    <tr>\n",
              "      <th>2015-11-23</th>\n",
              "      <td>43.549999</td>\n",
              "      <td>Increase</td>\n",
              "      <td>0.229626</td>\n",
              "      <td>12631000.0</td>\n",
              "      <td>-1.027225</td>\n",
              "      <td>NaN</td>\n",
              "      <td>NaN</td>\n",
              "      <td>NaN</td>\n",
              "      <td>NaN</td>\n",
              "      <td>NaN</td>\n",
              "    </tr>\n",
              "    <tr>\n",
              "      <th>2015-11-24</th>\n",
              "      <td>43.650002</td>\n",
              "      <td>Increase</td>\n",
              "      <td>5.218785</td>\n",
              "      <td>12401500.0</td>\n",
              "      <td>0.229626</td>\n",
              "      <td>0.020</td>\n",
              "      <td>0.821</td>\n",
              "      <td>0.158</td>\n",
              "      <td>0.9545</td>\n",
              "      <td>8.0</td>\n",
              "    </tr>\n",
              "    <tr>\n",
              "      <th>2015-11-25</th>\n",
              "      <td>45.928001</td>\n",
              "      <td>Increase</td>\n",
              "      <td>0.857858</td>\n",
              "      <td>19954000.0</td>\n",
              "      <td>5.218785</td>\n",
              "      <td>NaN</td>\n",
              "      <td>NaN</td>\n",
              "      <td>NaN</td>\n",
              "      <td>NaN</td>\n",
              "      <td>NaN</td>\n",
              "    </tr>\n",
              "    <tr>\n",
              "      <th>2015-11-27</th>\n",
              "      <td>46.321999</td>\n",
              "      <td>Decrease</td>\n",
              "      <td>-0.582877</td>\n",
              "      <td>9747000.0</td>\n",
              "      <td>0.857858</td>\n",
              "      <td>NaN</td>\n",
              "      <td>NaN</td>\n",
              "      <td>NaN</td>\n",
              "      <td>NaN</td>\n",
              "      <td>NaN</td>\n",
              "    </tr>\n",
              "    <tr>\n",
              "      <th>2015-11-30</th>\n",
              "      <td>46.051998</td>\n",
              "      <td>Increase</td>\n",
              "      <td>3.009645</td>\n",
              "      <td>13299000.0</td>\n",
              "      <td>-0.582877</td>\n",
              "      <td>NaN</td>\n",
              "      <td>NaN</td>\n",
              "      <td>NaN</td>\n",
              "      <td>NaN</td>\n",
              "      <td>NaN</td>\n",
              "    </tr>\n",
              "    <tr>\n",
              "      <th>2015-12-01</th>\n",
              "      <td>47.438000</td>\n",
              "      <td>Decrease</td>\n",
              "      <td>-2.192337</td>\n",
              "      <td>18670000.0</td>\n",
              "      <td>3.009645</td>\n",
              "      <td>NaN</td>\n",
              "      <td>NaN</td>\n",
              "      <td>NaN</td>\n",
              "      <td>NaN</td>\n",
              "      <td>NaN</td>\n",
              "    </tr>\n",
              "    <tr>\n",
              "      <th>2015-12-02</th>\n",
              "      <td>46.397999</td>\n",
              "      <td>Increase</td>\n",
              "      <td>0.310360</td>\n",
              "      <td>14907500.0</td>\n",
              "      <td>-2.192337</td>\n",
              "      <td>0.000</td>\n",
              "      <td>1.000</td>\n",
              "      <td>0.000</td>\n",
              "      <td>0.0000</td>\n",
              "      <td>1.0</td>\n",
              "    </tr>\n",
              "    <tr>\n",
              "      <th>2015-12-03</th>\n",
              "      <td>46.542000</td>\n",
              "      <td>Decrease</td>\n",
              "      <td>-1.001245</td>\n",
              "      <td>14698000.0</td>\n",
              "      <td>0.310360</td>\n",
              "      <td>0.000</td>\n",
              "      <td>0.756</td>\n",
              "      <td>0.244</td>\n",
              "      <td>0.4404</td>\n",
              "      <td>1.0</td>\n",
              "    </tr>\n",
              "    <tr>\n",
              "      <th>2015-12-04</th>\n",
              "      <td>46.076000</td>\n",
              "      <td>Increase</td>\n",
              "      <td>0.325552</td>\n",
              "      <td>12868000.0</td>\n",
              "      <td>-1.001245</td>\n",
              "      <td>0.000</td>\n",
              "      <td>0.694</td>\n",
              "      <td>0.306</td>\n",
              "      <td>0.4753</td>\n",
              "      <td>1.0</td>\n",
              "    </tr>\n",
              "    <tr>\n",
              "      <th>2015-12-07</th>\n",
              "      <td>46.226002</td>\n",
              "      <td>Decrease</td>\n",
              "      <td>-1.908017</td>\n",
              "      <td>15721000.0</td>\n",
              "      <td>0.325552</td>\n",
              "      <td>NaN</td>\n",
              "      <td>NaN</td>\n",
              "      <td>NaN</td>\n",
              "      <td>NaN</td>\n",
              "      <td>NaN</td>\n",
              "    </tr>\n",
              "    <tr>\n",
              "      <th>2015-12-08</th>\n",
              "      <td>45.344002</td>\n",
              "      <td>Decrease</td>\n",
              "      <td>-0.970365</td>\n",
              "      <td>13438000.0</td>\n",
              "      <td>-1.908017</td>\n",
              "      <td>NaN</td>\n",
              "      <td>NaN</td>\n",
              "      <td>NaN</td>\n",
              "      <td>NaN</td>\n",
              "      <td>NaN</td>\n",
              "    </tr>\n",
              "    <tr>\n",
              "      <th>2015-12-09</th>\n",
              "      <td>44.903999</td>\n",
              "      <td>Increase</td>\n",
              "      <td>1.135761</td>\n",
              "      <td>15289000.0</td>\n",
              "      <td>-0.970365</td>\n",
              "      <td>0.000</td>\n",
              "      <td>0.000</td>\n",
              "      <td>1.000</td>\n",
              "      <td>0.5859</td>\n",
              "      <td>1.0</td>\n",
              "    </tr>\n",
              "    <tr>\n",
              "      <th>2015-12-10</th>\n",
              "      <td>45.414001</td>\n",
              "      <td>Decrease</td>\n",
              "      <td>-4.425953</td>\n",
              "      <td>10358500.0</td>\n",
              "      <td>1.135761</td>\n",
              "      <td>0.124</td>\n",
              "      <td>0.876</td>\n",
              "      <td>0.000</td>\n",
              "      <td>-0.3400</td>\n",
              "      <td>1.0</td>\n",
              "    </tr>\n",
              "    <tr>\n",
              "      <th>2015-12-11</th>\n",
              "      <td>43.403999</td>\n",
              "      <td>Increase</td>\n",
              "      <td>0.718828</td>\n",
              "      <td>16343500.0</td>\n",
              "      <td>-4.425953</td>\n",
              "      <td>0.000</td>\n",
              "      <td>1.000</td>\n",
              "      <td>0.000</td>\n",
              "      <td>0.0000</td>\n",
              "      <td>1.0</td>\n",
              "    </tr>\n",
              "    <tr>\n",
              "      <th>2015-12-14</th>\n",
              "      <td>43.716000</td>\n",
              "      <td>Increase</td>\n",
              "      <td>1.148318</td>\n",
              "      <td>14135500.0</td>\n",
              "      <td>0.718828</td>\n",
              "      <td>NaN</td>\n",
              "      <td>NaN</td>\n",
              "      <td>NaN</td>\n",
              "      <td>NaN</td>\n",
              "      <td>NaN</td>\n",
              "    </tr>\n",
              "    <tr>\n",
              "      <th>2015-12-15</th>\n",
              "      <td>44.217999</td>\n",
              "      <td>Increase</td>\n",
              "      <td>6.069931</td>\n",
              "      <td>11222000.0</td>\n",
              "      <td>1.148318</td>\n",
              "      <td>NaN</td>\n",
              "      <td>NaN</td>\n",
              "      <td>NaN</td>\n",
              "      <td>NaN</td>\n",
              "      <td>NaN</td>\n",
              "    </tr>\n",
              "    <tr>\n",
              "      <th>2015-12-16</th>\n",
              "      <td>46.902000</td>\n",
              "      <td>Decrease</td>\n",
              "      <td>-0.477589</td>\n",
              "      <td>25521500.0</td>\n",
              "      <td>6.069931</td>\n",
              "      <td>NaN</td>\n",
              "      <td>NaN</td>\n",
              "      <td>NaN</td>\n",
              "      <td>NaN</td>\n",
              "      <td>NaN</td>\n",
              "    </tr>\n",
              "    <tr>\n",
              "      <th>2015-12-17</th>\n",
              "      <td>46.678001</td>\n",
              "      <td>Decrease</td>\n",
              "      <td>-1.255414</td>\n",
              "      <td>16493000.0</td>\n",
              "      <td>-0.477589</td>\n",
              "      <td>0.000</td>\n",
              "      <td>1.000</td>\n",
              "      <td>0.000</td>\n",
              "      <td>0.0000</td>\n",
              "      <td>1.0</td>\n",
              "    </tr>\n",
              "    <tr>\n",
              "      <th>2015-12-18</th>\n",
              "      <td>46.091999</td>\n",
              "      <td>Increase</td>\n",
              "      <td>0.911225</td>\n",
              "      <td>15071000.0</td>\n",
              "      <td>-1.255414</td>\n",
              "      <td>0.084</td>\n",
              "      <td>0.905</td>\n",
              "      <td>0.011</td>\n",
              "      <td>-0.8061</td>\n",
              "      <td>8.0</td>\n",
              "    </tr>\n",
              "  </tbody>\n",
              "</table>\n",
              "</div>"
            ],
            "text/plain": [
              "            Adj Close change_categorical  ...  compound_sentiment  tweets_count\n",
              "Date                                      ...                                  \n",
              "2015-11-20  44.001999           Decrease  ...              0.8481           6.0\n",
              "2015-11-23  43.549999           Increase  ...                 NaN           NaN\n",
              "2015-11-24  43.650002           Increase  ...              0.9545           8.0\n",
              "2015-11-25  45.928001           Increase  ...                 NaN           NaN\n",
              "2015-11-27  46.321999           Decrease  ...                 NaN           NaN\n",
              "2015-11-30  46.051998           Increase  ...                 NaN           NaN\n",
              "2015-12-01  47.438000           Decrease  ...                 NaN           NaN\n",
              "2015-12-02  46.397999           Increase  ...              0.0000           1.0\n",
              "2015-12-03  46.542000           Decrease  ...              0.4404           1.0\n",
              "2015-12-04  46.076000           Increase  ...              0.4753           1.0\n",
              "2015-12-07  46.226002           Decrease  ...                 NaN           NaN\n",
              "2015-12-08  45.344002           Decrease  ...                 NaN           NaN\n",
              "2015-12-09  44.903999           Increase  ...              0.5859           1.0\n",
              "2015-12-10  45.414001           Decrease  ...             -0.3400           1.0\n",
              "2015-12-11  43.403999           Increase  ...              0.0000           1.0\n",
              "2015-12-14  43.716000           Increase  ...                 NaN           NaN\n",
              "2015-12-15  44.217999           Increase  ...                 NaN           NaN\n",
              "2015-12-16  46.902000           Decrease  ...                 NaN           NaN\n",
              "2015-12-17  46.678001           Decrease  ...              0.0000           1.0\n",
              "2015-12-18  46.091999           Increase  ...             -0.8061           8.0\n",
              "\n",
              "[20 rows x 10 columns]"
            ]
          },
          "metadata": {
            "tags": []
          },
          "execution_count": 61
        }
      ]
    },
    {
      "cell_type": "code",
      "metadata": {
        "id": "aAPUx2hlBhzE"
      },
      "source": [
        "# When Elon Musk does not tweet, tweet count returns a NaN value\n",
        "# This we must fill we the value 0 to show that there is no tweet\n",
        "\n",
        "merged['tweets_count'] = merged['tweets_count'].fillna(0)\n",
        "merged['tweets_count'] = merged['tweets_count'].round()"
      ],
      "execution_count": 62,
      "outputs": []
    },
    {
      "cell_type": "markdown",
      "metadata": {
        "id": "fjCBZN8YbhiX"
      },
      "source": [
        "As we are missing sentiment scores for the trading days where elon musk did not tweet we use the fill forward method (using the sentiment score of the previous day(s))."
      ]
    },
    {
      "cell_type": "code",
      "metadata": {
        "id": "d3S1MnefrPNE",
        "colab": {
          "base_uri": "https://localhost:8080/",
          "height": 227
        },
        "outputId": "b7b28eb0-6414-4425-d8a3-8815454ab0bd"
      },
      "source": [
        "# Filling forward rows with no tweets\n",
        "merged['neg_sentiment'].ffill(axis = 0, inplace=True)\n",
        "merged['neu_sentiment'].ffill(axis = 0, inplace=True)\n",
        "merged['pos_sentiment'].ffill(axis = 0, inplace=True)\n",
        "merged['compound_sentiment'].ffill(axis = 0, inplace=True)\n",
        "\n",
        "merged.head()"
      ],
      "execution_count": 63,
      "outputs": [
        {
          "output_type": "execute_result",
          "data": {
            "text/html": [
              "<div>\n",
              "<style scoped>\n",
              "    .dataframe tbody tr th:only-of-type {\n",
              "        vertical-align: middle;\n",
              "    }\n",
              "\n",
              "    .dataframe tbody tr th {\n",
              "        vertical-align: top;\n",
              "    }\n",
              "\n",
              "    .dataframe thead th {\n",
              "        text-align: right;\n",
              "    }\n",
              "</style>\n",
              "<table border=\"1\" class=\"dataframe\">\n",
              "  <thead>\n",
              "    <tr style=\"text-align: right;\">\n",
              "      <th></th>\n",
              "      <th>Adj Close</th>\n",
              "      <th>change_categorical</th>\n",
              "      <th>daily_change_pred</th>\n",
              "      <th>Volume</th>\n",
              "      <th>daily_change</th>\n",
              "      <th>neg_sentiment</th>\n",
              "      <th>neu_sentiment</th>\n",
              "      <th>pos_sentiment</th>\n",
              "      <th>compound_sentiment</th>\n",
              "      <th>tweets_count</th>\n",
              "    </tr>\n",
              "    <tr>\n",
              "      <th>Date</th>\n",
              "      <th></th>\n",
              "      <th></th>\n",
              "      <th></th>\n",
              "      <th></th>\n",
              "      <th></th>\n",
              "      <th></th>\n",
              "      <th></th>\n",
              "      <th></th>\n",
              "      <th></th>\n",
              "      <th></th>\n",
              "    </tr>\n",
              "  </thead>\n",
              "  <tbody>\n",
              "    <tr>\n",
              "      <th>2015-11-20</th>\n",
              "      <td>44.001999</td>\n",
              "      <td>Decrease</td>\n",
              "      <td>-1.027225</td>\n",
              "      <td>22003500.0</td>\n",
              "      <td>-0.807037</td>\n",
              "      <td>0.078</td>\n",
              "      <td>0.726</td>\n",
              "      <td>0.196</td>\n",
              "      <td>0.8481</td>\n",
              "      <td>6.0</td>\n",
              "    </tr>\n",
              "    <tr>\n",
              "      <th>2015-11-23</th>\n",
              "      <td>43.549999</td>\n",
              "      <td>Increase</td>\n",
              "      <td>0.229626</td>\n",
              "      <td>12631000.0</td>\n",
              "      <td>-1.027225</td>\n",
              "      <td>0.078</td>\n",
              "      <td>0.726</td>\n",
              "      <td>0.196</td>\n",
              "      <td>0.8481</td>\n",
              "      <td>0.0</td>\n",
              "    </tr>\n",
              "    <tr>\n",
              "      <th>2015-11-24</th>\n",
              "      <td>43.650002</td>\n",
              "      <td>Increase</td>\n",
              "      <td>5.218785</td>\n",
              "      <td>12401500.0</td>\n",
              "      <td>0.229626</td>\n",
              "      <td>0.020</td>\n",
              "      <td>0.821</td>\n",
              "      <td>0.158</td>\n",
              "      <td>0.9545</td>\n",
              "      <td>8.0</td>\n",
              "    </tr>\n",
              "    <tr>\n",
              "      <th>2015-11-25</th>\n",
              "      <td>45.928001</td>\n",
              "      <td>Increase</td>\n",
              "      <td>0.857858</td>\n",
              "      <td>19954000.0</td>\n",
              "      <td>5.218785</td>\n",
              "      <td>0.020</td>\n",
              "      <td>0.821</td>\n",
              "      <td>0.158</td>\n",
              "      <td>0.9545</td>\n",
              "      <td>0.0</td>\n",
              "    </tr>\n",
              "    <tr>\n",
              "      <th>2015-11-27</th>\n",
              "      <td>46.321999</td>\n",
              "      <td>Decrease</td>\n",
              "      <td>-0.582877</td>\n",
              "      <td>9747000.0</td>\n",
              "      <td>0.857858</td>\n",
              "      <td>0.020</td>\n",
              "      <td>0.821</td>\n",
              "      <td>0.158</td>\n",
              "      <td>0.9545</td>\n",
              "      <td>0.0</td>\n",
              "    </tr>\n",
              "  </tbody>\n",
              "</table>\n",
              "</div>"
            ],
            "text/plain": [
              "            Adj Close change_categorical  ...  compound_sentiment  tweets_count\n",
              "Date                                      ...                                  \n",
              "2015-11-20  44.001999           Decrease  ...              0.8481           6.0\n",
              "2015-11-23  43.549999           Increase  ...              0.8481           0.0\n",
              "2015-11-24  43.650002           Increase  ...              0.9545           8.0\n",
              "2015-11-25  45.928001           Increase  ...              0.9545           0.0\n",
              "2015-11-27  46.321999           Decrease  ...              0.9545           0.0\n",
              "\n",
              "[5 rows x 10 columns]"
            ]
          },
          "metadata": {
            "tags": []
          },
          "execution_count": 63
        }
      ]
    },
    {
      "cell_type": "code",
      "metadata": {
        "id": "SslYS4uOvz7R"
      },
      "source": [
        "# Importing as csv (for machine learning code)\n",
        "#from google.colab import drive\n",
        "#drive.mount('drive')"
      ],
      "execution_count": 64,
      "outputs": []
    },
    {
      "cell_type": "code",
      "metadata": {
        "id": "ncQXXAzq0okW"
      },
      "source": [
        "#merged.to_csv('merged.csv') \n",
        "#!cp merged.csv \"drive/My Drive/\""
      ],
      "execution_count": 65,
      "outputs": []
    },
    {
      "cell_type": "markdown",
      "metadata": {
        "id": "PHliHno3b2a_"
      },
      "source": [
        "## Exploring combined data"
      ]
    },
    {
      "cell_type": "code",
      "metadata": {
        "colab": {
          "base_uri": "https://localhost:8080/",
          "height": 484
        },
        "id": "hj02nKXKT20v",
        "outputId": "c7926289-5255-443f-9167-17b15de51cb2"
      },
      "source": [
        "#Tweet frequency per day\n",
        "merged.tweets_count.value_counts().plot.bar(figsize=(14, 7), fontsize=14)\n",
        "plt.xlabel(\"Number of tweets\", fontsize=14)\n",
        "plt.ylabel(\"Tweet frequence\", fontsize=14)\n",
        "plt.title(\"Tweet frequency per day\")\n",
        "plt.show()"
      ],
      "execution_count": 66,
      "outputs": [
        {
          "output_type": "display_data",
          "data": {
            "image/png": "[encoded data removed]",
            "text/plain": [
              "<Figure size 1008x504 with 1 Axes>"
            ]
          },
          "metadata": {
            "tags": [],
            "needs_background": "light"
          }
        }
      ]
    },
    {
      "cell_type": "code",
      "metadata": {
        "id": "1gCiym96xD0N"
      },
      "source": [
        "# Set sentiment classifier\n",
        "x = []\n",
        "for row in merged['compound_sentiment']:\n",
        "    if row > 0.05:\n",
        "       x.append('Positive')\n",
        "    elif row < -0.05:\n",
        "       x.append('Negative')\n",
        "    else: \n",
        "      x.append('Neutral')\n",
        "\n",
        "merged['sentiment_classifier'] = x"
      ],
      "execution_count": 67,
      "outputs": []
    },
    {
      "cell_type": "code",
      "metadata": {
        "colab": {
          "base_uri": "https://localhost:8080/",
          "height": 515
        },
        "id": "rxT_lmbC2h4m",
        "outputId": "b009714b-c2f0-4acc-ba8c-40bedbd2f9b8"
      },
      "source": [
        "plt.figure(figsize=(10, 8))\n",
        "sns.boxplot(data=merged, x=merged.sentiment_classifier, y=merged.daily_change_pred, palette=['green','goldenrod','brown'])"
      ],
      "execution_count": 68,
      "outputs": [
        {
          "output_type": "execute_result",
          "data": {
            "text/plain": [
              "<matplotlib.axes._subplots.AxesSubplot at 0x7f04905edb70>"
            ]
          },
          "metadata": {
            "tags": []
          },
          "execution_count": 68
        },
        {
          "output_type": "display_data",
          "data": {
            "image/png": "[encoded data removed]",
            "text/plain": [
              "<Figure size 720x576 with 1 Axes>"
            ]
          },
          "metadata": {
            "tags": [],
            "needs_background": "light"
          }
        }
      ]
    },
    {
      "cell_type": "code",
      "metadata": {
        "colab": {
          "base_uri": "https://localhost:8080/",
          "height": 318
        },
        "id": "O5NFAsq73RWk",
        "outputId": "3c9fc10b-2c24-4834-cf3d-4c6cbcaaa962"
      },
      "source": [
        "# The distribution of sentiment\n",
        "\n",
        "def label_function(val):\n",
        "    return f'{val / 100 * len(merged):.0f}\\n{val:.0f}%'\n",
        "\n",
        "fig, (ax1) = plt.subplots(ncols=1, figsize=(10, 5))\n",
        "\n",
        "merged.groupby('sentiment_classifier').size().plot(kind='pie', autopct=label_function, textprops={'fontsize': 10},\n",
        "                                  colors=['brown', 'goldenrod', 'green'], ax=ax1)\n",
        "plt.title('Distribution of sentiment in combined daily tweets (in %)')\n",
        "plt.ylabel('')\n",
        "\n",
        "plt.show()"
      ],
      "execution_count": 69,
      "outputs": [
        {
          "output_type": "display_data",
          "data": {
            "image/png": "[encoded data removed]",
            "text/plain": [
              "<Figure size 720x360 with 1 Axes>"
            ]
          },
          "metadata": {
            "tags": []
          }
        }
      ]
    },
    {
      "cell_type": "code",
      "metadata": {
        "colab": {
          "base_uri": "https://localhost:8080/",
          "height": 318
        },
        "id": "i0xZ74FCiMsU",
        "outputId": "5fdc99a5-e633-4544-a370-cee2ecafd84c"
      },
      "source": [
        "# The distribution of the movement in stock price (increase / decrease)\n",
        "\n",
        "def label_function(val):\n",
        "    return f'{val / 100 * len(merged):.0f}\\n{val:.0f}%'\n",
        "\n",
        "fig, (ax1) = plt.subplots(ncols=1, figsize=(10, 5))\n",
        "\n",
        "merged.groupby('change_categorical').size().plot(kind='pie', autopct=label_function, textprops={'fontsize': 10},\n",
        "                                  colors=['brown', 'goldenrod'], ax=ax1)\n",
        "plt.title('Distribution of movement in Tesla stock price (in %)')\n",
        "plt.ylabel('')\n",
        "\n",
        "plt.show()"
      ],
      "execution_count": 70,
      "outputs": [
        {
          "output_type": "display_data",
          "data": {
            "image/png": "[encoded data removed]",
            "text/plain": [
              "<Figure size 720x360 with 1 Axes>"
            ]
          },
          "metadata": {
            "tags": []
          }
        }
      ]
    },
    {
      "cell_type": "markdown",
      "metadata": {
        "id": "xQ5F5r2kfA3u"
      },
      "source": [
        "**Convert to pdf**"
      ]
    },
    {
      "cell_type": "code",
      "metadata": {
        "colab": {
          "base_uri": "https://localhost:8080/"
        },
        "id": "4Qsb3aLifB_T",
        "outputId": "e8012ead-1218-4679-bf7c-e9f53da28182"
      },
      "source": [
        "from google.colab import drive \n",
        "drive.mount('/content/drive')"
      ],
      "execution_count": 1,
      "outputs": [
        {
          "output_type": "stream",
          "text": [
            "Mounted at /content/drive\n"
          ],
          "name": "stdout"
        }
      ]
    },
    {
      "cell_type": "code",
      "metadata": {
        "id": "VFys0TRXfFK2"
      },
      "source": [
        "%%capture\n",
        "!wget -nc https://raw.githubusercontent.com/brpy/colab-pdf/master/colab_pdf.py \n",
        "from colab_pdf import colab_pdf \n",
        "colab_pdf('Tweet_sentiment_and_EDA_on_tweets_and_stocks')"
      ],
      "execution_count": 3,
      "outputs": []
    }
  ]
}